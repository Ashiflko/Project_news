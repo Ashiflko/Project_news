{
 "cells": [
  {
   "cell_type": "code",
   "execution_count": 105,
   "metadata": {},
   "outputs": [],
   "source": [
    "from bs4 import BeautifulSoup\n",
    "import requests"
   ]
  },
  {
   "cell_type": "code",
   "execution_count": 106,
   "metadata": {},
   "outputs": [],
   "source": [
    "data = requests.get('https://www.ndtv.com/top-stories')"
   ]
  },
  {
   "cell_type": "code",
   "execution_count": 107,
   "metadata": {},
   "outputs": [
    {
     "name": "stdout",
     "output_type": "stream",
     "text": [
      "success\n"
     ]
    }
   ],
   "source": [
    "if data.status_code == 200:\n",
    "    print('success')\n",
    "elif data.status_code == 404:\n",
    "    print('page not found')\n",
    "elif data.status_code == 500:\n",
    "    print('server error')"
   ]
  },
  {
   "cell_type": "code",
   "execution_count": 108,
   "metadata": {},
   "outputs": [],
   "source": [
    "soup = BeautifulSoup(data.text)"
   ]
  },
  {
   "cell_type": "code",
   "execution_count": 109,
   "metadata": {},
   "outputs": [
    {
     "name": "stdout",
     "output_type": "stream",
     "text": [
      "<h2 class=\"newsHdng\"><a href=\"https://www.ndtv.com/world-news/one-dead-dozens-trapped-after-fire-in-russian-coal-mine-2624030\">One Dead, Dozens Trapped After Fire In Russian Coal Mine</a></h2>\n",
      "https://c.ndtvimg.com/2021-10/r7fkqdas_coal-mine-generic-open-pit-coal-mine-generic-pixabay-photo_120x90_14_October_21.jpg\n",
      "<p class=\"newsCont\">One person died and dozens were trapped after a fire in a coal mine in the Kemerovo region of Russia's Siberia on Thursday, emergency services and local authorities said, with a rescue operation underway that had already saved more than 200 people.</p>\n",
      "<h2 class=\"newsHdng\"><a href=\"https://www.ndtv.com/mumbai-news/2013-mumbai-shakti-mills-gang-rape-case-high-court-changes-death-penalty-to-life-term-2623969\">2013 Mumbai Gang Rape Case: High Court Changes Death Penalty To Life Term</a></h2>\n",
      "https://i.ndtvimg.com/i/2018-02/jail-generic_240x180_61517932508.jpg\n",
      "<p class=\"newsCont\">Bombay High Court today commuted to life imprisonment the death penalty awarded to 3 convicts in the 2013 gang-rape case of a 22-year-old photojournalist inside the defunct Shakti Mills compound in central Mumbai.</p>\n",
      "<h2 class=\"newsHdng\"><a href=\"https://www.ndtv.com/india-news/param-bir-singh-mumbais-former-top-cop-missing-since-october-appears-at-mumbai-crime-branch-2623958\">Mumbai's Former Top Cop Param Bir Singh, Missing Since October, Surfaces</a></h2>\n",
      "https://c.ndtvimg.com/2021-03/vff7m0ss_param-bir-singh-pti_120x90_20_March_21.jpg\n",
      "<p class=\"newsCont\">Ex-Mumbai top cop Param Bir Singh - who faces four cases of extortion and had been missing since October, leading to rumours he had fled the country - has appeared at the city police's Crime Branch office.</p>\n",
      "<h2 class=\"newsHdng\"><a href=\"https://www.ndtv.com/india-news/kangana-ranaut-summoned-by-delhi-assembly-panel-on-december-6-over-her-remarks-against-sikh-community-2623948\">Kangana Ranaut Summoned By Delhi Assembly Panel Over Remarks On Sikhs</a></h2>\n",
      "https://c.ndtvimg.com/2021-10/iqmf0qp_kangana_120x90_25_October_21.jpg\n",
      "<p class=\"newsCont\">Kangana Ranaut summoned by Delhi assembly panel on December 6 over her remarks against Sikh community</p>\n",
      "<h2 class=\"newsHdng\"><a href=\"https://www.ndtv.com/india-news/gujarat-government-slams-rahul-gandhis-baseless-claim-of-3-lakh-covid-19-deaths-in-state-2623501\">Gujarat Government Slams Rahul Gandhi's \"Baseless\" Claim Of 3 Lakh Covid Deaths</a></h2>\n",
      "https://c.ndtvimg.com/2021-10/a9k96008_rahul-gandhi-afp_120x90_06_October_21.jpg\n",
      "<p class=\"newsCont\">Gujarat government strongly refuted Rahul Gandhi's claim that nearly 3 lakh people have died due to COVID-19 so far as against the official tally of around 10,000 and dubbed his remark as an attempt to misguide people and malign the state.</p>\n",
      "<h2 class=\"newsHdng\"><a href=\"https://www.ndtv.com/world-news/diesel-worth-2-million-stolen-from-us-base-in-romania-2623940\">Diesel Worth $2 Million Stolen From US Base In Romania</a></h2>\n",
      "https://c.ndtvimg.com/2020-01/7gksl50s_us-army-reuters_120x90_08_January_20.jpg\n",
      "<p class=\"newsCont\">Seven suspects have been questioned over the theft of diesel fuel worth $2 million from a US military base on the Black Sea in southeastern Romania.</p>\n",
      "<h2 class=\"newsHdng\"><a href=\"https://www.ndtv.com/india-news/amid-tripura-civic-polls-supreme-court-asks-centre-to-deploy-2-additional-companies-of-central-forces-to-secure-booths-2623932\">Send More Forces To Tripura ASAP: Supreme Court To Centre Amid Civic Polls</a></h2>\n",
      "https://c.ndtvimg.com/2021-11/qahar8k_tripura-civic-polls-pti-pic_240x180_25_November_21.jpg\n",
      "<p class=\"newsCont\">Two additional companies of CAPF (central armed police forces) should be deployed in Tripura \"as expeditiously as possible\", the Supreme Court said this morning, amid claims by opposition parties that workers of the ruling BJP were harassing voters.</p>\n",
      "<h2 class=\"newsHdng\"><a href=\"https://www.ndtv.com/world-news/just-all-lies-australian-firm-cpharm-wrongly-named-as-taliban-hashish-partner-2623913\">\"Just All Lies\": Australian Firm Wrongly Named As Taliban Hashish Partner</a></h2>\n",
      "https://c.ndtvimg.com/kk693gvo_ganja-generic-pixabay-240_120x90_04_August_18.jpg\n",
      "<p class=\"newsCont\">A small Australian medical consulting firm got caught up in an unexpected publicity storm on Thursday after being wrongly named as agreeing with Afghanistan's ruling Taliban to bankroll a $450 million hashish processing plant in Central Asian country</p>\n",
      "<h2 class=\"newsHdng\"><a href=\"https://www.ndtv.com/world-news/jp-morgan-ceo-regrets-comment-on-bank-outlasting-china-communist-party-2623898\">JP Morgan CEO Regrets Comment On Bank Outlasting China Communist Party</a></h2>\n",
      "https://c.ndtvimg.com/2021-11/f2re0t2s_jamie-dimon-reuters_120x90_25_November_21.jpg\n",
      "<p class=\"newsCont\">JPMorgan Chase Chief Executive Jamie Dimon said on Wednesday he regretted his remarks that the Wall Street bank would last longer than China's Communist Party (CPC), moving quickly to avoid any longer-term fallout.</p>\n",
      "<h2 class=\"newsHdng\"><a href=\"https://www.ndtv.com/india-news/india-records-9-119-fresh-covid-19-cases-marginally-lower-than-yesterday-2623844\">India Records 9,119 Fresh COVID-19 Cases, Marginally Lower Than Yesterday</a></h2>\n",
      "https://c.ndtvimg.com/2021-04/vprjr52s_delhi-covid-144_120x90_14_April_21.jpg\n",
      "<p class=\"newsCont\">India logged 9,119 new coronavirus infections taking the country's total tally of COVID-19 cases to 3,45,44,882, while the active cases declined to 1,09,940, the lowest in 539 days.</p>\n",
      "<h2 class=\"newsHdng\"><a href=\"https://www.ndtv.com/india-news/vigilant-valiant-victorious-indian-navy-gets-brand-new-scorpene-submarine-ins-vela-2623843\">Watch: INS Vela, 4th Stealth Scorpene-Class Submarine, Inducted</a></h2>\n",
      "https://c.ndtvimg.com/2021-11/hdhad858_ins-vela-scorpene-submarine_120x90_25_November_21.jpg\n",
      "<p class=\"newsCont\">The Indian Navy has welcomed into its fleet its brand new submarine, the INS Vela, a French designed Scorpene-class submarine built by the government-owned Mazagon Dock Shipbuilders Ltd, or MDL.</p>\n",
      "<h2 class=\"newsHdng\"><a href=\"https://www.ndtv.com/india-news/noida-airport-pm-modi-pm-modi-to-lay-foundation-stone-of-noida-international-airport-at-1-pm-2623840\">PM To Launch Noida International Airport Today, UP's Fifth: 10 Points</a></h2>\n",
      "https://c.ndtvimg.com/2021-11/dqql8pj_noida-international-airport_240x180_25_November_21.jpg\n",
      "<p class=\"newsCont\">Prime Minister Narendra Modi will lay the foundation stone of the Noida International Airport in Uttar Pradesh's Gautam Buddh Nagar at 1 pm. This will be UP's ninth airport and its fifth international airport - the most of any state.</p>\n",
      "<h2 class=\"newsHdng\"><a href=\"https://www.ndtv.com/goa-news/goa-dentists-wear-black-bands-in-interaction-with-bjp-president-to-protest-biomedical-waste-handling-costs-2623827\">Goa Dentists Interact With BJP President, Wear Black Arm Bands In Protest</a></h2>\n",
      "https://c.ndtvimg.com/2021-08/rniv8tqo_jp-nadda_120x90_12_August_21.jpg\n",
      "<p class=\"newsCont\">A group of private dentists in Goa wore black arm bands during an interaction with BJP president JP Nadda to register their protest against the recent hike in biomedical waste handling charges by the state government.</p>\n",
      "<h2 class=\"newsHdng\"><a href=\"https://www.ndtv.com/india-news/covaxin-meets-who-criteria-for-delta-shows-lancet-study-bharat-biotech-2623817\">Covaxin Meets WHO Criteria For Delta, Shows Lancet Study: Bharat Biotech</a></h2>\n",
      "https://c.ndtvimg.com/2021-10/do328l9g_bharat-biotech-covaxinreuters_120x90_26_October_21.jpg\n",
      "<p class=\"newsCont\">Hyderabad-based Bharat Biotech has said that the results compare well with 65.2 per cent efficacy against Delta variant obtained during controlled phase 3 clinical trials of COVAXIN conducted among the general population.</p>\n",
      "<h2 class=\"newsHdng\"><a href=\"https://www.ndtv.com/delhi-news/one-arrested-for-stabbing-25-year-old-to-death-in-delhi-police-2623804\">One Arrested For Stabbing 25-Year-Old To Death In Delhi: Police</a></h2>\n",
      "https://c.ndtvimg.com/2019-05/hbh1qqso_delhi-police-generic_120x90_27_May_19.jpg\n",
      "<p class=\"newsCont\">A 25-year-old man was allegedly stabbed to death in West Delhi's Rajouri Garden area on Wednesday.</p>\n"
     ]
    }
   ],
   "source": [
    "rows = soup.findAll('div', { 'class' : 'news_Itm' })\n",
    "for row in rows:\n",
    "    if 'adBg' not in row.attrs.get('class'):\n",
    "        #print(row)\n",
    "        print(row.find('h2',{'class':'newsHdng'}))\n",
    "        print(row.find('img').attrs.get('src'))\n",
    "        print(row.find('p',{'class':'newsCont'}))\n",
    "        \n",
    "        \n",
    "        \n",
    "    \n",
    "    "
   ]
  },
  {
   "cell_type": "code",
   "execution_count": 110,
   "metadata": {},
   "outputs": [],
   "source": [
    "url1 = \"https://www.indiatoday.in/top-stories\""
   ]
  },
  {
   "cell_type": "code",
   "execution_count": 111,
   "metadata": {},
   "outputs": [],
   "source": [
    "data1 = requests.get(url1)"
   ]
  },
  {
   "cell_type": "code",
   "execution_count": 112,
   "metadata": {},
   "outputs": [
    {
     "name": "stdout",
     "output_type": "stream",
     "text": [
      "success\n"
     ]
    }
   ],
   "source": [
    "if data1.status_code == 200:\n",
    "    print('success')\n",
    "elif data1.status_code == 404:\n",
    "    print('page not found')\n",
    "elif data1.status_code == 500:\n",
    "    print('server error')"
   ]
  },
  {
   "cell_type": "code",
   "execution_count": 113,
   "metadata": {},
   "outputs": [],
   "source": [
    "soup1 = BeautifulSoup(data1.text)"
   ]
  },
  {
   "cell_type": "code",
   "execution_count": 114,
   "metadata": {},
   "outputs": [],
   "source": [
    "rows1 = soup1.findAll('div', { 'class' : 'catagory-listing' })"
   ]
  },
  {
   "cell_type": "code",
   "execution_count": 115,
   "metadata": {},
   "outputs": [
    {
     "data": {
      "text/plain": [
       "12"
      ]
     },
     "execution_count": 115,
     "metadata": {},
     "output_type": "execute_result"
    }
   ],
   "source": [
    "len(rows1)"
   ]
  },
  {
   "cell_type": "code",
   "execution_count": 116,
   "metadata": {},
   "outputs": [
    {
     "name": "stdout",
     "output_type": "stream",
     "text": [
      "<title>Top Headlines: News Headlines, Top News, India, Sports, Business, Politics, Entertainment, Celebrities, Lifestyle, Exclusive stories</title>\n",
      "Top Headlines: News Headlines, Top News, India, Sports, Business, Politics, Entertainment, Celebrities, Lifestyle, Exclusive stories\n"
     ]
    }
   ],
   "source": [
    "print(soup1.title)\n",
    "print(soup1.title.string)"
   ]
  },
  {
   "cell_type": "code",
   "execution_count": 117,
   "metadata": {},
   "outputs": [
    {
     "name": "stdout",
     "output_type": "stream",
     "text": [
      "<a href=\"/india/story/up-to-become-first-5-international-airports-inauguration-of-jewar-airport-1880608-2021-11-25\">UP to become first to have 5 international airports with inauguration of Jewar airport</a>\n",
      "https://akm-img-a-in.tosshub.com/indiatoday/images/story/202111/tripurapic1_1200x768.jpeg?IoDo4l4HhhWXcFPLSDAlcObpzTztFcuY&size=170:96\n",
      "<p>Prime Minister Narendra Modi will lay the foundation stone for the\n",
      "much-awaited Noida International Airport in Jewar on Thursday. With the\n",
      "landmark event, Uttar Pradesh will become the first in the country to have\n",
      "five international airports.</p>\n",
      "<a href=\"/india/story/supreme-court-tripura-civic-polls-mha-central-forces-fair-polling-1880604-2021-11-25\">Tripura civic polls: Supreme Court orders deployment of additional Central forces</a>\n",
      "https://akm-img-a-in.tosshub.com/indiatoday/images/story/202111/supreme-court-647_050916111154_1200x768.jpeg?CJaMeI5BSSbB3R_Xq5d0HFgKxdi_oftm&size=170:96\n",
      "<p>The Supreme Court has directed the MHA to 'expeditiously' deploy additional\n",
      "forces of the CAPF to ensure smooth polling in the Tripura civic body\n",
      "elections.</p>\n",
      "<a href=\"/movies/celebrities/story/alia-bhatt-ranveer-singh-dance-to-brown-munde-at-ap-dhillon-s-concert-in-gurugram-see-clip-1880598-2021-11-25\">Alia Bhatt, Ranveer Singh dance to Brown Munde at AP Dhillon's concert in Gurugram. See clip</a>\n",
      "https://akm-img-a-in.tosshub.com/indiatoday/images/story/202111/pjimage_(3)_10.jpg?wG_fyfwX8qcddu9xfLUQbSHbU5Ag9NCQ&size=170:96\n",
      "<p>Alia Bhatt and Ranveer Singh were recently spotted at AP Dhillon's concert.\n",
      "They were seen enjoying and grooving to Brown Munde beats.</p>\n",
      "<a href=\"/movies/bollywood/story/bhediya-first-look-out-varun-dhawan-looks-dangerous-as-he-embraces-his-wolf-avatar-1880596-2021-11-25\">Bhediya first look out. Varun Dhawan looks dangerous as he embraces his wolf avatar</a>\n",
      "https://akm-img-a-in.tosshub.com/indiatoday/images/story/202111/imgonline-com-ua-FrameBlurred-_5_1200x768.jpeg?JFmecMifAblEFk503Mpn2SaPJxVd4ZkZ&size=170:96\n",
      "<p>The first look of Varun Dhawan’s Bhediya dropped today, November 25. The\n",
      "horror comedy stars Kriti Sanon as the female lead.</p>\n",
      "<a href=\"/binge-watch/story/aarya-season-2-trailer-out-sushmita-sen-is-fierce-as-she-is-back-as-the-unwilling-outlaw-1880587-2021-11-25\">Aarya Season 2 trailer out: Fierce Sushmita Sen is back as the unwilling outlaw</a>\n",
      "https://akm-img-a-in.tosshub.com/indiatoday/images/story/202111/Sushmita_sen_aarya_2_trailer_1200x768.jpeg?GQ6_.I6RCsxxMp5BJ9JIeseSvFdkYBfR&size=170:96\n",
      "<p>Disney+Hotstar dropped the trailer of Aarya Season 2 today, November 25.\n",
      "Sushmita Sen is back in fierce avatar who will go to any extent to save her\n",
      "family.</p>\n",
      "<a href=\"/sports/cricket/story/tim-paine-best-wicketkeeper-australia-backing-nathan-lyon-ashes-2021-22-1880591-2021-11-25\">Ashes: Tim Paine the best wicketkeeper, should be selected for Gabba Test - Lyon</a>\n",
      "https://akm-img-a-in.tosshub.com/indiatoday/images/story/202111/timpaine_1200x768.jpeg?Mq4koV6qE2tOQN09NyjZ8fZz_SfUynsx&size=170:96\n",
      "<p>Ashes 2021-22: Nathan Lyon said he wants the 'best wicketkeeper' Tim Paine to\n",
      "take the gloves in the opening Test against England at the Gabba, saying the\n",
      "dressing room fully backs the former captain.</p>\n",
      "<a href=\"/india/story/bombay-high-court-death-sentences-shakti-mill-gang-rape-convicts-1880583-2021-11-25\">Bombay HC sets aside death sentences to Shakti Mills gang-rape convicts, says public outcry can't guide verdict</a>\n",
      "https://akm-img-a-in.tosshub.com/indiatoday/images/story/202111/rape_9_1200x768.jpeg?GMt8Xqn0qbFLPoZp5aBogkWVC6ldCR3_&size=170:96\n",
      "<p>The Bombay High Court, while setting aside the death sentences to the\n",
      "convicts in the Shakti Mills gang-rape case, said public outcry cannot guide\n",
      "the court's judgment.</p>\n",
      "<a href=\"/movies/regional-cinema/story/samantha-has-this-to-say-about-priyanka-chopra-roasting-her-husband-nick-jonas-1880575-2021-11-25\">Samantha has this to say about Priyanka roasting Nick Jonas</a>\n",
      "https://akm-img-a-in.tosshub.com/indiatoday/images/story/202111/Samantha_Priyanka_Chopra_roast.jpg?VP2o4K_ic4j7SU59x4uPZWXIQtol_GVo&size=170:96\n",
      "<p>Samantha recently watched Jonas Brothers Family Roast on Netflix and reacted\n",
      "to it. She shared a clip of Priyanka Chopra roasting her husband Nick on the\n",
      "show.</p>\n",
      "<a href=\"/movies/hollywood/story/encanto-movie-review-disney-film-is-enchanting-with-its-dazzling-animation-1880569-2021-11-25\">Encanto Movie Review: Disney film is enchanting with its dazzling animation</a>\n",
      "https://akm-img-a-in.tosshub.com/indiatoday/images/story/202111/Disney_encanto_review_1200x768.jpeg?f2NKMKdWHZsqRpSJaCk4v4eT0qEuNYXG&size=170:96\n",
      "<p>Disney's latest offering, Encanto, hits the right notes with its amazing\n",
      "animation and loveable characters. The film released in theatres on November\n",
      "26.</p>\n",
      "<a href=\"/movies/star-kids/story/shah-rukh-khan-s-daughter-suhana-is-heartbroken-as-she-leaves-new-york-see-post-1880578-2021-11-25\">Shah Rukh Khan’s daughter Suhana is heartbroken as she leaves New York. See post</a>\n",
      "https://akm-img-a-in.tosshub.com/indiatoday/images/story/202111/pjimage_(2)_17.jpg?o6JeiIM22HIDr2W7ffe7BcFfoWpMbwue&size=170:96\n",
      "<p>Shah Rukh Khan’s daughter, Suhana Khan, is heartbroken about leaving New\n",
      "York. She is studying filmmaking at New York University.</p>\n",
      "<a href=\"/business/story/cryptocurrency-prices-today-check-bitcoin-ether-dogecoin-cardano-litecoin-rates-trends-1880579-2021-11-25\">Cryptocurrency prices today: Bitcoin, Ether rise slightly after falling; altcoins struggle</a>\n",
      "https://akm-img-a-in.tosshub.com/indiatoday/images/story/202111/cryptocurrency-prices-november_2_1200x768.png?edxfjVgyWBRauZi3GLd5r0.LrSSRQnDQ&size=170:96\n",
      "<p>Cryptocurrency prices have remained mixed over the past 24 hours, with\n",
      "Bitcoin and Ether rising marginally. Check the latest cryptocurrency prices\n",
      "and trends.</p>\n",
      "<a href=\"/india/story/-have-faith-judiciary-ex-mumbai-top-cop-param-bir-singh-joins-probe-supreme-court-order-1880576-2021-11-25\">'Have faith in judiciary': Param Bir Singh reaches Mumbai, joins probe on SC order | Exclusive</a>\n",
      "https://akm-img-a-in.tosshub.com/indiatoday/images/story/202111/Param_Bir_Sin_1200x768.jpeg?ZpvPLrxehj6ZH3k9wdEtRdLd_3GRWjcI&size=170:96\n",
      "<p>Ex-Mumbai top cop Param Bir Singh, who was declared a proclaimed offender by\n",
      "a Mumbai magistrate, said he has arrived in Mumbai to join the probe into\n",
      "extortion allegations against him.</p>\n"
     ]
    }
   ],
   "source": [
    "for row in rows1:\n",
    "        print(row.find('a'))\n",
    "        print(row.find('img').attrs.get('src'))\n",
    "        print(row.find('p'))"
   ]
  },
  {
   "cell_type": "code",
   "execution_count": 118,
   "metadata": {},
   "outputs": [
    {
     "name": "stdout",
     "output_type": "stream",
     "text": [
      " UP to become first to have 5 international airports with inauguration of Jewar airportPrime Minister Narendra Modi will lay the foundation stone for the\n",
      "much-awaited Noida International Airport in Jewar on Thursday. With the\n",
      "landmark event, Uttar Pradesh will become the first in the country to have\n",
      "five international airports.\n",
      "\n",
      "\n",
      "<img alt=\"\" data-preview-url=\"\" src=\"https://akm-img-a-in.tosshub.com/indiatoday/images/story/202111/tripurapic1_1200x768.jpeg?IoDo4l4HhhWXcFPLSDAlcObpzTztFcuY&amp;size=170:96\" title=\"\"/>\n",
      "\n",
      "\n",
      "<p>Prime Minister Narendra Modi will lay the foundation stone for the\n",
      "much-awaited Noida International Airport in Jewar on Thursday. With the\n",
      "landmark event, Uttar Pradesh will become the first in the country to have\n",
      "five international airports.</p>\n",
      "\n",
      "\n",
      " Tripura civic polls: Supreme Court orders deployment of additional Central forcesThe Supreme Court has directed the MHA to 'expeditiously' deploy additional\n",
      "forces of the CAPF to ensure smooth polling in the Tripura civic body\n",
      "elections.\n",
      "\n",
      "\n",
      "<img alt=\"\" data-preview-url=\"\" src=\"https://akm-img-a-in.tosshub.com/indiatoday/images/story/202111/supreme-court-647_050916111154_1200x768.jpeg?CJaMeI5BSSbB3R_Xq5d0HFgKxdi_oftm&amp;size=170:96\" title=\"\"/>\n",
      "\n",
      "\n",
      "<p>The Supreme Court has directed the MHA to 'expeditiously' deploy additional\n",
      "forces of the CAPF to ensure smooth polling in the Tripura civic body\n",
      "elections.</p>\n",
      "\n",
      "\n",
      " Alia Bhatt, Ranveer Singh dance to Brown Munde at AP Dhillon's concert in Gurugram. See clipAlia Bhatt and Ranveer Singh were recently spotted at AP Dhillon's concert.\n",
      "They were seen enjoying and grooving to Brown Munde beats.\n",
      "\n",
      "\n",
      "<img alt=\"\" data-preview-url=\"\" src=\"https://akm-img-a-in.tosshub.com/indiatoday/images/story/202111/pjimage_(3)_10.jpg?wG_fyfwX8qcddu9xfLUQbSHbU5Ag9NCQ&amp;size=170:96\" title=\"\"/>\n",
      "\n",
      "\n",
      "<p>Alia Bhatt and Ranveer Singh were recently spotted at AP Dhillon's concert.\n",
      "They were seen enjoying and grooving to Brown Munde beats.</p>\n",
      "\n",
      "\n",
      " Bhediya first look out. Varun Dhawan looks dangerous as he embraces his wolf avatarThe first look of Varun Dhawan’s Bhediya dropped today, November 25. The\n",
      "horror comedy stars Kriti Sanon as the female lead.\n",
      "\n",
      "\n",
      "<img class=\"lazyloaded\" data-preview-url=\"\" height=\"96\" src=\"https://akm-img-a-in.tosshub.com/indiatoday/images/story/202111/imgonline-com-ua-FrameBlurred-_5_1200x768.jpeg?JFmecMifAblEFk503Mpn2SaPJxVd4ZkZ&amp;size=170:96\" width=\"170\"/>\n",
      "\n",
      "\n",
      "<p>The first look of Varun Dhawan’s Bhediya dropped today, November 25. The\n",
      "horror comedy stars Kriti Sanon as the female lead.</p>\n",
      "\n",
      "\n",
      " Aarya Season 2 trailer out: Fierce Sushmita Sen is back as the unwilling outlawDisney+Hotstar dropped the trailer of Aarya Season 2 today, November 25.\n",
      "Sushmita Sen is back in fierce avatar who will go to any extent to save her\n",
      "family.\n",
      "\n",
      "\n",
      "<img class=\"lazyloaded\" data-preview-url=\"\" height=\"96\" src=\"https://akm-img-a-in.tosshub.com/indiatoday/images/story/202111/Sushmita_sen_aarya_2_trailer_1200x768.jpeg?GQ6_.I6RCsxxMp5BJ9JIeseSvFdkYBfR&amp;size=170:96\" width=\"170\"/>\n",
      "\n",
      "\n",
      "<p>Disney+Hotstar dropped the trailer of Aarya Season 2 today, November 25.\n",
      "Sushmita Sen is back in fierce avatar who will go to any extent to save her\n",
      "family.</p>\n",
      "\n",
      "\n",
      " Ashes: Tim Paine the best wicketkeeper, should be selected for Gabba Test - LyonAshes 2021-22: Nathan Lyon said he wants the 'best wicketkeeper' Tim Paine to\n",
      "take the gloves in the opening Test against England at the Gabba, saying the\n",
      "dressing room fully backs the former captain.\n",
      "\n",
      "\n",
      "<img class=\"lazyloaded\" data-preview-url=\"\" height=\"96\" src=\"https://akm-img-a-in.tosshub.com/indiatoday/images/story/202111/timpaine_1200x768.jpeg?Mq4koV6qE2tOQN09NyjZ8fZz_SfUynsx&amp;size=170:96\" width=\"170\"/>\n",
      "\n",
      "\n",
      "<p>Ashes 2021-22: Nathan Lyon said he wants the 'best wicketkeeper' Tim Paine to\n",
      "take the gloves in the opening Test against England at the Gabba, saying the\n",
      "dressing room fully backs the former captain.</p>\n",
      "\n",
      "\n",
      " Bombay HC sets aside death sentences to Shakti Mills gang-rape convicts, says public outcry can't guide verdictThe Bombay High Court, while setting aside the death sentences to the\n",
      "convicts in the Shakti Mills gang-rape case, said public outcry cannot guide\n",
      "the court's judgment.\n",
      "\n",
      "\n",
      "<img class=\"lazyloaded\" data-preview-url=\"\" height=\"96\" src=\"https://akm-img-a-in.tosshub.com/indiatoday/images/story/202111/rape_9_1200x768.jpeg?GMt8Xqn0qbFLPoZp5aBogkWVC6ldCR3_&amp;size=170:96\" width=\"170\"/>\n",
      "\n",
      "\n",
      "<p>The Bombay High Court, while setting aside the death sentences to the\n",
      "convicts in the Shakti Mills gang-rape case, said public outcry cannot guide\n",
      "the court's judgment.</p>\n",
      "\n",
      "\n",
      " Samantha has this to say about Priyanka roasting Nick JonasSamantha recently watched Jonas Brothers Family Roast on Netflix and reacted\n",
      "to it. She shared a clip of Priyanka Chopra roasting her husband Nick on the\n",
      "show.\n",
      "\n",
      "\n",
      "<img class=\"lazyloaded\" data-preview-url=\"\" height=\"96\" src=\"https://akm-img-a-in.tosshub.com/indiatoday/images/story/202111/Samantha_Priyanka_Chopra_roast.jpg?VP2o4K_ic4j7SU59x4uPZWXIQtol_GVo&amp;size=170:96\" width=\"170\"/>\n",
      "\n",
      "\n",
      "<p>Samantha recently watched Jonas Brothers Family Roast on Netflix and reacted\n",
      "to it. She shared a clip of Priyanka Chopra roasting her husband Nick on the\n",
      "show.</p>\n",
      "\n",
      "\n",
      " Encanto Movie Review: Disney film is enchanting with its dazzling animationDisney's latest offering, Encanto, hits the right notes with its amazing\n",
      "animation and loveable characters. The film released in theatres on November\n",
      "26.\n",
      "\n",
      "\n",
      "<img class=\"lazyloaded\" data-preview-url=\"\" height=\"96\" src=\"https://akm-img-a-in.tosshub.com/indiatoday/images/story/202111/Disney_encanto_review_1200x768.jpeg?f2NKMKdWHZsqRpSJaCk4v4eT0qEuNYXG&amp;size=170:96\" width=\"170\"/>\n",
      "\n",
      "\n",
      "<p>Disney's latest offering, Encanto, hits the right notes with its amazing\n",
      "animation and loveable characters. The film released in theatres on November\n",
      "26.</p>\n",
      "\n",
      "\n",
      " Shah Rukh Khan’s daughter Suhana is heartbroken as she leaves New York. See postShah Rukh Khan’s daughter, Suhana Khan, is heartbroken about leaving New\n",
      "York. She is studying filmmaking at New York University.\n",
      "\n",
      "\n",
      "<img class=\"lazyloaded\" data-preview-url=\"\" height=\"96\" src=\"https://akm-img-a-in.tosshub.com/indiatoday/images/story/202111/pjimage_(2)_17.jpg?o6JeiIM22HIDr2W7ffe7BcFfoWpMbwue&amp;size=170:96\" width=\"170\"/>\n",
      "\n",
      "\n",
      "<p>Shah Rukh Khan’s daughter, Suhana Khan, is heartbroken about leaving New\n",
      "York. She is studying filmmaking at New York University.</p>\n",
      "\n",
      "\n",
      " Cryptocurrency prices today: Bitcoin, Ether rise slightly after falling; altcoins struggleCryptocurrency prices have remained mixed over the past 24 hours, with\n",
      "Bitcoin and Ether rising marginally. Check the latest cryptocurrency prices\n",
      "and trends.\n",
      "\n",
      "\n",
      "<img class=\"lazyloaded\" data-preview-url=\"\" height=\"96\" src=\"https://akm-img-a-in.tosshub.com/indiatoday/images/story/202111/cryptocurrency-prices-november_2_1200x768.png?edxfjVgyWBRauZi3GLd5r0.LrSSRQnDQ&amp;size=170:96\" width=\"170\"/>\n",
      "\n",
      "\n",
      "<p>Cryptocurrency prices have remained mixed over the past 24 hours, with\n",
      "Bitcoin and Ether rising marginally. Check the latest cryptocurrency prices\n",
      "and trends.</p>\n",
      "\n",
      "\n",
      " 'Have faith in judiciary': Param Bir Singh reaches Mumbai, joins probe on SC order | ExclusiveEx-Mumbai top cop Param Bir Singh, who was declared a proclaimed offender by\n",
      "a Mumbai magistrate, said he has arrived in Mumbai to join the probe into\n",
      "extortion allegations against him.\n",
      "\n",
      "\n",
      "<img class=\"lazyloaded\" data-preview-url=\"\" height=\"96\" src=\"https://akm-img-a-in.tosshub.com/indiatoday/images/story/202111/Param_Bir_Sin_1200x768.jpeg?ZpvPLrxehj6ZH3k9wdEtRdLd_3GRWjcI&amp;size=170:96\" width=\"170\"/>\n",
      "\n",
      "\n",
      "<p>Ex-Mumbai top cop Param Bir Singh, who was declared a proclaimed offender by\n",
      "a Mumbai magistrate, said he has arrived in Mumbai to join the probe into\n",
      "extortion allegations against him.</p>\n",
      "\n",
      "\n"
     ]
    }
   ],
   "source": [
    "for i in rows1:\n",
    "    print(i.text)\n",
    "    print('\\n')\n",
    "    print(i.img)\n",
    "    print('\\n')\n",
    "    print(i.p)\n",
    "    print('\\n')"
   ]
  },
  {
   "cell_type": "code",
   "execution_count": 119,
   "metadata": {},
   "outputs": [],
   "source": [
    "data = requests.get('https://timesofindia.indiatimes.com/news')"
   ]
  },
  {
   "cell_type": "code",
   "execution_count": 120,
   "metadata": {},
   "outputs": [
    {
     "name": "stdout",
     "output_type": "stream",
     "text": [
      "success\n"
     ]
    },
    {
     "data": {
      "text/plain": [
       "[{'heading': 'Karnataka: ACB ‘drains’ lakhs of rupees from pipe in Kalaburagi house',\n",
       "  'image': 'https://static.toiimg.com/photo/34824568.cms',\n",
       "  'summary': 'Lakhs of rupees meant for laying public roads had not gone down the drain as it usually does. Instead, it had been hidden away in a drainage pipe of a junior government official’s house in north Karnataka. That is precisely what Anti-Corruption Bureau (ACB) sleuths found during the raid on a threestorey residence of Shanthagouda M Biradar, a junior engineer in the state public works department, in Kalaburagi on Wednesday.'},\n",
       " {'heading': 'For 1st time, India’s fertility rate below replacement level',\n",
       "  'image': 'https://static.toiimg.com/photo/34824568.cms',\n",
       "  'summary': 'India’s population is set to fall as its total fertility rate (TFR) or the average number of children born to a woman over her lifetime has dropped below replacement level for the first time and is now 2.  This was revealed in the National Family Health Survey data for 2019-21, released on Wednesday for phase-2 states along with all-India data.'},\n",
       " {'heading': 'Ban or no-ban, few things to know about crypto currency',\n",
       "  'image': 'https://static.toiimg.com/photo/34824568.cms',\n",
       "  'summary': 'Whether or not the government will ban all cryptocurrencies totally is still not clear. What is clear, however, is that thousands of Indians are flocking to these digital assets, pumping in crores of rupees. Here’s what you need to know before joining them'},\n",
       " {'heading': '1st Test Live: India lose Gill after Lunch',\n",
       "  'image': 'https://static.toiimg.com/photo/34824568.cms',\n",
       "  'summary': ''},\n",
       " {'heading': 'Live: PM to lay foundation stone today of Jewar airport',\n",
       "  'image': 'https://static.toiimg.com/photo/34824568.cms',\n",
       "  'summary': ''},\n",
       " {'heading': 'Tripura: SC orders additional forces for civic polls',\n",
       "  'image': 'https://static.toiimg.com/photo/34824568.cms',\n",
       "  'summary': ''},\n",
       " {'heading': 'Ex-CP Param Bir Singh arrives in Mumbai, to join probe',\n",
       "  'image': 'https://static.toiimg.com/photo/34824568.cms',\n",
       "  'summary': ' Former Mumbai police commissioner Param Bir Singh, who is facing extortion charges in several cases in the state, reached the city on Thursday.'},\n",
       " {'heading': \"How Jewar is all dressed up for 'airport carnival'\",\n",
       "  'image': 'https://static.toiimg.com/photo/34824568.cms',\n",
       "  'summary': 'First-time visitors to Jewar – and there are likely to be several thousand at the very least – need not worry about directions on Thursday. The latest addition to the country’s aviation map, the Noida International Airport (NIA), whose foundation stone will be laid by Prime Minister Narendra Modi, is dressed up for its ‘airport carnival’.'},\n",
       " {'heading': 'Biggest sale season in US: Tips to shop from India',\n",
       "  'image': 'https://static.toiimg.com/photo/34824568.cms',\n",
       "  'summary': ''},\n",
       " {'heading': \"'Expanding MSP will create chaos and corruption in farming'\",\n",
       "  'image': 'https://static.toiimg.com/photo/34824568.cms',\n",
       "  'summary': 'Anil Ghanwat, a member of the Supreme Court appointed panel on farm bill says that repealing the bill is a big mistake and that the government should stop intervening in the open market'},\n",
       " {'heading': 'Bill Gates loved reading these 5 books in 2021',\n",
       "  'image': 'https://static.toiimg.com/photo/34824568.cms',\n",
       "  'summary': ''},\n",
       " {'heading': 'What you should know if your child experiences chest pain',\n",
       "  'image': 'https://static.toiimg.com/photo/34824568.cms',\n",
       "  'summary': 'We spoke to Dr Ramakanta Panda, cardiovascular thoracic surgeon, Managing Director & Vice Chairman, Asian Heart Institute, Mumbai to understand when parents should seek help.'},\n",
       " {'heading': 'Vodafone mobile tariff to go live starting today: Details',\n",
       "  'image': 'https://static.toiimg.com/photo/34824568.cms',\n",
       "  'summary': ''},\n",
       " {'heading': 'Meghalaya: Former CM Sangma & 11 Cong MLAs join TMC',\n",
       "  'image': 'https://static.toiimg.com/photo/34824568.cms',\n",
       "  'summary': '12 Congress MLAs in Meghalaya joined Trinamool Congress on Thursday. This includes former chief minister Mukul Sangma and 11 other MLAs. Congress had 18 MLAs in the 60-member assembly. Despite not winning any seat in 2018 Assembly elections, the Trinamool Congress has now become the main opposition party in the house.'},\n",
       " {'heading': 'Gastronomy in Dubai',\n",
       "  'image': 'https://static.toiimg.com/photo/34824568.cms',\n",
       "  'summary': ''},\n",
       " {'heading': '‘Ailing’ Lalu Prasad surprises many by driving jeep',\n",
       "  'image': 'https://static.toiimg.com/photo/34824568.cms',\n",
       "  'summary': 'Septuagenarian RJD chief Lalu Prasad took everyone by surprise when he drove his jeep for a short distance in Patna on Wednesday morning.'},\n",
       " {'heading': 'Kangana summoned for her alleged remarks on Sikhs',\n",
       "  'image': 'https://static.toiimg.com/photo/34824568.cms',\n",
       "  'summary': \"Kangana Ranaut is courting controversy for her social media post wherein she had allegedly referred to the farmers’ protest as the Khalistani movement. The actress is already facing an FIR in Mumbai for her comments and now she has been summoned by Delhi Assembly's Committee on Peace and Harmony. According to ANI, the actress has been asked to appear on December 6 before the committee, which is headed by AAP leader Radhav Chadha.\"},\n",
       " {'heading': 'Why 50% Covaxin efficacy may not be as bad as it seems',\n",
       "  'image': 'https://static.toiimg.com/photo/34824568.cms',\n",
       "  'summary': 'A study conducted by AIIMS has shown that two doses of Covaxin, the indigenous vaccine developed by Indian Council of Medical Research in collaboration with Bharat Biotech, is 50% effective in preventing symptomatic infection due to Covid-19. This is lower than the 77.8% efficacy claimed by Bharat Biotech after phase 3 trials of the vaccine.'},\n",
       " {'heading': \"EPS group resists any talk of Sasikala's re-induction\",\n",
       "  'image': 'https://static.toiimg.com/photo/34824568.cms',\n",
       "  'summary': \"Heated exchanges over re-induction of V K Sasikala marred a high-level meeting of AIADMK's headquarters office-bearers and district secretaries at the party headquarters in Chennai on Wednesday.\"},\n",
       " {'heading': 'INS Vela commissioned into Indian Navy in Mumbai',\n",
       "  'image': 'https://static.toiimg.com/photo/34824568.cms',\n",
       "  'summary': ''}]"
      ]
     },
     "execution_count": 120,
     "metadata": {},
     "output_type": "execute_result"
    }
   ],
   "source": [
    "data = requests.get('https://timesofindia.indiatimes.com/news')\n",
    "if data.status_code == 200:\n",
    "    print('success')\n",
    "elif data.status_code == 404:\n",
    "    print('page not found')\n",
    "elif data.status_code == 500:\n",
    "    print('server error')\n",
    "\n",
    "soup = BeautifulSoup(data.text)\n",
    "\n",
    "rows = soup.find('div', {'class' : 'listing4'}).find('ul',{'class': 'cvs_wdt clearfix'}).findAll('li')\n",
    "# print(rows)\n",
    "newsdata = []\n",
    "for row in rows:\n",
    "    if row.attrs.get('class') != 'prime':\n",
    "        detail={}\n",
    "        detail['heading']=row.find('span').text\n",
    "        detail['image']=row.find('img').attrs.get('src')\n",
    "        detail['summary']=row.find('span', {'class' : 'w_desc'}).text\n",
    "        newsdata.append(detail)\n",
    "        # print(detail)\n",
    "\n",
    "newsdata"
   ]
  },
  {
   "cell_type": "code",
   "execution_count": 121,
   "metadata": {},
   "outputs": [],
   "source": [
    "url='https://www.codewithharry.com'"
   ]
  },
  {
   "cell_type": "code",
   "execution_count": 122,
   "metadata": {},
   "outputs": [],
   "source": [
    "# get Url\n",
    "r=requests.get(url)\n"
   ]
  },
  {
   "cell_type": "code",
   "execution_count": 123,
   "metadata": {},
   "outputs": [],
   "source": [
    "# Html Content\n",
    "Htmlcontent=r.content\n",
    "#print(Htmlcontent)"
   ]
  },
  {
   "cell_type": "code",
   "execution_count": 124,
   "metadata": {},
   "outputs": [],
   "source": [
    "# Create a Soup// Parse the Html\n",
    "soup=BeautifulSoup(Htmlcontent,'html.parser')\n",
    "#print(soup)"
   ]
  },
  {
   "cell_type": "code",
   "execution_count": 125,
   "metadata": {},
   "outputs": [],
   "source": [
    "#print(soup.prettify)"
   ]
  },
  {
   "cell_type": "code",
   "execution_count": 126,
   "metadata": {},
   "outputs": [],
   "source": [
    "data = requests.get('https://www.indiatvnews.com')"
   ]
  },
  {
   "cell_type": "code",
   "execution_count": 127,
   "metadata": {},
   "outputs": [
    {
     "name": "stdout",
     "output_type": "stream",
     "text": [
      "success\n"
     ]
    }
   ],
   "source": [
    "data = requests.get('https://www.indiatvnews.com')\n",
    "if data.status_code == 200:\n",
    "    print('success')\n",
    "elif data.status_code == 404:\n",
    "    print('page not found')\n",
    "elif data.status_code == 500:\n",
    "    print('server error')"
   ]
  },
  {
   "cell_type": "code",
   "execution_count": 128,
   "metadata": {},
   "outputs": [
    {
     "name": "stdout",
     "output_type": "stream",
     "text": [
      "[]\n"
     ]
    }
   ],
   "source": [
    "rows =soup.findAll('div', { 'class' : 'text_box' }) \n",
    "print(rows)"
   ]
  },
  {
   "cell_type": "code",
   "execution_count": 129,
   "metadata": {},
   "outputs": [
    {
     "data": {
      "text/plain": [
       "[]"
      ]
     },
     "execution_count": 129,
     "metadata": {},
     "output_type": "execute_result"
    }
   ],
   "source": [
    "newsdata = []\n",
    "for row in rows:\n",
    "        detail={}\n",
    "        detail['heading']=row.find('h2',{'class':'title'})\n",
    "        #print(detail)\n",
    "        #detail['image']=row.find('img').attrs.get('src')\n",
    "        \n",
    "        detail['discription']=row.find('p', {'class' : 'dis'})\n",
    "        print(detail)\n",
    "        newsdata.append(detail)\n",
    "       \n",
    "\n",
    "newsdata"
   ]
  }
 ],
 "metadata": {
  "interpreter": {
   "hash": "5334c72a8ba9d1e109c86958d2c23a84ecbfd50c07315bc902cebb9991757b75"
  },
  "kernelspec": {
   "display_name": "Python 3.9.7 64-bit",
   "name": "python3"
  },
  "language_info": {
   "codemirror_mode": {
    "name": "ipython",
    "version": 3
   },
   "file_extension": ".py",
   "mimetype": "text/x-python",
   "name": "python",
   "nbconvert_exporter": "python",
   "pygments_lexer": "ipython3",
   "version": "3.9.7"
  },
  "orig_nbformat": 4
 },
 "nbformat": 4,
 "nbformat_minor": 2
}
