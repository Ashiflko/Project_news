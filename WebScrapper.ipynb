{
 "cells": [
  {
   "cell_type": "code",
   "execution_count": 1,
   "metadata": {},
   "outputs": [],
   "source": [
    "from bs4 import BeautifulSoup\n",
    "import requests"
   ]
  },
  {
   "cell_type": "code",
   "execution_count": 2,
   "metadata": {},
   "outputs": [],
   "source": [
    "data = requests.get('https://www.ndtv.com/top-stories')"
   ]
  },
  {
   "cell_type": "code",
   "execution_count": 3,
   "metadata": {},
   "outputs": [
    {
     "name": "stdout",
     "output_type": "stream",
     "text": [
      "success\n"
     ]
    }
   ],
   "source": [
    "if data.status_code == 200:\n",
    "    print('success')\n",
    "elif data.status_code == 404:\n",
    "    print('page not found')\n",
    "elif data.status_code == 500:\n",
    "    print('server error')"
   ]
  },
  {
   "cell_type": "code",
   "execution_count": 4,
   "metadata": {},
   "outputs": [],
   "source": [
    "soup = BeautifulSoup(data.text)"
   ]
  },
  {
   "cell_type": "code",
   "execution_count": 5,
   "metadata": {},
   "outputs": [
    {
     "name": "stdout",
     "output_type": "stream",
     "text": [
      "<h2 class=\"newsHdng\"><a href=\"https://www.ndtv.com/india-news/nitin-gadkari-to-lay-foundation-stone-of-25-national-highway-projects-in-jammu-today-2622382\">Nitin Gadkari To Lay Foundation Stone Of 25 Jammu Highway Projects Today</a></h2>\n",
      "https://c.ndtvimg.com/2021-09/m670lhj8_nitin-gadkari-240_240x180_24_September_21.jpg\n",
      "<p class=\"newsCont\">Union Minister for Road Transport and Highways Nitin Gadkari will lay the foundation stone for 25 National Highway projects of total length 257 km with an investment of Rs 11,721 crores in Jammu on Wednesday.</p>\n",
      "<h2 class=\"newsHdng\"><a href=\"https://www.ndtv.com/india-news/baby-austin-to-cadillac-sedan-20-vintage-cars-to-go-on-auction-in-december-2622407\">Baby Austin To Cadillac Sedan, 20 Vintage Cars To Go On Auction In December</a></h2>\n",
      "https://c.ndtvimg.com/2021-11/cbgv9ol8_vintage-car-240_120x90_24_November_21.jpg\n",
      "<p class=\"newsCont\">From a preservation-class 1934 Cadillac imperial sedan to a vintage Fiat \"Topolino\", 20 old automobiles are set to go under the hammer in December as part of a \"first-of-its-kind auction\" in India, organisers said on Tuesday.</p>\n",
      "<h2 class=\"newsHdng\"><a href=\"https://www.ndtv.com/india-news/india-accords-high-priority-to-combating-human-trafficking-union-minister-of-state-for-home-affairs-ajay-kumar-mishra-at-un-2622388\">India Accords High Priority To Combating Human Trafficking: Minister At UN</a></h2>\n",
      "https://c.ndtvimg.com/2021-07/s8mnif94_ajay-kumar-mishra_120x90_08_July_21.jpg\n",
      "<p class=\"newsCont\">Union Minister of State for Home Affairs Ajay Kumar Mishra on Tuesday said that India accords high priority to combating human trafficking and that the Indian government is making continuous efforts to prevent and counter-trafficking in persons.</p>\n",
      "<h2 class=\"newsHdng\"><a href=\"https://www.ndtv.com/world-news/new-zealand-to-reopen-to-foreign-travellers-from-april-30-next-year-2622397\">New Zealand To Reopen To Foreign Travellers From April 30 Next Year</a></h2>\n",
      "https://c.ndtvimg.com/2021-11/sna64f6o_new-zealand-covid-reuters-240_120x90_24_November_21.jpg\n",
      "<p class=\"newsCont\">New Zealand will keep its borders closed to most international travellers for a further five months, the government said on Wednesday, outlining a cautious easing of border curbs that have been in place since COVID-19 hit in March 2020.</p>\n",
      "<h2 class=\"newsHdng\"><a href=\"https://www.ndtv.com/india-news/coronavirus-covaxin-50-effective-when-delta-was-dominant-shows-lancet-study-2622370\">Covaxin 50% Effective When Delta Was Dominant, Shows Lancet Study</a></h2>\n",
      "https://c.ndtvimg.com/2021-11/aiul1908_covid-vaccine-india-generic-reuters_120x90_12_November_21.jpg\n",
      "<p class=\"newsCont\">Two doses of Covaxin are 50 per cent effective against symptomatic disease, according to the first real-world assessment of India's indigenous COVID-19 vaccine published in The Lancet Infectious Diseases journal.</p>\n",
      "<h2 class=\"newsHdng\"><a href=\"https://www.ndtv.com/world-news/australia-lists-hezbollah-as-terrorist-organisation-2622391\">Australia Lists Hezbollah As \"Terrorist Organisation\"</a></h2>\n",
      "https://c.ndtvimg.com/2019-09/dghth4f_hezbollah-commanders-reuters_120x90_01_September_19.jpg\n",
      "<p class=\"newsCont\">Australia on Wednesday listed all of Hezbollah as a \"terrorist organisation\", extending an existing ban on armed units to the entire organisation, which controls much of Lebanon.</p>\n",
      "<h2 class=\"newsHdng\"><a href=\"https://www.ndtv.com/world-news/us-taliban-talks-to-resume-next-week-in-qatar-2622390\">US-Taliban Talks To Resume Next Week In Qatar</a></h2>\n",
      "https://c.ndtvimg.com/2021-09/28bd37s_taliban-afp_120x90_25_September_21.jpg\n",
      "<p class=\"newsCont\">The United States will resume talks with the Taliban next week in Qatar, addressing among other issues the fight against terrorism and the humanitarian crisis in Afghanistan.</p>\n",
      "<h2 class=\"newsHdng\"><a href=\"https://www.ndtv.com/world-news/us-president-joe-biden-invites-110-countries-including-india-to-democracy-virtual-summit-2622383\">Biden Invites 110 Countries Including India To Virtual Democracy Summit</a></h2>\n",
      "https://c.ndtvimg.com/2021-08/2fscdtko_joe-biden-afp-_120x90_21_August_21.jpg\n",
      "<p class=\"newsCont\">President Joe Biden has invited around 110 countries to a virtual summit on democracy in December, including major Western allies but also Iraq, India and Pakistan, according to a list posted on the State Department website on Tuesday.</p>\n",
      "<h2 class=\"newsHdng\"><a href=\"https://www.ndtv.com/india-news/coronavirus-india-live-updates-india-reported-7-579-new-covid-19-cases-236-deaths-on-tuesday-2622361\">Coronavirus LIVE Updates: Covaxin 50% Effective When Delta Was Dominant, Shows Study</a></h2>\n",
      "https://c.ndtvimg.com/2021-09/9h7c3r7o_coronavirus-india-reuters-sep-2021_240x180_28_September_21.jpg\n",
      "<p class=\"newsCont\">Two doses of Covaxin are 50 per cent effective against symptomatic disease, according to the first real-world assessment of India's indigenous COVID-19 vaccine published in The Lancet Infectious Diseases journal.</p>\n",
      "<h2 class=\"newsHdng\"><a href=\"https://www.ndtv.com/world-news/pfizer-vaccine-100-effective-in-adolescents-after-4-months-says-company-2622356\">Pfizer Vaccine 100% Effective In Adolescents After 4 Months</a></h2>\n",
      "https://c.ndtvimg.com/2021-01/q6dj859o_pfizer-240_120x90_21_January_21.jpg\n",
      "<p class=\"newsCont\">Pfizer and BioNTech said Monday their COVID-19 vaccine remained 100 percent effective in children 12 to 15 years old, four months after the second dose.</p>\n",
      "<h2 class=\"newsHdng\"><a href=\"https://www.ndtv.com/world-news/child-injured-in-us-parade-crash-dies-death-count-rises-to-6-prosecutor-2622353\">Child Injured In US Parade Crash Dies, Death Count Rises To 6: Prosecutor</a></h2>\n",
      "https://c.ndtvimg.com/2021-11/vq3dnms_suv-crashes-into-christmas-parade-wisconsin_120x90_22_November_21.jpg\n",
      "<p class=\"newsCont\">A child injured when a car plowed into a Wisconsin Christmas parade has died, taking the death count from the tragedy to six, a local prosecutor said Tuesday as the suspect appeared in court.</p>\n",
      "<h2 class=\"newsHdng\"><a href=\"https://www.ndtv.com/world-news/russia-says-us-rehearsed-nuclear-strike-against-it-this-month-2622351\">Russia Says US Rehearsed Nuclear Strike Against It This Month</a></h2>\n",
      "https://c.ndtvimg.com/2021-10/omntq1ig_us-russia-flags_120x90_06_October_21.jpg\n",
      "<p class=\"newsCont\">Russia's defence minister on Tuesday accused USbombers of rehearsing a nuclear strike on Russia from two different directions earlier this month and complained that the planes had come within 20 km (12.4 miles) of the Russian border.</p>\n",
      "<h2 class=\"newsHdng\"><a href=\"https://www.ndtv.com/world-news/nasa-to-launch-spacecraft-to-kick-an-asteroid-off-course-2622349\">NASA To Launch Spacecraft To Kick An Asteroid Off Course</a></h2>\n",
      "https://c.ndtvimg.com/2021-11/iv699bb8_nasa-dart-afp-240_120x90_24_November_21.jpg\n",
      "<p class=\"newsCont\">NASA is preparing to launch a mission to deliberately smash a spacecraft into an asteroid -- a test run should humanity ever need to stop a giant space rock from wiping out life on Earth.</p>\n",
      "<h2 class=\"newsHdng\"><a href=\"https://www.ndtv.com/india-news/noida-airport-to-bring-rs-35-000-crore-investment-1-lakh-jobs-yogi-adityanath-2622344\">Noida Airport To Bring Rs 35,000 Crore Investment, 1 Lakh Jobs: Yogi Adityanath</a></h2>\n",
      "https://c.ndtvimg.com/2021-11/hkk2oa8o_yogi-adityanath-ani_120x90_16_November_21.jpg\n",
      "<p class=\"newsCont\">Noida International Airport will bring in investment up to Rs 35,000 crore in Uttar Pradesh and the greenfield project will have one lakh job opportunities, Chief Minister Yogi Adityanath said on Tuesday.</p>\n",
      "<h2 class=\"newsHdng\"><a href=\"https://www.ndtv.com/world-news/daughter-of-first-american-in-space-on-next-blue-origin-flight-2622341\">Daughter Of First American In Space On Next Blue Origin Flight</a></h2>\n",
      "https://c.ndtvimg.com/2021-11/1dllosa8_laura-shepard-churchley-afp-240_120x90_24_November_21.jpg\n",
      "<p class=\"newsCont\">Sixty years after her father's historic flight, she too will cross the final frontier: Laura Shepard Churchley, daughter of the first American in space Alan Shepard, will be one of six passengers on Blue Origin's next flight.</p>\n"
     ]
    }
   ],
   "source": [
    "rows = soup.findAll('div', { 'class' : 'news_Itm' })\n",
    "for row in rows:\n",
    "    if 'adBg' not in row.attrs.get('class'):\n",
    "        #print(row)\n",
    "        print(row.find('h2',{'class':'newsHdng'}))\n",
    "        print(row.find('img').attrs.get('src'))\n",
    "        print(row.find('p',{'class':'newsCont'}))\n",
    "        \n",
    "        \n",
    "        \n",
    "    \n",
    "    "
   ]
  },
  {
   "cell_type": "code",
   "execution_count": 6,
   "metadata": {},
   "outputs": [],
   "source": [
    "url1 = \"https://www.indiatoday.in/top-stories\""
   ]
  },
  {
   "cell_type": "code",
   "execution_count": 7,
   "metadata": {},
   "outputs": [],
   "source": [
    "data1 = requests.get(url1)"
   ]
  },
  {
   "cell_type": "code",
   "execution_count": 8,
   "metadata": {},
   "outputs": [
    {
     "name": "stdout",
     "output_type": "stream",
     "text": [
      "success\n"
     ]
    }
   ],
   "source": [
    "if data1.status_code == 200:\n",
    "    print('success')\n",
    "elif data1.status_code == 404:\n",
    "    print('page not found')\n",
    "elif data1.status_code == 500:\n",
    "    print('server error')"
   ]
  },
  {
   "cell_type": "code",
   "execution_count": 9,
   "metadata": {},
   "outputs": [],
   "source": [
    "soup1 = BeautifulSoup(data1.text)"
   ]
  },
  {
   "cell_type": "code",
   "execution_count": 10,
   "metadata": {},
   "outputs": [],
   "source": [
    "rows1 = soup1.findAll('div', { 'class' : 'catagory-listing' })"
   ]
  },
  {
   "cell_type": "code",
   "execution_count": 11,
   "metadata": {},
   "outputs": [
    {
     "data": {
      "text/plain": [
       "12"
      ]
     },
     "execution_count": 11,
     "metadata": {},
     "output_type": "execute_result"
    }
   ],
   "source": [
    "len(rows1)"
   ]
  },
  {
   "cell_type": "code",
   "execution_count": 12,
   "metadata": {},
   "outputs": [
    {
     "name": "stdout",
     "output_type": "stream",
     "text": [
      "<title>Top Headlines: News Headlines, Top News, India, Sports, Business, Politics, Entertainment, Celebrities, Lifestyle, Exclusive stories</title>\n",
      "Top Headlines: News Headlines, Top News, India, Sports, Business, Politics, Entertainment, Celebrities, Lifestyle, Exclusive stories\n"
     ]
    }
   ],
   "source": [
    "print(soup1.title)\n",
    "print(soup1.title.string)"
   ]
  },
  {
   "cell_type": "code",
   "execution_count": 13,
   "metadata": {},
   "outputs": [
    {
     "name": "stdout",
     "output_type": "stream",
     "text": [
      "<a href=\"/india/story/gujarat-woman-dies-after-falling-unconscious-kin-blame-youth-from-another-community-1880110-2021-11-24\">Gujarat: Woman dies after falling unconscious in coffee shop, kin blame youth from another community</a>\n",
      "https://akm-img-a-in.tosshub.com/indiatoday/images/story/202111/dead-body-860x573_1200x768_0_1_3.jpeg?T5e_ChVz3dBnz2BEy1Zuf87uUnyqJPVs&size=170:96\n",
      "<p>A woman died after collapsing in a coffee shop in Surat, Gujarat. Her family\n",
      "alleged that she was killed by a youth from another religious community who\n",
      "had accompanied her.</p>\n",
      "<a href=\"/india/story/shots-fired-at-assam-forest-officials-on-assam-arunachal-border-no-casualty-reported-1880101-2021-11-24\">Shots fired at Assam forest officials on Assam-Arunachal border, no casualty reported</a>\n",
      "https://akm-img-a-in.tosshub.com/indiatoday/images/story/202111/Gun_1200x768.jpeg?g267L9ie1i1fhcoQfYMRSBoovP0gLQ0N&size=170:96\n",
      "<p>Unidentified miscreants allegedly opened fire on an Assam forest officials\n",
      "team near the Assam-Arunachal Pradesh border. No casualties have been\n",
      "reported in the incident.</p>\n",
      "<a href=\"/india/story/guwahati-govt-official-caught-red-handed-while-taking-bribe-1880103-2021-11-24\">Guwahati: Govt officer caught red handed while taking bribe </a>\n",
      "https://akm-img-a-in.tosshub.com/indiatoday/images/story/202111/GettyImages-917532392_1_1200x768.jpeg?2nZy0_IJ8Tmmhvg1jlRK4_oRMaTa0W3z&size=170:96\n",
      "<p>A government officer was caught accepting a bribe in Guwahati on Tuesday.</p>\n",
      "<a href=\"/world/story/britain-royal-family-issues-rebuke-bbc-over-documentary-prince-william-and-harry-1880109-2021-11-24\">Britain’s Royal Family issues rare rebuke to BBC over documentary on Prince William and Harry</a>\n",
      "https://akm-img-a-in.tosshub.com/indiatoday/images/story/202111/488bed6567551c5a7ad76c803f8837.jpeg?0m6S3yt17WzHtUKs3.TVKVGHvWaohF5z&size=170:96\n",
      "<p>Britain's Royal Family issued a rare statement criticising the BBC over a\n",
      "documentary on Prince William and Harry's relationship.</p>\n",
      "<a href=\"/coronavirus-outbreak/story/third-covid-wave-magnitude-comparable-first-two-unlikely-hit-india-aiims-director-randeep-guleria-1880108-2021-11-24\">Third Covid wave of magnitude comparable to first two unlikely to hit India: AIIMS Director Randeep Guleria</a>\n",
      "https://akm-img-a-in.tosshub.com/indiatoday/images/story/202111/randeep_guleria_pti_1200x768_1200x768.jpeg?I6FDdIadnUC8QzAf2XW4.GHc55iwrJOX&size=170:96\n",
      "<p>A third Covid wave of comparable magnitude to the first two is unlikely to\n",
      "hit India, AIIMS director Dr Randeep Guleria said on Tuesday.</p>\n",
      "<a href=\"/law/story/elgar-parishad-case-anand-teltumbde-seeks-interim-bail-visit-mother-after-brother-encounter-death-1880107-2021-11-24\">Elgar Parishad case: Anand Teltumbde seeks interim bail to visit mother after brother's encounter death</a>\n",
      "https://akm-img-a-in.tosshub.com/indiatoday/images/story/202111/Anand_Teltumbde_1200x768_1200x768.jpeg?LHTGqJLkIPS15hLAMQ0sKH3jk.2Hinim&size=170:96\n",
      "<p>Professor Anand Teltumbde sought interim bail to visit his mother following\n",
      "the death of his brother in an encounter.</p>\n",
      "<a href=\"/crime/story/karnataka-teen-arranges-father-murder-protest-sexual-harassment-1880106-2021-11-24\">Karnataka: Teen arranges father’s murder to protest sexual harassment</a>\n",
      "https://akm-img-a-in.tosshub.com/indiatoday/images/story/202111/murder2_story-647_122817113828_1200x768.jpeg?Ts9oafmwKOxT44wwgfHkNBCKPZUqscxb&size=170:96\n",
      "<p>A teen in Karnataka allegedly arranged her father's murder in order to\n",
      "protest sexual harassment.</p>\n",
      "<a href=\"/india/story/ed-searches-ireo-premises-3-other-firms-in-money-laundering-case-1880104-2021-11-24\">ED searches IREO premises, 3 other firms in money laundering case</a>\n",
      "https://akm-img-a-in.tosshub.com/indiatoday/images/story/202111/pup_1200x768_2_1200x768.jpeg?egEGOjmcOx.e9EDOGfNXI3u8QUDAnegB&size=170:96\n",
      "<p>The Enforcement Directorate (ED) conducted searches on Monday at several IREO\n",
      "group premises, including the residence of vice-chairman and MD Lalit Goyal,\n",
      "as well as the premises of three other companies, in connection with its\n",
      "money-laundering investigation.</p>\n",
      "<a href=\"/india/story/telangana-ed-attaches-assets-insurance-medical-scheme-scam-1880105-2021-11-24\">Telangana: ED attaches assets worth Rs 144 crore in Insurance Medical Scheme Scam </a>\n",
      "https://akm-img-a-in.tosshub.com/indiatoday/images/story/202111/ed_1_1200x768_1200x768.jpeg?JoWHwuhPifFAqKQmyd_Cvi7c7UlrFCm1&size=170:96\n",
      "<p>The Enforcement Directorate attached assets worth Rs 144 crore in connection\n",
      "with a money-laundering case into an alleged Insurance Medical Scheme Scam in\n",
      "Telangana.</p>\n",
      "<a href=\"/india/story/defence-ministry-clears-procurement-communication-equipment-for-iaf-1880093-2021-11-24\">Defence Ministry clears procurement of communication equipment worth Rs 2,236 crore for IAF</a>\n",
      "https://akm-img-a-in.tosshub.com/indiatoday/images/story/202111/clipboard-99-1053844-163768413_1200x768.jpeg?.FB6wJGmeq86zrs6euyGidbWrEgryOyh&size=170:96\n",
      "<p>The Defence Ministry approved a proposal for the procurement of communication\n",
      "equipment for the Indian Air Force worth Rs 2,236 crore on Tuesday.</p>\n",
      "<a href=\"/india/story/centre-committed-to-protecting-individuals-privacy-it-minister-ashwini-vaishnaw-1880099-2021-11-24\">Centre committed to protecting individuals’ privacy: IT Minister Ashwini Vaishnaw</a>\n",
      "https://akm-img-a-in.tosshub.com/indiatoday/images/story/202111/PTI07_07_2021_000225B_16259040_1200x768.jpeg?oX2bq5qtZHWrmTWTXJUuiZJ8fRwZADPF&size=170:96\n",
      "<p>Information and Technology Minister Ashwini Vaishnaw said on Tuesday that the\n",
      "government is fully committed to protecting individuals' privacy.</p>\n",
      "<a href=\"/india/story/aadhaar-going-global-several-countries-show-interest-in-the-technology-1880091-2021-11-23\">Aadhaar going global? Several countries show interest in the technology </a>\n",
      "https://akm-img-a-in.tosshub.com/indiatoday/images/story/202111/Untitled_3_1200x768.png?g7anWnyNpXl_V5K1P9qvK_N0kAeaC9i9&size=170:96\n",
      "<p>Several countries have approached India looking to either replicate the\n",
      "Aadhaar model for their citizens or are taking note of how India managed to\n",
      "give digital identity to its citizens, sources said.</p>\n"
     ]
    }
   ],
   "source": [
    "for row in rows1:\n",
    "        print(row.find('a'))\n",
    "        print(row.find('img').attrs.get('src'))\n",
    "        print(row.find('p'))"
   ]
  },
  {
   "cell_type": "code",
   "execution_count": 14,
   "metadata": {},
   "outputs": [
    {
     "name": "stdout",
     "output_type": "stream",
     "text": [
      " Gujarat: Woman dies after falling unconscious in coffee shop, kin blame youth from another communityA woman died after collapsing in a coffee shop in Surat, Gujarat. Her family\n",
      "alleged that she was killed by a youth from another religious community who\n",
      "had accompanied her.\n",
      "\n",
      "\n",
      "<img alt=\"\" data-preview-url=\"\" src=\"https://akm-img-a-in.tosshub.com/indiatoday/images/story/202111/dead-body-860x573_1200x768_0_1_3.jpeg?T5e_ChVz3dBnz2BEy1Zuf87uUnyqJPVs&amp;size=170:96\" title=\"\"/>\n",
      "\n",
      "\n",
      "<p>A woman died after collapsing in a coffee shop in Surat, Gujarat. Her family\n",
      "alleged that she was killed by a youth from another religious community who\n",
      "had accompanied her.</p>\n",
      "\n",
      "\n",
      " Shots fired at Assam forest officials on Assam-Arunachal border, no casualty reportedUnidentified miscreants allegedly opened fire on an Assam forest officials\n",
      "team near the Assam-Arunachal Pradesh border. No casualties have been\n",
      "reported in the incident.\n",
      "\n",
      "\n",
      "<img alt=\"\" data-preview-url=\"\" src=\"https://akm-img-a-in.tosshub.com/indiatoday/images/story/202111/Gun_1200x768.jpeg?g267L9ie1i1fhcoQfYMRSBoovP0gLQ0N&amp;size=170:96\" title=\"\"/>\n",
      "\n",
      "\n",
      "<p>Unidentified miscreants allegedly opened fire on an Assam forest officials\n",
      "team near the Assam-Arunachal Pradesh border. No casualties have been\n",
      "reported in the incident.</p>\n",
      "\n",
      "\n",
      " Guwahati: Govt officer caught red handed while taking bribe A government officer was caught accepting a bribe in Guwahati on Tuesday.\n",
      "\n",
      "\n",
      "<img alt=\"\" data-preview-url=\"\" src=\"https://akm-img-a-in.tosshub.com/indiatoday/images/story/202111/GettyImages-917532392_1_1200x768.jpeg?2nZy0_IJ8Tmmhvg1jlRK4_oRMaTa0W3z&amp;size=170:96\" title=\"\"/>\n",
      "\n",
      "\n",
      "<p>A government officer was caught accepting a bribe in Guwahati on Tuesday.</p>\n",
      "\n",
      "\n",
      " Britain’s Royal Family issues rare rebuke to BBC over documentary on Prince William and HarryBritain's Royal Family issued a rare statement criticising the BBC over a\n",
      "documentary on Prince William and Harry's relationship.\n",
      "\n",
      "\n",
      "<img class=\"lazyloaded\" data-preview-url=\"\" height=\"96\" src=\"https://akm-img-a-in.tosshub.com/indiatoday/images/story/202111/488bed6567551c5a7ad76c803f8837.jpeg?0m6S3yt17WzHtUKs3.TVKVGHvWaohF5z&amp;size=170:96\" width=\"170\"/>\n",
      "\n",
      "\n",
      "<p>Britain's Royal Family issued a rare statement criticising the BBC over a\n",
      "documentary on Prince William and Harry's relationship.</p>\n",
      "\n",
      "\n",
      " Third Covid wave of magnitude comparable to first two unlikely to hit India: AIIMS Director Randeep GuleriaA third Covid wave of comparable magnitude to the first two is unlikely to\n",
      "hit India, AIIMS director Dr Randeep Guleria said on Tuesday.\n",
      "\n",
      "\n",
      "<img class=\"lazyloaded\" data-preview-url=\"\" height=\"96\" src=\"https://akm-img-a-in.tosshub.com/indiatoday/images/story/202111/randeep_guleria_pti_1200x768_1200x768.jpeg?I6FDdIadnUC8QzAf2XW4.GHc55iwrJOX&amp;size=170:96\" width=\"170\"/>\n",
      "\n",
      "\n",
      "<p>A third Covid wave of comparable magnitude to the first two is unlikely to\n",
      "hit India, AIIMS director Dr Randeep Guleria said on Tuesday.</p>\n",
      "\n",
      "\n",
      " Elgar Parishad case: Anand Teltumbde seeks interim bail to visit mother after brother's encounter deathProfessor Anand Teltumbde sought interim bail to visit his mother following\n",
      "the death of his brother in an encounter.\n",
      "\n",
      "\n",
      "<img class=\"lazyloaded\" data-preview-url=\"\" height=\"96\" src=\"https://akm-img-a-in.tosshub.com/indiatoday/images/story/202111/Anand_Teltumbde_1200x768_1200x768.jpeg?LHTGqJLkIPS15hLAMQ0sKH3jk.2Hinim&amp;size=170:96\" width=\"170\"/>\n",
      "\n",
      "\n",
      "<p>Professor Anand Teltumbde sought interim bail to visit his mother following\n",
      "the death of his brother in an encounter.</p>\n",
      "\n",
      "\n",
      " Karnataka: Teen arranges father’s murder to protest sexual harassmentA teen in Karnataka allegedly arranged her father's murder in order to\n",
      "protest sexual harassment.\n",
      "\n",
      "\n",
      "<img class=\"lazyloaded\" data-preview-url=\"\" height=\"96\" src=\"https://akm-img-a-in.tosshub.com/indiatoday/images/story/202111/murder2_story-647_122817113828_1200x768.jpeg?Ts9oafmwKOxT44wwgfHkNBCKPZUqscxb&amp;size=170:96\" width=\"170\"/>\n",
      "\n",
      "\n",
      "<p>A teen in Karnataka allegedly arranged her father's murder in order to\n",
      "protest sexual harassment.</p>\n",
      "\n",
      "\n",
      " ED searches IREO premises, 3 other firms in money laundering caseThe Enforcement Directorate (ED) conducted searches on Monday at several IREO\n",
      "group premises, including the residence of vice-chairman and MD Lalit Goyal,\n",
      "as well as the premises of three other companies, in connection with its\n",
      "money-laundering investigation.\n",
      "\n",
      "\n",
      "<img class=\"lazyloaded\" data-preview-url=\"\" height=\"96\" src=\"https://akm-img-a-in.tosshub.com/indiatoday/images/story/202111/pup_1200x768_2_1200x768.jpeg?egEGOjmcOx.e9EDOGfNXI3u8QUDAnegB&amp;size=170:96\" width=\"170\"/>\n",
      "\n",
      "\n",
      "<p>The Enforcement Directorate (ED) conducted searches on Monday at several IREO\n",
      "group premises, including the residence of vice-chairman and MD Lalit Goyal,\n",
      "as well as the premises of three other companies, in connection with its\n",
      "money-laundering investigation.</p>\n",
      "\n",
      "\n",
      " Telangana: ED attaches assets worth Rs 144 crore in Insurance Medical Scheme Scam The Enforcement Directorate attached assets worth Rs 144 crore in connection\n",
      "with a money-laundering case into an alleged Insurance Medical Scheme Scam in\n",
      "Telangana.\n",
      "\n",
      "\n",
      "<img class=\"lazyloaded\" data-preview-url=\"\" height=\"96\" src=\"https://akm-img-a-in.tosshub.com/indiatoday/images/story/202111/ed_1_1200x768_1200x768.jpeg?JoWHwuhPifFAqKQmyd_Cvi7c7UlrFCm1&amp;size=170:96\" width=\"170\"/>\n",
      "\n",
      "\n",
      "<p>The Enforcement Directorate attached assets worth Rs 144 crore in connection\n",
      "with a money-laundering case into an alleged Insurance Medical Scheme Scam in\n",
      "Telangana.</p>\n",
      "\n",
      "\n",
      " Defence Ministry clears procurement of communication equipment worth Rs 2,236 crore for IAFThe Defence Ministry approved a proposal for the procurement of communication\n",
      "equipment for the Indian Air Force worth Rs 2,236 crore on Tuesday.\n",
      "\n",
      "\n",
      "<img class=\"lazyloaded\" data-preview-url=\"\" height=\"96\" src=\"https://akm-img-a-in.tosshub.com/indiatoday/images/story/202111/clipboard-99-1053844-163768413_1200x768.jpeg?.FB6wJGmeq86zrs6euyGidbWrEgryOyh&amp;size=170:96\" width=\"170\"/>\n",
      "\n",
      "\n",
      "<p>The Defence Ministry approved a proposal for the procurement of communication\n",
      "equipment for the Indian Air Force worth Rs 2,236 crore on Tuesday.</p>\n",
      "\n",
      "\n",
      " Centre committed to protecting individuals’ privacy: IT Minister Ashwini VaishnawInformation and Technology Minister Ashwini Vaishnaw said on Tuesday that the\n",
      "government is fully committed to protecting individuals' privacy.\n",
      "\n",
      "\n",
      "<img class=\"lazyloaded\" data-preview-url=\"\" height=\"96\" src=\"https://akm-img-a-in.tosshub.com/indiatoday/images/story/202111/PTI07_07_2021_000225B_16259040_1200x768.jpeg?oX2bq5qtZHWrmTWTXJUuiZJ8fRwZADPF&amp;size=170:96\" width=\"170\"/>\n",
      "\n",
      "\n",
      "<p>Information and Technology Minister Ashwini Vaishnaw said on Tuesday that the\n",
      "government is fully committed to protecting individuals' privacy.</p>\n",
      "\n",
      "\n",
      " Aadhaar going global? Several countries show interest in the technology Several countries have approached India looking to either replicate the\n",
      "Aadhaar model for their citizens or are taking note of how India managed to\n",
      "give digital identity to its citizens, sources said.\n",
      "\n",
      "\n",
      "<img class=\"lazyloaded\" data-preview-url=\"\" height=\"96\" src=\"https://akm-img-a-in.tosshub.com/indiatoday/images/story/202111/Untitled_3_1200x768.png?g7anWnyNpXl_V5K1P9qvK_N0kAeaC9i9&amp;size=170:96\" width=\"170\"/>\n",
      "\n",
      "\n",
      "<p>Several countries have approached India looking to either replicate the\n",
      "Aadhaar model for their citizens or are taking note of how India managed to\n",
      "give digital identity to its citizens, sources said.</p>\n",
      "\n",
      "\n"
     ]
    }
   ],
   "source": [
    "for i in rows1:\n",
    "    print(i.text)\n",
    "    print('\\n')\n",
    "    print(i.img)\n",
    "    print('\\n')\n",
    "    print(i.p)\n",
    "    print('\\n')"
   ]
  },
  {
   "cell_type": "code",
   "execution_count": 15,
   "metadata": {},
   "outputs": [],
   "source": [
    "data = requests.get('https://timesofindia.indiatimes.com/news')"
   ]
  },
  {
   "cell_type": "code",
   "execution_count": 16,
   "metadata": {},
   "outputs": [
    {
     "name": "stdout",
     "output_type": "stream",
     "text": [
      "success\n"
     ]
    },
    {
     "data": {
      "text/plain": [
       "[{'heading': 'Govt lists bill in winter session to ban all private cryptocurrency',\n",
       "  'image': 'https://static.toiimg.com/photo/34824568.cms',\n",
       "  'summary': ''},\n",
       " {'heading': 'Panel on data protection bats for individual privacy',\n",
       "  'image': 'https://static.toiimg.com/photo/34824568.cms',\n",
       "  'summary': ''},\n",
       " {'heading': \"RBI's 4 big concerns over cryptocurrencies, and a way out\",\n",
       "  'image': 'https://static.toiimg.com/photo/34824568.cms',\n",
       "  'summary': ' Cryptocurrency: Ideal law will ban use as legal tender, allow it to be an asset'},\n",
       " {'heading': '1st Test: Chance for India to test the batting reserves',\n",
       "  'image': 'https://static.toiimg.com/photo/34824568.cms',\n",
       "  'summary': '\\u200bIndian Test cricket has been on a high on either side of the capitulation in the World Test Championship final. Much of its evolution as a powerhouse has revolved around the potency of the bowling resources. Over the last three years, the bowlers - pacemen in particular - have excelled in various conditions to help the team achieve historic success. But what the bowlers have also done is to hide the weaknesses in the batting line-up which has often crumbled irrespective of conditions.'},\n",
       " {'heading': \"'Will bring 1L farmers to Delhi to back reforms'\",\n",
       "  'image': 'https://static.toiimg.com/photo/34824568.cms',\n",
       "  'summary': ''},\n",
       " {'heading': 'UPA should have hit back after 26/11, says Tewari',\n",
       "  'image': 'https://static.toiimg.com/photo/34824568.cms',\n",
       "  'summary': ''},\n",
       " {'heading': 'US, India act in concert to cool price at the pump',\n",
       "  'image': 'https://static.toiimg.com/photo/34824568.cms',\n",
       "  'summary': 'The United States, India, Japan and South Korea acted in concert on Tuesday to release oil from their respective strategic petroleum reserves to combat high prices stemming from major oil exporting nations not ramping up production ahead of a busy holiday travel season.'},\n",
       " {'heading': \"'Delta' can infect even fully vaccinated, says study\",\n",
       "  'image': 'https://static.toiimg.com/photo/34824568.cms',\n",
       "  'summary': ''},\n",
       " {'heading': 'You will soon have to pay more for Amazon Prime Membership',\n",
       "  'image': 'https://static.toiimg.com/photo/34824568.cms',\n",
       "  'summary': ''},\n",
       " {'heading': 'Why cities must lead the climate battle',\n",
       "  'image': 'https://static.toiimg.com/photo/34824568.cms',\n",
       "  'summary': 'Their challenges have taken a backseat at global negotiations, this must change at COP27'},\n",
       " {'heading': 'This may be OnePlus’ plan to ‘reinvent’ foldable phone space',\n",
       "  'image': 'https://static.toiimg.com/photo/34824568.cms',\n",
       "  'summary': ''},\n",
       " {'heading': \"Isro working on tech that can beat even Star Trek's\",\n",
       "  'image': 'https://static.toiimg.com/photo/34824568.cms',\n",
       "  'summary': ''},\n",
       " {'heading': 'Laptop keyboard not working: 6 simple fixes to try',\n",
       "  'image': 'https://static.toiimg.com/photo/34824568.cms',\n",
       "  'summary': ''},\n",
       " {'heading': 'Delhi pollution gets second wind after some relief',\n",
       "  'image': 'https://static.toiimg.com/photo/34824568.cms',\n",
       "  'summary': ''},\n",
       " {'heading': \"Why some are out to prove their pneumonia isn't Covid\",\n",
       "  'image': 'https://static.toiimg.com/photo/34824568.cms',\n",
       "  'summary': ''},\n",
       " {'heading': 'Covid: ‘Booster call may hinge on immunity levels’',\n",
       "  'image': 'https://static.toiimg.com/photo/34824568.cms',\n",
       "  'summary': ''},\n",
       " {'heading': \"'Oral sex with minor not aggravated assault': HC\",\n",
       "  'image': 'https://static.toiimg.com/photo/34824568.cms',\n",
       "  'summary': ''},\n",
       " {'heading': 'After Airtel, Voda Idea raises call, data rates',\n",
       "  'image': 'https://static.toiimg.com/photo/34824568.cms',\n",
       "  'summary': ''},\n",
       " {'heading': \"SC: Won't defer Tripura civic polls\",\n",
       "  'image': 'https://static.toiimg.com/photo/34824568.cms',\n",
       "  'summary': ''},\n",
       " {'heading': 'Govt clears hurdles in AK rifle project, OKs desi sat for IAF',\n",
       "  'image': 'https://static.toiimg.com/photo/34824568.cms',\n",
       "  'summary': 'Ahead of Russian President Vladimir Putin’s visit to India early next month, the defence ministry on Tuesday cleared the hurdles in the long-pending over Rs 5,000 crore project to build AK-203 Kalashnikov rifles in India, while also giving the initial nod to a Rs 2,236 crore project to launch the GSAT-7C satellite for IAF.'}]"
      ]
     },
     "execution_count": 16,
     "metadata": {},
     "output_type": "execute_result"
    }
   ],
   "source": [
    "data = requests.get('https://timesofindia.indiatimes.com/news')\n",
    "if data.status_code == 200:\n",
    "    print('success')\n",
    "elif data.status_code == 404:\n",
    "    print('page not found')\n",
    "elif data.status_code == 500:\n",
    "    print('server error')\n",
    "\n",
    "soup = BeautifulSoup(data.text)\n",
    "\n",
    "rows = soup.find('div', {'class' : 'listing4'}).find('ul',{'class': 'cvs_wdt clearfix'}).findAll('li')\n",
    "# print(rows)\n",
    "newsdata = []\n",
    "for row in rows:\n",
    "    if row.attrs.get('class') != 'prime':\n",
    "        detail={}\n",
    "        detail['heading']=row.find('span').text\n",
    "        detail['image']=row.find('img').attrs.get('src')\n",
    "        detail['summary']=row.find('span', {'class' : 'w_desc'}).text\n",
    "        newsdata.append(detail)\n",
    "        # print(detail)\n",
    "\n",
    "newsdata"
   ]
  },
  {
   "cell_type": "code",
   "execution_count": 17,
   "metadata": {},
   "outputs": [],
   "source": [
    "url='https://www.codewithharry.com'"
   ]
  },
  {
   "cell_type": "code",
   "execution_count": 18,
   "metadata": {},
   "outputs": [],
   "source": [
    "# get Url\n",
    "r=requests.get(url)\n"
   ]
  },
  {
   "cell_type": "code",
   "execution_count": 19,
   "metadata": {},
   "outputs": [],
   "source": [
    "# Html Content\n",
    "Htmlcontent=r.content\n",
    "#print(Htmlcontent)"
   ]
  },
  {
   "cell_type": "code",
   "execution_count": 20,
   "metadata": {},
   "outputs": [],
   "source": [
    "# Create a Soup// Parse the Html\n",
    "soup=BeautifulSoup(Htmlcontent,'html.parser')\n",
    "#print(soup)"
   ]
  },
  {
   "cell_type": "code",
   "execution_count": 21,
   "metadata": {},
   "outputs": [],
   "source": [
    "#print(soup.prettify)"
   ]
  },
  {
   "cell_type": "code",
   "execution_count": 22,
   "metadata": {},
   "outputs": [],
   "source": [
    "data = requests.get('https://www.indiatvnews.com')"
   ]
  },
  {
   "cell_type": "code",
   "execution_count": 23,
   "metadata": {},
   "outputs": [
    {
     "name": "stdout",
     "output_type": "stream",
     "text": [
      "success\n"
     ]
    }
   ],
   "source": [
    "data = requests.get('https://www.indiatvnews.com')\n",
    "if data.status_code == 200:\n",
    "    print('success')\n",
    "elif data.status_code == 404:\n",
    "    print('page not found')\n",
    "elif data.status_code == 500:\n",
    "    print('server error')"
   ]
  },
  {
   "cell_type": "code",
   "execution_count": 24,
   "metadata": {},
   "outputs": [
    {
     "name": "stdout",
     "output_type": "stream",
     "text": [
      "[]\n"
     ]
    }
   ],
   "source": [
    "rows =soup.findAll('div', { 'class' : 'text_box' }) \n",
    "print(rows)"
   ]
  },
  {
   "cell_type": "code",
   "execution_count": 25,
   "metadata": {},
   "outputs": [
    {
     "data": {
      "text/plain": [
       "[]"
      ]
     },
     "execution_count": 25,
     "metadata": {},
     "output_type": "execute_result"
    }
   ],
   "source": [
    "newsdata = []\n",
    "for row in rows:\n",
    "        detail={}\n",
    "        detail['heading']=row.find('h2',{'class':'title'})\n",
    "        #print(detail)\n",
    "        #detail['image']=row.find('img').attrs.get('src')\n",
    "        \n",
    "        detail['discription']=row.find('p', {'class' : 'dis'})\n",
    "        print(detail)\n",
    "        newsdata.append(detail)\n",
    "       \n",
    "\n",
    "newsdata"
   ]
  }
 ],
 "metadata": {
  "interpreter": {
   "hash": "5334c72a8ba9d1e109c86958d2c23a84ecbfd50c07315bc902cebb9991757b75"
  },
  "kernelspec": {
   "display_name": "Python 3.9.7 64-bit",
   "name": "python3"
  },
  "language_info": {
   "codemirror_mode": {
    "name": "ipython",
    "version": 3
   },
   "file_extension": ".py",
   "mimetype": "text/x-python",
   "name": "python",
   "nbconvert_exporter": "python",
   "pygments_lexer": "ipython3",
   "version": "3.9.7"
  },
  "orig_nbformat": 4
 },
 "nbformat": 4,
 "nbformat_minor": 2
}
