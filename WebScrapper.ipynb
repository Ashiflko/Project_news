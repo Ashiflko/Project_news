{
 "cells": [
  {
   "cell_type": "code",
   "execution_count": 7,
   "metadata": {},
   "outputs": [],
   "source": [
    "from bs4 import BeautifulSoup\n",
    "import requests"
   ]
  },
  {
   "cell_type": "code",
   "execution_count": 2,
   "metadata": {},
   "outputs": [],
   "source": [
    "data = requests.get('https://www.ndtv.com/top-stories')"
   ]
  },
  {
   "cell_type": "code",
   "execution_count": 3,
   "metadata": {},
   "outputs": [
    {
     "name": "stdout",
     "output_type": "stream",
     "text": [
      "success\n"
     ]
    }
   ],
   "source": [
    "if data.status_code == 200:\n",
    "    print('success')\n",
    "elif data.status_code == 404:\n",
    "    print('page not found')\n",
    "elif data.status_code == 500:\n",
    "    print('server error')"
   ]
  },
  {
   "cell_type": "code",
   "execution_count": 4,
   "metadata": {},
   "outputs": [],
   "source": [
    "soup = BeautifulSoup(data.text)"
   ]
  },
  {
   "cell_type": "code",
   "execution_count": 50,
   "metadata": {},
   "outputs": [
    {
     "name": "stdout",
     "output_type": "stream",
     "text": [
      "<h2 class=\"newsHdng\"><a href=\"https://www.ndtv.com/world-news/china-poses-grave-military-threat-can-blockade-key-harbours-taiwan-2604022\">China Poses \"Grave\" Military Threat, Can Blockade Key Harbours: Taiwan</a></h2>\n",
      "https://c.ndtvimg.com/2021-10/d5uhn63g_china-taiwan_120x90_02_October_21.jpg\n",
      "<p class=\"newsCont\">China's armed forces are capable of blockading Taiwan's key harbours and airports, the island's defence ministry said on Tuesday, offering its latest assessment of what it describes as a \"grave\" military threat posed by its giant neighbour.</p>\n",
      "<h2 class=\"newsHdng\"><a href=\"https://www.ndtv.com/india-news/brahmins-baniyas-remark-madhya-pradesh-bjp-leader-p-muralidhar-rao-says-brahmins-baniyas-in-our-pocket-apologise-says-congress-2604016\">BJP Leader Says \"<i>Brahmins</i>, <i>Baniyas</i> In Pocket\", Apologise, Says Congress</a></h2>\n",
      "https://c.ndtvimg.com/2021-11/nhgs52c8_p-muralidhar-rao-240_120x90_09_November_21.jpg\n",
      "<p class=\"newsCont\">BJP leader P Muralidhar Rao's comment about <i>brahmins</i>and <i>baniyas</i> in the party's \"pockets\" have triggered a huge row in Madhya Pradesh, with the Congress demanding an apology and slamming the ruling party for \"arrogance\".</p>\n",
      "<h2 class=\"newsHdng\"><a href=\"https://www.ndtv.com/india-news/wanted-criminal-aide-killed-by-villagers-in-madhya-pradeshs-gwalior-2603992\">Wanted Criminal, Aide Killed By Villagers In Madhya Pradesh's Gwalior</a></h2>\n",
      "https://c.ndtvimg.com/2021-09/1qhk57s_mp-police-generic_120x90_05_September_21.jpg\n",
      "<p class=\"newsCont\">A criminal with a reward of Rs 10,000, and another man accompanying him, was killed with an axe at Dharmpura village in Gijorra, Gwalior following a dispute with villagers on Monday.</p>\n",
      "<h2 class=\"newsHdng\"><a href=\"https://www.ndtv.com/india-news/picture-of-the-day-karnataka-environmentalist-padma-shri-winner-tulsi-gowda-greets-prime-minister-narendra-modi-2603974\">POTD: Karnataka Environmentalist, Padma Shri Winner, Greets PM Modi</a></h2>\n",
      "https://c.ndtvimg.com/2021-11/lef04dr4_tulsi-gowda-pm-modi_120x90_09_November_21.jpg\n",
      "<p class=\"newsCont\">Tulsi Gowda, an environmentalist, was among the 119 Padma award recipients for the year 2020. A photo of the Karnataka tribal greeting Prime Minister Narendra Modi, top ministers and dignitaries at the function was widely shared on social media.</p>\n",
      "<h2 class=\"newsHdng\"><a href=\"https://www.ndtv.com/mumbai-news/7-injured-as-house-collapses-in-mumbais-antop-hill-2603967\">7 Injured In Mumbai House Collapse</a></h2>\n",
      "https://c.ndtvimg.com/2021-11/ddh0t6e_mumbai-house-collapse-240_120x90_09_November_21.jpg\n",
      "<p class=\"newsCont\">Seven people were injured after a ground-plus-one-storey house collapsed in Mumbai on Tuesday morning, a fire brigade official said.</p>\n",
      "<h2 class=\"newsHdng\"><a href=\"https://www.ndtv.com/india-news/ministers-dont-know-hindi-mizoram-wants-top-state-official-replaced-2603964\">\"My Ministers Don't Know Hindi\": Mizoram Chief Minister To Amit Shah</a></h2>\n",
      "https://c.ndtvimg.com/2021-11/081d75v8_zoramthanga-240_120x90_09_November_21.jpg\n",
      "<p class=\"newsCont\">The state ministers don't understand Hindi and some of them don't even know English, Mizoram Chief Minister Pu Zoramthanga said in his letter to Home Minister Amit Shah urging him to modify the centre's order and replace the state chief secretary.</p>\n",
      "<h2 class=\"newsHdng\"><a href=\"https://www.ndtv.com/india-news/for-lk-advanis-birthday-sushma-swarajs-daughter-bansuri-continues-a-tradition-2603951\">For LK Advani's Birthday, Sushma Swaraj's Daughter Continues A Tradition</a></h2>\n",
      "https://c.ndtvimg.com/2021-11/gdhct8p_bansuri-swaraj-_120x90_09_November_21.jpg\n",
      "<p class=\"newsCont\">Former External Affairs Minister Sushma Swaraj's daughter Bansuri Swaraj on Monday visited LK Advani to greet him on his birthday.</p>\n",
      "<h2 class=\"newsHdng\"><a href=\"https://www.ndtv.com/world-news/nicaraguas-daniel-ortega-secures-4th-term-us-threatens-sanctions-2603936\">Nicaragua's Daniel Ortega Secures 4th Term, US Threatens Sanctions</a></h2>\n",
      "https://c.ndtvimg.com/2021-11/b0uu7hno_daniel-ortega-240_120x90_09_November_21.jpg\n",
      "<p class=\"newsCont\">Nicaragua's President Daniel Ortega clinched a fourth consecutive term, results showed on Monday, after jailing political rivals ahead of a vote that prompted threats of sanctions from the United States and international calls for free elections.</p>\n",
      "<h2 class=\"newsHdng\"><a href=\"https://www.ndtv.com/india-news/mukesh-ambani-security-scare-tourist-asks-for-mukesh-ambanis-home-location-triggers-scare-detained-2603926\">Tourist Asks For Mukesh Ambani's Home Address, Triggers Scare, Detained</a></h2>\n",
      "https://c.ndtvimg.com/2021-11/mltdm6r8_security-outside-antilia-ndtv-240_240x180_08_November_21.jpg\n",
      "<p class=\"newsCont\">A 40-year-old man - Suresh Visanji Patel - has been taken into custody by Mumbai Police after a security red-flag around industrialist Mukesh Ambani's city residence - Antilia - on Monday night.</p>\n",
      "<h2 class=\"newsHdng\"><a href=\"https://www.ndtv.com/world-news/chinese-city-heihe-offers-cash-for-clues-to-trace-latest-covid-outbreak-2603920\">Chinese City Offers Cash For Clues To Trace Latest Covid Outbreak</a></h2>\n",
      "https://c.ndtvimg.com/2021-10/jke6vefg_china-covid-afp-240_120x90_30_October_21.jpg\n",
      "<p class=\"newsCont\">A Covid-hit Chinese city is offering thousands of dollars for anyone giving clues in tracing the source of its latest outbreak, as part of a \"people's war\" to stamp out one of the country's largest resurgences in months.</p>\n",
      "<h2 class=\"newsHdng\"><a href=\"https://www.ndtv.com/world-news/nasa-spacex-capsule-with-4-astronauts-splashes-down-off-florida-2603903\">NASA-SpaceX Capsule With 4 Astronauts Splashes Down Off Florida</a></h2>\n",
      "https://c.ndtvimg.com/2021-11/ge57q86_nasa-240_120x90_09_November_21.jpg\n",
      "<p class=\"newsCont\">A SpaceX capsule landed off the coast of Florida Monday carrying four astronauts who had spent six months on the International Space Station, a NASA live broadcast showed.</p>\n",
      "<h2 class=\"newsHdng\"><a href=\"https://www.ndtv.com/delhi-news/delhis-air-quality-moves-up-from-severe-to-very-poor-likely-to-improve-further-2603899\">Delhi's Air Quality Moves Up From \"Severe\" To \"Very Poor\", Likely To Improve Further</a></h2>\n",
      "https://c.ndtvimg.com/2021-11/okuf2ahk_delhi-pollution-_120x90_09_November_21.jpg\n",
      "<p class=\"newsCont\">The air quality of Delhi has improved from ''Severe'' to ''Very Poor'' category on Tuesday, with Air Quality Index (AQI) standing at 372.</p>\n",
      "<h2 class=\"newsHdng\"><a href=\"https://www.ndtv.com/india-news/coronavirus-10-126-fresh-covid-19-cases-in-india-in-24-hours-lowest-single-day-rise-since-early-february-2603878\">10,126 Fresh Covid Cases In India, Lowest Daily Rise Since Early February: 10 Points</a></h2>\n",
      "https://c.ndtvimg.com/2021-09/9h7c3r7o_coronavirus-india-reuters-sep-2021_240x180_28_September_21.jpg\n",
      "<p class=\"newsCont\">India saw the lowest daily rise in coronavirus cases since early February with 10,126 fresh infections in a sign of relief as the country looks forward to an increase in the vaccination pace amid the fight against COVID-19.</p>\n",
      "<h2 class=\"newsHdng\"><a href=\"https://www.ndtv.com/world-news/smaller-than-parking-space-life-in-hong-kongs-microflats-nanoflats-2603870\">\"Smaller Than Parking Space\": Life In Hong Kong's Microflats, Nanoflats</a></h2>\n",
      "https://c.ndtvimg.com/2021-11/na79bggg_hong-kong_120x90_09_November_21.jpg\n",
      "<p class=\"newsCont\">For Max Lee, a 26-year-old Hong Kong doctor, life in his single-room apartment revolves around the bed. It's the first thing you see walking in.</p>\n",
      "<h2 class=\"newsHdng\"><a href=\"https://www.ndtv.com/tamil-nadu-news/tamil-nadu-rain-live-updates-chennai-gets-respite-from-very-heavy-rainfall-2603862\">Tamil Nadu Rain Live Updates: Tamil Nadu Braces For Very Heavy Rainfall</a></h2>\n",
      "https://c.ndtvimg.com/2021-11/h4r6jcf_chennai-rain-tamil-nadu-rain-240_120x90_09_November_21.jpg\n",
      "<p class=\"newsCont\">Heavy to very heavy rainfall is predicted in 24 districts of Tamil Nadu and Puducherry today, according to the weather department's forecast. The Tamil Nadu region has been reeling under waterlogging and flooding over the weekend.</p>\n"
     ]
    }
   ],
   "source": [
    "rows = soup.findAll('div', { 'class' : 'news_Itm' })\n",
    "for row in rows:\n",
    "    if 'adBg' not in row.attrs.get('class'):\n",
    "        #print(row)\n",
    "        print(row.find('h2',{'class':'newsHdng'}))\n",
    "        print(row.find('img').attrs.get('src'))\n",
    "        print(row.find('p',{'class':'newsCont'}))\n",
    "        \n",
    "        \n",
    "        \n",
    "    \n",
    "    "
   ]
  },
  {
   "cell_type": "code",
   "execution_count": 24,
   "metadata": {},
   "outputs": [],
   "source": [
    "url1 = \"https://www.indiatoday.in/top-stories\""
   ]
  },
  {
   "cell_type": "code",
   "execution_count": 25,
   "metadata": {},
   "outputs": [],
   "source": [
    "data1 = requests.get(url1)"
   ]
  },
  {
   "cell_type": "code",
   "execution_count": 26,
   "metadata": {},
   "outputs": [
    {
     "name": "stdout",
     "output_type": "stream",
     "text": [
      "success\n"
     ]
    }
   ],
   "source": [
    "if data1.status_code == 200:\n",
    "    print('success')\n",
    "elif data1.status_code == 404:\n",
    "    print('page not found')\n",
    "elif data1.status_code == 500:\n",
    "    print('server error')"
   ]
  },
  {
   "cell_type": "code",
   "execution_count": 27,
   "metadata": {},
   "outputs": [],
   "source": [
    "soup1 = BeautifulSoup(data1.text)"
   ]
  },
  {
   "cell_type": "code",
   "execution_count": 28,
   "metadata": {},
   "outputs": [],
   "source": [
    "rows1 = soup1.findAll('div', { 'class' : 'catagory-listing' })"
   ]
  },
  {
   "cell_type": "code",
   "execution_count": 29,
   "metadata": {},
   "outputs": [
    {
     "data": {
      "text/plain": [
       "12"
      ]
     },
     "execution_count": 29,
     "metadata": {},
     "output_type": "execute_result"
    }
   ],
   "source": [
    "len(rows1)"
   ]
  },
  {
   "cell_type": "code",
   "execution_count": 45,
   "metadata": {},
   "outputs": [
    {
     "name": "stdout",
     "output_type": "stream",
     "text": [
      "<title>Top Headlines: News Headlines, Top News, India, Sports, Business, Politics, Entertainment, Celebrities, Lifestyle, Exclusive stories</title>\n",
      "Top Headlines: News Headlines, Top News, India, Sports, Business, Politics, Entertainment, Celebrities, Lifestyle, Exclusive stories\n"
     ]
    }
   ],
   "source": [
    "print(soup1.title)\n",
    "print(soup1.title.string)"
   ]
  },
  {
   "cell_type": "code",
   "execution_count": 39,
   "metadata": {},
   "outputs": [
    {
     "name": "stdout",
     "output_type": "stream",
     "text": [
      "<a href=\"/sports/cricket/story/t20-world-cup-new-zealand-vs-england-inzamam-ul-haq-favourites-1875039-2021-11-10\">T20 WC: New Zealand is not an inferior team when compared to England-Inzamam-ul-Haq</a>\n",
      "https://akm-img-a-in.tosshub.com/indiatoday/images/story/202111/RTX398AI_1200x768.png?ZGXBMO09fM_zWOFYyG.5FXwbnnbdpeDZ&size=170:96\n",
      "<p>Former Pakistan captain Inzamam-ul-Haq hopes that the first semi-final of the\n",
      "ICC Men's T20 World Cup between England and New Zealand will be a close\n",
      "encounter on Wednesday.</p>\n",
      "<a href=\"/lifestyle/fashion/story/what-malala-yousafzai-and-her-husband-asser-malik-wore-for-their-nikah-1875037-2021-11-10\">What Malala Yousafzai and her husband Asser Malik wore for their nikah</a>\n",
      "https://akm-img-a-in.tosshub.com/indiatoday/images/story/202111/mal.jpg?e0n5wUGRvXj2e3tPnjD6n_EzF0gM1.5Y&size=170:96\n",
      "<p>For the ceremony, Malala Yousafzai wore a soft pink shade of traditional\n",
      "attire encrusted with jewels on the borders.</p>\n",
      "<a href=\"/cities/mumbai/story/maharashtra-poverty-stricken-mother-sells-3-day-old-son-in-mumbai-1875036-2021-11-10\">Poverty-stricken mother sells 3-day old son for Rs 1.78 lakh in Mumbai</a>\n",
      "https://akm-img-a-in.tosshub.com/indiatoday/images/story/202111/baby_rep_1200x768.png?0P0SIe9Ze92p_2yDIi3jyXLwDW7t6ebc&size=170:96\n",
      "<p>Struck by extreme poverty, a 32-year-old woman from Shirdi town in\n",
      "Maharashtra's Ahmednagar district allegedly sold her three-day-old son to a\n",
      "man in Mumbai for Rs 1.78 lakh.  </p>\n",
      "<a href=\"/business/story/stock-market-opening-november-10-sensex-nifty-banks-financial-shares-paytm-nykaa-1875035-2021-11-10\">Sensex, Nifty fall as banks, financial stocks drag; Nykaa, Paytm in focus</a>\n",
      "https://akm-img-a-in.tosshub.com/indiatoday/images/story/202111/stock-market-opening-november-_5_1200x768.png?XKnWatW5AzwgpGPERC2mkaI2GasdNJM_&size=170:96\n",
      "<p>Benchmark market indices, S&amp;P BSE Sensex and NSE Nifty 50, opened weaker on\n",
      "Wednesday as bank and financial stocks fell.</p>\n",
      "<a href=\"/trending-news/story/poonam-pandey-swings-to-manike-mage-hithe-in-viral-video-seen-it-yet-1875032-2021-11-10\">Watch: Poonam Pandey swings to Manike Mage Hithe in viral video</a>\n",
      "https://akm-img-a-in.tosshub.com/indiatoday/images/story/202111/Untitled_design_-_2021-11-10T1.jpg?P8u20freMzRvwlH7stLyn9IQyl_2OS44&size=170:96\n",
      "<p>Poonam Pandey shared a video of herself swinging to Manike Mage Hithe on\n",
      "Instagram. The video has 224k views.</p>\n",
      "<a href=\"/television/reality-tv/story/kbc-13-episode-57-written-update-big-b-gives-standing-ovation-as-geeta-singh-wins-rs-1-crore-without-lifelines-1875019-2021-11-10\">KBC 13 Episode 57 Written Update: Big B gives standing ovation as Geeta Singh wins Rs 1 crore without lifeline</a>\n",
      "https://akm-img-a-in.tosshub.com/indiatoday/images/story/202111/geeta_1.png?Pt7S6oXRKbIs.GNEPskyFxkU11dgLvBJ&size=170:96\n",
      "<p>Kaun Banega Crorepati 13 contestant Geeta Singh Gaur from Gwalior took home\n",
      "Rs 1 crore with three lifelines intact. She got a standing ovation from host\n",
      "Amitabh Bachchan.</p>\n",
      "<a href=\"/movies/celebrities/story/rhea-chakraborty-s-bank-account-defreezed-after-a-year-gadgets-returned-by-court-1875017-2021-11-10\">Rhea Chakraborty's bank account defreezed after a year, gadgets returned by court</a>\n",
      "https://akm-img-a-in.tosshub.com/indiatoday/images/story/202111/253054192_1313697279064682_477_1200x768.jpeg?1excCPgOanVFDHqbJH5X3NOq.buk3pCN&size=170:96\n",
      "<p>Rhea Chakraborty's bank account has been defreezed and the gadgets have been\n",
      "returned by a Mumbai court. The bank accounts were frozen by the Narcotics\n",
      "Control Bureau (NCB) last year after she was booked in the drugs case\n",
      "following Sushant Singh Rajput's death.</p>\n",
      "<a href=\"/crime/story/gujarat-rape-minor-girl-varachha-area-surat-1875031-2021-11-10\">Gujarat: 12-year-old girl raped in Surat, accused arrested</a>\n",
      "https://akm-img-a-in.tosshub.com/indiatoday/images/story/202111/rapee.jpeg?1ja5L5y5wmonoGiDFyADVkQK0xDBXVv7&size=170:96\n",
      "<p>A 12-year-old girl was raped in Gujarat's Surat city. The accused has been\n",
      "arrested.</p>\n",
      "<a href=\"/india/story/air-india-flight-makes-emergency-landing-assam-silchar-1875028-2021-11-10\">Assam | Air India flight makes emergency landing after tyre malfunctions</a>\n",
      "https://akm-img-a-in.tosshub.com/indiatoday/images/story/202111/Air_india_1200x768.png?HiXN3y1iQcy6ePNV4TGRjk7qaHfnKJ4O&size=170:96\n",
      "<p>According to sources, the plane was forced to land immediately after take-off\n",
      "after a snag was noticed in one of its rear tyres.</p>\n",
      "<a href=\"/india/story/farmer-found-hanging-singhu-border-delhi-1875027-2021-11-10\">Farmer linked to BKU Sidhupur faction found hanging at Singhu border</a>\n",
      "https://akm-img-a-in.tosshub.com/indiatoday/images/story/202111/farmers_tikri.jpg?O0OFdQbSB_rbOkQZI_f2KvMiLbHeHLUL&size=170:96\n",
      "<p>A farmer who was protesting against the three agricultural laws at the Singhu\n",
      "border was found hanging.</p>\n",
      "<a href=\"/movies/celebrities/story/navya-naveli-nanda-poses-for-a-pretty-pic-with-grandmom-jaya-bachchan-1875018-2021-11-10\">Navya Naveli Nanda poses for a pretty pic with grandmom Jaya Bachchan</a>\n",
      "https://akm-img-a-in.tosshub.com/indiatoday/images/story/202111/navya-naveli-jaya_1200x768.jpeg?Or909kDnrMGuHbi9G6jC.RDUAssjuHa3&size=170:96\n",
      "<p>Navya Naveli Nanda shared a cute photo of herself with her grandmom Jaya\n",
      "Bachchan in which they are seen happily posing. The power women donned ethnic\n",
      "wear for the picture.</p>\n",
      "<a href=\"/movies/bollywood/story/sooryavanshi-box-office-collection-day-5-akshay-kumar-film-earns-rs-138-57-crore-1875015-2021-11-10\">Sooryavanshi box office collection Day 5: Akshay Kumar film earns Rs 138.57 crore</a>\n",
      "https://akm-img-a-in.tosshub.com/indiatoday/images/story/202111/pjimage_14.jpg?bhkNx.5Zukftv2itwZWmnBVrXkg3qKYE&size=170:96\n",
      "<p>Akshay Kumar and Katrina Kaif’s Sooryavanshi is all set to enter the Rs 150\n",
      "crore club worldwide. The film earned Rs 138.57 crore (worldwide) in its\n",
      "first week.</p>\n"
     ]
    }
   ],
   "source": [
    "for row in rows1:\n",
    "        print(row.find('a'))\n",
    "        print(row.find('img').attrs.get('src'))\n",
    "        print(row.find('p'))"
   ]
  },
  {
   "cell_type": "code",
   "execution_count": 42,
   "metadata": {},
   "outputs": [
    {
     "name": "stdout",
     "output_type": "stream",
     "text": [
      " T20 WC: New Zealand is not an inferior team when compared to England-Inzamam-ul-HaqFormer Pakistan captain Inzamam-ul-Haq hopes that the first semi-final of the\n",
      "ICC Men's T20 World Cup between England and New Zealand will be a close\n",
      "encounter on Wednesday.\n",
      "\n",
      "\n",
      "<img alt=\"\" data-preview-url=\"\" src=\"https://akm-img-a-in.tosshub.com/indiatoday/images/story/202111/RTX398AI_1200x768.png?ZGXBMO09fM_zWOFYyG.5FXwbnnbdpeDZ&amp;size=170:96\" title=\"\"/>\n",
      "\n",
      "\n",
      "<p>Former Pakistan captain Inzamam-ul-Haq hopes that the first semi-final of the\n",
      "ICC Men's T20 World Cup between England and New Zealand will be a close\n",
      "encounter on Wednesday.</p>\n",
      "\n",
      "\n",
      " What Malala Yousafzai and her husband Asser Malik wore for their nikahFor the ceremony, Malala Yousafzai wore a soft pink shade of traditional\n",
      "attire encrusted with jewels on the borders.\n",
      "\n",
      "\n",
      "<img alt=\"\" data-preview-url=\"\" src=\"https://akm-img-a-in.tosshub.com/indiatoday/images/story/202111/mal.jpg?e0n5wUGRvXj2e3tPnjD6n_EzF0gM1.5Y&amp;size=170:96\" title=\"\"/>\n",
      "\n",
      "\n",
      "<p>For the ceremony, Malala Yousafzai wore a soft pink shade of traditional\n",
      "attire encrusted with jewels on the borders.</p>\n",
      "\n",
      "\n",
      " Poverty-stricken mother sells 3-day old son for Rs 1.78 lakh in MumbaiStruck by extreme poverty, a 32-year-old woman from Shirdi town in\n",
      "Maharashtra's Ahmednagar district allegedly sold her three-day-old son to a\n",
      "man in Mumbai for Rs 1.78 lakh.  \n",
      "\n",
      "\n",
      "<img alt=\"\" data-preview-url=\"\" src=\"https://akm-img-a-in.tosshub.com/indiatoday/images/story/202111/baby_rep_1200x768.png?0P0SIe9Ze92p_2yDIi3jyXLwDW7t6ebc&amp;size=170:96\" title=\"\"/>\n",
      "\n",
      "\n",
      "<p>Struck by extreme poverty, a 32-year-old woman from Shirdi town in\n",
      "Maharashtra's Ahmednagar district allegedly sold her three-day-old son to a\n",
      "man in Mumbai for Rs 1.78 lakh.  </p>\n",
      "\n",
      "\n",
      " Sensex, Nifty fall as banks, financial stocks drag; Nykaa, Paytm in focusBenchmark market indices, S&P BSE Sensex and NSE Nifty 50, opened weaker on\n",
      "Wednesday as bank and financial stocks fell.\n",
      "\n",
      "\n",
      "<img class=\"lazyloaded\" data-preview-url=\"\" height=\"96\" src=\"https://akm-img-a-in.tosshub.com/indiatoday/images/story/202111/stock-market-opening-november-_5_1200x768.png?XKnWatW5AzwgpGPERC2mkaI2GasdNJM_&amp;size=170:96\" width=\"170\"/>\n",
      "\n",
      "\n",
      "<p>Benchmark market indices, S&amp;P BSE Sensex and NSE Nifty 50, opened weaker on\n",
      "Wednesday as bank and financial stocks fell.</p>\n",
      "\n",
      "\n",
      " Watch: Poonam Pandey swings to Manike Mage Hithe in viral videoPoonam Pandey shared a video of herself swinging to Manike Mage Hithe on\n",
      "Instagram. The video has 224k views.\n",
      "\n",
      "\n",
      "<img class=\"lazyloaded\" data-preview-url=\"\" height=\"96\" src=\"https://akm-img-a-in.tosshub.com/indiatoday/images/story/202111/Untitled_design_-_2021-11-10T1.jpg?P8u20freMzRvwlH7stLyn9IQyl_2OS44&amp;size=170:96\" width=\"170\"/>\n",
      "\n",
      "\n",
      "<p>Poonam Pandey shared a video of herself swinging to Manike Mage Hithe on\n",
      "Instagram. The video has 224k views.</p>\n",
      "\n",
      "\n",
      " KBC 13 Episode 57 Written Update: Big B gives standing ovation as Geeta Singh wins Rs 1 crore without lifelineKaun Banega Crorepati 13 contestant Geeta Singh Gaur from Gwalior took home\n",
      "Rs 1 crore with three lifelines intact. She got a standing ovation from host\n",
      "Amitabh Bachchan.\n",
      "\n",
      "\n",
      "<img class=\"lazyloaded\" data-preview-url=\"\" height=\"96\" src=\"https://akm-img-a-in.tosshub.com/indiatoday/images/story/202111/geeta_1.png?Pt7S6oXRKbIs.GNEPskyFxkU11dgLvBJ&amp;size=170:96\" width=\"170\"/>\n",
      "\n",
      "\n",
      "<p>Kaun Banega Crorepati 13 contestant Geeta Singh Gaur from Gwalior took home\n",
      "Rs 1 crore with three lifelines intact. She got a standing ovation from host\n",
      "Amitabh Bachchan.</p>\n",
      "\n",
      "\n",
      " Rhea Chakraborty's bank account defreezed after a year, gadgets returned by courtRhea Chakraborty's bank account has been defreezed and the gadgets have been\n",
      "returned by a Mumbai court. The bank accounts were frozen by the Narcotics\n",
      "Control Bureau (NCB) last year after she was booked in the drugs case\n",
      "following Sushant Singh Rajput's death.\n",
      "\n",
      "\n",
      "<img class=\"lazyloaded\" data-preview-url=\"\" height=\"96\" src=\"https://akm-img-a-in.tosshub.com/indiatoday/images/story/202111/253054192_1313697279064682_477_1200x768.jpeg?1excCPgOanVFDHqbJH5X3NOq.buk3pCN&amp;size=170:96\" width=\"170\"/>\n",
      "\n",
      "\n",
      "<p>Rhea Chakraborty's bank account has been defreezed and the gadgets have been\n",
      "returned by a Mumbai court. The bank accounts were frozen by the Narcotics\n",
      "Control Bureau (NCB) last year after she was booked in the drugs case\n",
      "following Sushant Singh Rajput's death.</p>\n",
      "\n",
      "\n",
      " Gujarat: 12-year-old girl raped in Surat, accused arrestedA 12-year-old girl was raped in Gujarat's Surat city. The accused has been\n",
      "arrested.\n",
      "\n",
      "\n",
      "<img class=\"lazyloaded\" data-preview-url=\"\" height=\"96\" src=\"https://akm-img-a-in.tosshub.com/indiatoday/images/story/202111/rapee.jpeg?1ja5L5y5wmonoGiDFyADVkQK0xDBXVv7&amp;size=170:96\" width=\"170\"/>\n",
      "\n",
      "\n",
      "<p>A 12-year-old girl was raped in Gujarat's Surat city. The accused has been\n",
      "arrested.</p>\n",
      "\n",
      "\n",
      " Assam | Air India flight makes emergency landing after tyre malfunctionsAccording to sources, the plane was forced to land immediately after take-off\n",
      "after a snag was noticed in one of its rear tyres.\n",
      "\n",
      "\n",
      "<img class=\"lazyloaded\" data-preview-url=\"\" height=\"96\" src=\"https://akm-img-a-in.tosshub.com/indiatoday/images/story/202111/Air_india_1200x768.png?HiXN3y1iQcy6ePNV4TGRjk7qaHfnKJ4O&amp;size=170:96\" width=\"170\"/>\n",
      "\n",
      "\n",
      "<p>According to sources, the plane was forced to land immediately after take-off\n",
      "after a snag was noticed in one of its rear tyres.</p>\n",
      "\n",
      "\n",
      " Farmer linked to BKU Sidhupur faction found hanging at Singhu borderA farmer who was protesting against the three agricultural laws at the Singhu\n",
      "border was found hanging.\n",
      "\n",
      "\n",
      "<img class=\"lazyloaded\" data-preview-url=\"\" height=\"96\" src=\"https://akm-img-a-in.tosshub.com/indiatoday/images/story/202111/farmers_tikri.jpg?O0OFdQbSB_rbOkQZI_f2KvMiLbHeHLUL&amp;size=170:96\" width=\"170\"/>\n",
      "\n",
      "\n",
      "<p>A farmer who was protesting against the three agricultural laws at the Singhu\n",
      "border was found hanging.</p>\n",
      "\n",
      "\n",
      " Navya Naveli Nanda poses for a pretty pic with grandmom Jaya BachchanNavya Naveli Nanda shared a cute photo of herself with her grandmom Jaya\n",
      "Bachchan in which they are seen happily posing. The power women donned ethnic\n",
      "wear for the picture.\n",
      "\n",
      "\n",
      "<img class=\"lazyloaded\" data-preview-url=\"\" height=\"96\" src=\"https://akm-img-a-in.tosshub.com/indiatoday/images/story/202111/navya-naveli-jaya_1200x768.jpeg?Or909kDnrMGuHbi9G6jC.RDUAssjuHa3&amp;size=170:96\" width=\"170\"/>\n",
      "\n",
      "\n",
      "<p>Navya Naveli Nanda shared a cute photo of herself with her grandmom Jaya\n",
      "Bachchan in which they are seen happily posing. The power women donned ethnic\n",
      "wear for the picture.</p>\n",
      "\n",
      "\n",
      " Sooryavanshi box office collection Day 5: Akshay Kumar film earns Rs 138.57 croreAkshay Kumar and Katrina Kaif’s Sooryavanshi is all set to enter the Rs 150\n",
      "crore club worldwide. The film earned Rs 138.57 crore (worldwide) in its\n",
      "first week.\n",
      "\n",
      "\n",
      "<img class=\"lazyloaded\" data-preview-url=\"\" height=\"96\" src=\"https://akm-img-a-in.tosshub.com/indiatoday/images/story/202111/pjimage_14.jpg?bhkNx.5Zukftv2itwZWmnBVrXkg3qKYE&amp;size=170:96\" width=\"170\"/>\n",
      "\n",
      "\n",
      "<p>Akshay Kumar and Katrina Kaif’s Sooryavanshi is all set to enter the Rs 150\n",
      "crore club worldwide. The film earned Rs 138.57 crore (worldwide) in its\n",
      "first week.</p>\n",
      "\n",
      "\n"
     ]
    }
   ],
   "source": [
    "for i in rows1:\n",
    "    print(i.text)\n",
    "    print('\\n')\n",
    "    print(i.img)\n",
    "    print('\\n')\n",
    "    print(i.p)\n",
    "    print('\\n')"
   ]
  }
 ],
 "metadata": {
  "interpreter": {
   "hash": "5334c72a8ba9d1e109c86958d2c23a84ecbfd50c07315bc902cebb9991757b75"
  },
  "kernelspec": {
   "display_name": "Python 3.9.7 64-bit",
   "name": "python3"
  },
  "language_info": {
   "codemirror_mode": {
    "name": "ipython",
    "version": 3
   },
   "file_extension": ".py",
   "mimetype": "text/x-python",
   "name": "python",
   "nbconvert_exporter": "python",
   "pygments_lexer": "ipython3",
   "version": "3.9.7"
  },
  "orig_nbformat": 4
 },
 "nbformat": 4,
 "nbformat_minor": 2
}
