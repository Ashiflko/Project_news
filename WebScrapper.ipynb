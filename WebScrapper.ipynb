{
 "cells": [
  {
   "cell_type": "code",
   "execution_count": 115,
   "metadata": {},
   "outputs": [],
   "source": [
    "from bs4 import BeautifulSoup\n",
    "import requests"
   ]
  },
  {
   "cell_type": "code",
   "execution_count": 116,
   "metadata": {},
   "outputs": [],
   "source": [
    "data = requests.get('https://www.ndtv.com/top-stories')"
   ]
  },
  {
   "cell_type": "code",
   "execution_count": 117,
   "metadata": {},
   "outputs": [
    {
     "name": "stdout",
     "output_type": "stream",
     "text": [
      "success\n"
     ]
    }
   ],
   "source": [
    "if data.status_code == 200:\n",
    "    print('success')\n",
    "elif data.status_code == 404:\n",
    "    print('page not found')\n",
    "elif data.status_code == 500:\n",
    "    print('server error')"
   ]
  },
  {
   "cell_type": "code",
   "execution_count": 118,
   "metadata": {},
   "outputs": [],
   "source": [
    "soup = BeautifulSoup(data.text)"
   ]
  },
  {
   "cell_type": "code",
   "execution_count": 119,
   "metadata": {},
   "outputs": [
    {
     "name": "stdout",
     "output_type": "stream",
     "text": [
      "<h2 class=\"newsHdng\"><a href=\"https://www.ndtv.com/world-news/when-a-hacker-calls-how-robinhood-fell-victim-to-a-vishing-raid-2628895\">When A Hacker Calls: How Robinhood Fell Victim To A Vishing Raid</a></h2>\n",
      "https://c.ndtvimg.com/2021-11/gggc3o4o_robinhood-bloomberg_120x90_29_November_21.jpg\n",
      "<p class=\"newsCont\">The call was coming from inside the company. Or so it seemed when the mobile phone of a customer-service representative for Robinhood Markets lit up on the evening of Nov 3. More than an hour passed --, as the caller reeled in the hapless employee</p>\n",
      "<h2 class=\"newsHdng\"><a href=\"https://www.ndtv.com/world-news/british-socialite-ghislaine-maxwells-complaints-from-jail-in-us-amid-jeffrey-epstein-case-trial-2628891\">\"You Are Not Special\": UK Socialite Ghislaine Maxwell's Complaints From Jail</a></h2>\n",
      "https://c.ndtvimg.com/2020-07/ob7q9f58_british-socialite-ghislaine-maxwell-_120x90_02_July_20.jpg\n",
      "<p class=\"newsCont\">British socialite Ghislaine Maxwell -- accused of grooming underage girls for sex with Jeffrey Epstein -- has been held at Brooklyn's Metropolitan Detention Center for almost 17 months, after being arrested last year at her estate in New Hampshire.</p>\n",
      "<h2 class=\"newsHdng\"><a href=\"https://www.ndtv.com/world-news/philippines-suspends-decision-to-allow-vaccinated-tourists-entry-2628890\">Philippines Suspends Decision To Allow Vaccinated Tourists Entry</a></h2>\n",
      "https://c.ndtvimg.com/2021-11/1ffha9jo_china-coronavirus-afp_120x90_17_November_21.jpg\n",
      "<p class=\"newsCont\">The Philippines has temporarily suspended a decision to allow fully vaccinated tourists entry in a bid to prevent a new, heavily mutated coronavirus variant taking off in the country where most of the population remains unvaccinated.</p>\n",
      "<h2 class=\"newsHdng\"><a href=\"https://www.ndtv.com/india-news/be-cautious-pm-modi-on-new-omicron-covid-variant-at-parliament-winter-session-2628872\">\"Be Cautious\": PM Modi On Omicron Variant At Parliament Winter Session</a></h2>\n",
      "https://c.ndtvimg.com/2021-11/d08nqqp_pm-modi-outside-parliament-ndtv_120x90_29_November_21.jpg\n",
      "<p class=\"newsCont\">Prime Minister Narendra Modi today urged caution on the new Covid variant 'Omicron' as he spoke before the start of the Winter Session of Parliament. He had held a Covid review meet on the weekend amid concerns about the new strain.</p>\n",
      "<h2 class=\"newsHdng\"><a href=\"https://www.ndtv.com/world-news/mark-esper-former-us-defence-secretary-sues-pentagon-for-withholding-parts-of-his-memoir-report-2628861\">Former US Defence Secretary Sues Pentagon For Withholding Parts Of His Memoir: Report</a></h2>\n",
      "https://c.ndtvimg.com/2020-10/akcther_mark-esperus-defense-secretaryreuters_120x90_15_October_20.jpg\n",
      "<p class=\"newsCont\">Former US Secretary of Defense Mark Esper has sued the Defence Department accusing Pentagon officials of blocking parts of his memoir.</p>\n",
      "<h2 class=\"newsHdng\"><a href=\"https://www.ndtv.com/india-news/omicron-alert-new-rules-for-india-arrivals-and-airports-in-5-points-2628857\">Omicron Alert: New Rules For India Arrivals And Airports In 5 Points</a></h2>\n",
      "https://c.ndtvimg.com/2021-11/iai9pfsk_delhi-airport-arrivals_120x90_15_November_21.jpg\n",
      "<p class=\"newsCont\">People arriving in India by flights from countries where a new strain of coronavirus, 'Omicron', has been detected will need to follow certain entry rules. India announced this to check any spread of the new strain amid the COVID-19 pandemic.</p>\n",
      "<h2 class=\"newsHdng\"><a href=\"https://www.ndtv.com/world-news/coronavirus-omicron-effect-countries-start-shutting-down-borders-heres-the-latest-2628850\">Omicron Effect: Countries Start Shutting Down Borders, Here's The Latest</a></h2>\n",
      "https://c.ndtvimg.com/2021-11/rjvr1a88_schiphol-airport-japan-coronavirus-reuters_120x90_29_November_21.jpg\n",
      "<p class=\"newsCont\">Japan said on Monday it would bar entry to foreigners to prevent the spread of the Omicron variant of coronavirus, joining Israel in the strictest border measures yet since the variant's discovery.</p>\n",
      "<h2 class=\"newsHdng\"><a href=\"https://www.ndtv.com/india-news/pradhan-mantri-garib-kalyan-yojana-extended-till-march-2022-says-pm-modi-2628845\">Pradhan Mantri Garib Kalyan Yojana Extended Till March 2022, Says PM Modi</a></h2>\n",
      "https://c.ndtvimg.com/2021-11/d08nqqp_pm-modi-outside-parliament-ndtv_120x90_29_November_21.jpg\n",
      "<p class=\"newsCont\">PM Modi on Monday said that in a bid to bring relief to over 80 crore people during the COVID-19 pandemic, the Centre is running Pradhan Mantri Garib Kalyan Yojana to provide free grains and the scheme has been extended till March 2022.</p>\n",
      "<h2 class=\"newsHdng\"><a href=\"https://www.ndtv.com/world-news/how-will-omicron-impact-global-recovery-economists-list-4-possibilities-2628808\">Omicron Ends Hopes Of World Starting 2022 With Economy Recovery</a></h2>\n",
      "https://c.ndtvimg.com/2021-11/03ti3pv4_covid-travel-afp_120x90_27_November_21.jpg\n",
      "<p class=\"newsCont\">The omicron variant is dealing a blow to optimistic hopes that the world economy would enter 2022 on a firmer footing, potentially undermining plans by policy makers to focus on inflation rather than weak demand.</p>\n",
      "<h2 class=\"newsHdng\"><a href=\"https://www.ndtv.com/india-news/maharashtra-old-age-home-now-containment-zone-after-67-test-covid-positive-2628805\">Maharashtra Old Age Home Now Containment Zone After 67 Test Covid +ve</a></h2>\n",
      "https://c.ndtvimg.com/2021-11/i81oot1k_thane-cluster-240_120x90_29_November_21.jpg\n",
      "<p class=\"newsCont\">Sixty seven residents, 62 of them fully vaccinated, of an old age home in Maharashtra's Thane have tested positive for coronavirus, said officials.</p>\n",
      "<h2 class=\"newsHdng\"><a href=\"https://www.ndtv.com/world-news/japan-to-ban-foreign-arrivals-over-new-covid-variant-says-prime-minister-2628782\">Japan To Ban Foreign Arrivals Over New Covid Variant, Says Prime Minister</a></h2>\n",
      "https://c.ndtvimg.com/2021-09/kbmk0okg_fumio-kishida-afp_120x90_29_September_21.jpg\n",
      "<p class=\"newsCont\">Japan will reinstate tough border measures, barring all new foreign arrivals over the Omicron Covid variant, Prime Minister Fumio Kishida announced Monday, just weeks after a softening of strict entry rules.</p>\n",
      "<h2 class=\"newsHdng\"><a href=\"https://www.ndtv.com/india-news/mehul-choksi-says-may-be-kidnapped-once-again-taken-to-guyana-2628667\">Fugitive Mehul Choksi Says \"May Be Kidnapped Once Again, Taken To Guyana\"</a></h2>\n",
      "https://c.ndtvimg.com/2021-11/pns14sa8_mehul-choksi_120x90_29_November_21.jpg\n",
      "<p class=\"newsCont\">Fugitive diamantaire Mehul Choksi fears that he might be kidnapped again and may be taken to Guyana, from where he may be taken away in an unlawful and illegal manner.</p>\n",
      "<h2 class=\"newsHdng\"><a href=\"https://www.ndtv.com/india-news/pm-narendra-modi-government-ready-to-discuss-reply-to-all-issues-in-parliament-ahead-of-winter-session-2628761\">PM Says \"Government Ready To Discuss, Reply On All Issues In Parliament\"</a></h2>\n",
      "https://c.ndtvimg.com/2021-11/d08nqqp_pm-modi-outside-parliament-ndtv_120x90_29_November_21.jpg\n",
      "<p class=\"newsCont\">Prime Minister Narendra Modi today said his government is ready to reply to all questions in parliament's winter session that starts today but urged the opposition to be mindful of the dignity of the house and the Speaker.</p>\n",
      "<h2 class=\"newsHdng\"><a href=\"https://www.ndtv.com/india-news/winter-session-sunrise-for-farmers-in-parliament-rahul-gandhi-preps-opposition-attack-2628753\">\"Sunrise For Farmers Today\": Rahul Gandhi On Day 1 Of Winter Session</a></h2>\n",
      "https://c.ndtvimg.com/2021-11/j6h7241o_congress-parliament-protest_120x90_29_November_21.jpg\n",
      "<p class=\"newsCont\">Congress MP Rahul Gandhi has primed his party for the big confrontation over agricultural issues with the BJP-led centre in parliament today.</p>\n",
      "<h2 class=\"newsHdng\"><a href=\"https://www.ndtv.com/world-news/moderna-says-new-vaccine-for-omicron-may-be-ready-in-early-2022-2628748\">Omicron May Elude Current Vaccines, Says Moderna Expert</a></h2>\n",
      "https://c.ndtvimg.com/2021-11/fvoggpb_france-covid-vaccine-afp-240_120x90_25_November_21.jpg\n",
      "<p class=\"newsCont\">Moderna Inc. Chief Medical Officer Paul Burton said he suspects the new omicron coronavirus variant may elude current vaccines, and if so, a reformulated shot could be available early in the new year.</p>\n"
     ]
    }
   ],
   "source": [
    "rows = soup.findAll('div', { 'class' : 'news_Itm' })\n",
    "for row in rows:\n",
    "    if 'adBg' not in row.attrs.get('class'):\n",
    "        #print(row)\n",
    "        print(row.find('h2',{'class':'newsHdng'}))\n",
    "        print(row.find('img').attrs.get('src'))\n",
    "        print(row.find('p',{'class':'newsCont'}))\n",
    "        \n",
    "        \n",
    "        \n",
    "    \n",
    "    "
   ]
  },
  {
   "cell_type": "code",
   "execution_count": 120,
   "metadata": {},
   "outputs": [],
   "source": [
    "url1 = \"https://www.indiatoday.in/top-stories\""
   ]
  },
  {
   "cell_type": "code",
   "execution_count": 121,
   "metadata": {},
   "outputs": [],
   "source": [
    "data1 = requests.get(url1)"
   ]
  },
  {
   "cell_type": "code",
   "execution_count": 122,
   "metadata": {},
   "outputs": [
    {
     "name": "stdout",
     "output_type": "stream",
     "text": [
      "success\n"
     ]
    }
   ],
   "source": [
    "if data1.status_code == 200:\n",
    "    print('success')\n",
    "elif data1.status_code == 404:\n",
    "    print('page not found')\n",
    "elif data1.status_code == 500:\n",
    "    print('server error')"
   ]
  },
  {
   "cell_type": "code",
   "execution_count": 123,
   "metadata": {},
   "outputs": [],
   "source": [
    "soup1 = BeautifulSoup(data1.text)"
   ]
  },
  {
   "cell_type": "code",
   "execution_count": 124,
   "metadata": {},
   "outputs": [],
   "source": [
    "rows1 = soup1.findAll('div', { 'class' : 'catagory-listing' })"
   ]
  },
  {
   "cell_type": "code",
   "execution_count": 125,
   "metadata": {},
   "outputs": [
    {
     "data": {
      "text/plain": [
       "12"
      ]
     },
     "execution_count": 125,
     "metadata": {},
     "output_type": "execute_result"
    }
   ],
   "source": [
    "len(rows1)"
   ]
  },
  {
   "cell_type": "code",
   "execution_count": 126,
   "metadata": {},
   "outputs": [
    {
     "name": "stdout",
     "output_type": "stream",
     "text": [
      "<title>Top Headlines: News Headlines, Top News, India, Sports, Business, Politics, Entertainment, Celebrities, Lifestyle, Exclusive stories</title>\n",
      "Top Headlines: News Headlines, Top News, India, Sports, Business, Politics, Entertainment, Celebrities, Lifestyle, Exclusive stories\n"
     ]
    }
   ],
   "source": [
    "print(soup1.title)\n",
    "print(soup1.title.string)"
   ]
  },
  {
   "cell_type": "code",
   "execution_count": 127,
   "metadata": {},
   "outputs": [
    {
     "name": "stdout",
     "output_type": "stream",
     "text": [
      "<a href=\"/movies/celebrities/story/yami-gautam-thanks-husband-aditya-for-making-her-33rd-birthday-special-see-post-1882017-2021-11-29\">Yami Gautam thanks husband Aditya for making her birthday special. See post</a>\n",
      "https://akm-img-a-in.tosshub.com/indiatoday/images/story/202111/261228733_624603992060712_1880_1200x768.jpeg?FzNcWiYzhy2acp9js96jdanm.Dp1qfxU&size=170:96\n",
      "<p>Yami Gautam shares pictures and videos from her 33rd birthday celebration.\n",
      "The actress thanked her family and her husband, Aditya Dhar, for making her\n",
      "day special.</p>\n",
      "<a href=\"/law/story/blotter-paper-include-weight-lsd-drugs-bombay-high-court-ncb-1882016-2021-11-29\">Blotter paper should be included while measuring weight of LSD, rules Bombay HC</a>\n",
      "https://akm-img-a-in.tosshub.com/indiatoday/images/story/202111/lsd.jpg?iZQw4MgmVL9._yzsDPJsGs8H4_.jakAv&size=170:96\n",
      "<p>The Bombay High Court has ruled that the weight of the blotter paper should\n",
      "be included while measuring the weight of LSD drugs.</p>\n",
      "<a href=\"/india/story/union-minister-launches-aerial-delivery-covid-vaccines-drones-jammu-1882012-2021-11-29\">Union minister launches aerial delivery of Covid-19 vaccines using drones in Jammu</a>\n",
      "https://akm-img-a-in.tosshub.com/indiatoday/images/story/202111/josh-sorenson-ouuigywbXlI-unsp_2.jpeg?epxIfesRMZojy4lbYN8MdK8c_wXmUR8g&size=170:96\n",
      "<p>Union Minister Jitendra Singh launched a drone-driven aerial delivery\n",
      "facility to transport Covid-19 vaccines and emergency medicines to\n",
      "inaccessible and difficult areas in a short span of time in Jammu.</p>\n",
      "<a href=\"/sports/cricket/story/shane-warne-bike-accident-australia-avoid-serious-injuries-hospital-precautiohary-1882011-2021-11-29\">Australia spinner Shane Warne injured in bike accident: Bit battered and bruised</a>\n",
      "https://akm-img-a-in.tosshub.com/indiatoday/images/story/202111/shanewarnepujarasteve_1200x768.jpeg?lpjH6Jc1qzNppIuF1KbyXeyN049K7J_q&size=170:96\n",
      "<p>Legendary Australia spinner Shane Warne fell off his bike and slid for more\n",
      "than 15 meters on Sunday. While he avoided major injuries, Warne visited a\n",
      "hospital on Monday as a precautionary measure.</p>\n",
      "<a href=\"/movies/regional-cinema/story/dhanush-wins-best-actor-for-asuran-at-brics-film-festival-calls-it-an-absolute-honour-1882007-2021-11-29\">Dhanush wins Best Actor for Asuran at BRICS Film Festival</a>\n",
      "https://akm-img-a-in.tosshub.com/indiatoday/images/story/202111/Dhanush_best_actor_BRICS_film__1200x768.jpeg?Hj5OyvJZZAzoxIOGPq9Meas80KYT8gCL&size=170:96\n",
      "<p>Dhanush won the Best Actor award at BRICS Film Festival for his performance\n",
      "in Asuran. The film also won three National Awards.</p>\n",
      "<a href=\"/cities/delhi/story/delhi-pollution-supreme-court-central-vista-project-construction-ban-1882008-2021-11-29\">Delhi pollution: SC asks is Central Vista project construction work going on despite ban?</a>\n",
      "https://akm-img-a-in.tosshub.com/indiatoday/images/story/202111/Central_Vista_1_1200x768.jpeg?E_LLGS03_f0tT81HhgLXasXVuIgRcn0.&size=170:96\n",
      "<p>The Supreme Court has pulled up the Centre for continuing with the Central\n",
      "Vista project despite a ban on construction in Delhi.</p>\n",
      "<a href=\"/television/celebrity/story/ekta-kapoor-confirms-karishma-tanna-and-varun-bangera-s-wedding-wishes-them-awesome-future-1881988-2021-11-29\">Ekta Kapoor confirms Karishma Tanna and Varun Bangera's wedding</a>\n",
      "https://akm-img-a-in.tosshub.com/indiatoday/images/story/202111/karishma_tanna_varun_bangera_e_0.jpg?VS08LBvcgNnR_3GrGWV6zpoyg5FW05iz&size=170:96\n",
      "<p>Ekta Kapoor shared a video on social media to wish Karishma Tanna and Varun\n",
      "Bangera an awesome future together. The duo recently got enagaged.</p>\n",
      "<a href=\"/movies/bollywood/story/ranveer-singh-shares-what-kapil-dev-s-mom-always-told-him-announces-83-trailer-update-1882001-2021-11-29\">Ranveer Singh shares what Kapil Dev’s mom always told him. 83 trailer update</a>\n",
      "https://akm-img-a-in.tosshub.com/indiatoday/images/story/202111/E2Ar-HfVEAEMTID_1200x768.jpeg?NKT_7i62OPqIcfw8KMWbH0dWZfnR5Wj3&size=170:96\n",
      "<p>The trailer of Ranveer Singh’s 83 will drop on November 30. Directed by\n",
      "Kabir Khan, the film will release in theatres on December 24.</p>\n",
      "<a href=\"/coronavirus-outbreak/story/omicron-south-africa-returnee-covid-positive-thane-genome-sequencing-1882004-2021-11-29\">South Africa returnee tests Covid positive in Thane; samples sent to check for Omicron</a>\n",
      "https://akm-img-a-in.tosshub.com/indiatoday/images/story/202111/omi_1200x768.jpeg?cGMrZX7hmWLSDQwUH7XKDebca5BLnkRh&size=170:96\n",
      "<p>Samples of a person who tested Covid positive after returning from South\n",
      "Africa will be sent for genome sequencing to check whether he is infected\n",
      "with the Omicron variant.</p>\n",
      "<a href=\"/opinion-columns/story/inclusiveness-a-prerequisite-for-leadership-1882003-2021-11-29\">Inclusiveness: A prerequisite for leadership | OPINION</a>\n",
      "https://akm-img-a-in.tosshub.com/indiatoday/images/story/202111/SADHGURU.jpg?548Wk_ZjjPzEOIlsdyc3nhcRGXf7TBOs&size=170:96\n",
      "<p>Usually, people understand leadership as a position of power. But those\n",
      "leaders who were truly successful and loved by people lived in a position of\n",
      "continuous sacrifice because a leader means your life and activity are no\n",
      "longer about yourself.</p>\n",
      "<a href=\"/business/story/why-paytm-shares-fell-after-q2fy22-results-check-stock-price-1881994-2021-11-29\">Explained: Why Paytm shares fell sharply in early trade</a>\n",
      "https://akm-img-a-in.tosshub.com/indiatoday/images/story/202111/Paytm-shares-fall_1200x768.png?OGpcdQyiD2Df3PagcRcL9pG3jO6jIuvv&size=170:96\n",
      "<p>Paytm shares declined 4.6 per cent in early trade, but have made up some\n",
      "ground. Paytm shares traded 0.22 per cent lower at Rs 1,778 on the National\n",
      "Stock Exchange (NSE) at 10:40 am. It was down 0.23 per cent on the Bombay\n",
      "Stock Exchange (BSE).</p>\n",
      "<a href=\"/movies/regional-cinema/story/choreographer-sivasankar-dies-at-72-ss-rajamouli-to-chiranjeevi-celebs-pay-last-respects-1881990-2021-11-29\">SS Rajamouli to Chiranjeevi, celebs pay last respects to Sivasankar</a>\n",
      "https://akm-img-a-in.tosshub.com/indiatoday/images/story/202111/Sivasankar_dies_rajamouli_Chir_0.jpg?LyuWha.J64Ri5R.jHI29iPMshDLo0n7r&size=170:96\n",
      "<p>Dance choreographer Sivasankar breathed his last at a private hospital in\n",
      "Hyderabad on November 28. SS Rajamouli, Chiranjeevi and several celebrities\n",
      "took to social media to pay last respects.</p>\n"
     ]
    }
   ],
   "source": [
    "for row in rows1:\n",
    "        print(row.find('a'))\n",
    "        print(row.find('img').attrs.get('src'))\n",
    "        print(row.find('p'))"
   ]
  },
  {
   "cell_type": "code",
   "execution_count": 128,
   "metadata": {},
   "outputs": [
    {
     "name": "stdout",
     "output_type": "stream",
     "text": [
      " Yami Gautam thanks husband Aditya for making her birthday special. See postYami Gautam shares pictures and videos from her 33rd birthday celebration.\n",
      "The actress thanked her family and her husband, Aditya Dhar, for making her\n",
      "day special.\n",
      "\n",
      "\n",
      "<img alt=\"\" data-preview-url=\"\" src=\"https://akm-img-a-in.tosshub.com/indiatoday/images/story/202111/261228733_624603992060712_1880_1200x768.jpeg?FzNcWiYzhy2acp9js96jdanm.Dp1qfxU&amp;size=170:96\" title=\"\"/>\n",
      "\n",
      "\n",
      "<p>Yami Gautam shares pictures and videos from her 33rd birthday celebration.\n",
      "The actress thanked her family and her husband, Aditya Dhar, for making her\n",
      "day special.</p>\n",
      "\n",
      "\n",
      " Blotter paper should be included while measuring weight of LSD, rules Bombay HCThe Bombay High Court has ruled that the weight of the blotter paper should\n",
      "be included while measuring the weight of LSD drugs.\n",
      "\n",
      "\n",
      "<img alt=\"\" data-preview-url=\"\" src=\"https://akm-img-a-in.tosshub.com/indiatoday/images/story/202111/lsd.jpg?iZQw4MgmVL9._yzsDPJsGs8H4_.jakAv&amp;size=170:96\" title=\"\"/>\n",
      "\n",
      "\n",
      "<p>The Bombay High Court has ruled that the weight of the blotter paper should\n",
      "be included while measuring the weight of LSD drugs.</p>\n",
      "\n",
      "\n",
      " Union minister launches aerial delivery of Covid-19 vaccines using drones in JammuUnion Minister Jitendra Singh launched a drone-driven aerial delivery\n",
      "facility to transport Covid-19 vaccines and emergency medicines to\n",
      "inaccessible and difficult areas in a short span of time in Jammu.\n",
      "\n",
      "\n",
      "<img alt=\"\" data-preview-url=\"\" src=\"https://akm-img-a-in.tosshub.com/indiatoday/images/story/202111/josh-sorenson-ouuigywbXlI-unsp_2.jpeg?epxIfesRMZojy4lbYN8MdK8c_wXmUR8g&amp;size=170:96\" title=\"\"/>\n",
      "\n",
      "\n",
      "<p>Union Minister Jitendra Singh launched a drone-driven aerial delivery\n",
      "facility to transport Covid-19 vaccines and emergency medicines to\n",
      "inaccessible and difficult areas in a short span of time in Jammu.</p>\n",
      "\n",
      "\n",
      " Australia spinner Shane Warne injured in bike accident: Bit battered and bruisedLegendary Australia spinner Shane Warne fell off his bike and slid for more\n",
      "than 15 meters on Sunday. While he avoided major injuries, Warne visited a\n",
      "hospital on Monday as a precautionary measure.\n",
      "\n",
      "\n",
      "<img class=\"lazyloaded\" data-preview-url=\"\" height=\"96\" src=\"https://akm-img-a-in.tosshub.com/indiatoday/images/story/202111/shanewarnepujarasteve_1200x768.jpeg?lpjH6Jc1qzNppIuF1KbyXeyN049K7J_q&amp;size=170:96\" width=\"170\"/>\n",
      "\n",
      "\n",
      "<p>Legendary Australia spinner Shane Warne fell off his bike and slid for more\n",
      "than 15 meters on Sunday. While he avoided major injuries, Warne visited a\n",
      "hospital on Monday as a precautionary measure.</p>\n",
      "\n",
      "\n",
      " Dhanush wins Best Actor for Asuran at BRICS Film FestivalDhanush won the Best Actor award at BRICS Film Festival for his performance\n",
      "in Asuran. The film also won three National Awards.\n",
      "\n",
      "\n",
      "<img class=\"lazyloaded\" data-preview-url=\"\" height=\"96\" src=\"https://akm-img-a-in.tosshub.com/indiatoday/images/story/202111/Dhanush_best_actor_BRICS_film__1200x768.jpeg?Hj5OyvJZZAzoxIOGPq9Meas80KYT8gCL&amp;size=170:96\" width=\"170\"/>\n",
      "\n",
      "\n",
      "<p>Dhanush won the Best Actor award at BRICS Film Festival for his performance\n",
      "in Asuran. The film also won three National Awards.</p>\n",
      "\n",
      "\n",
      " Delhi pollution: SC asks is Central Vista project construction work going on despite ban?The Supreme Court has pulled up the Centre for continuing with the Central\n",
      "Vista project despite a ban on construction in Delhi.\n",
      "\n",
      "\n",
      "<img class=\"lazyloaded\" data-preview-url=\"\" height=\"96\" src=\"https://akm-img-a-in.tosshub.com/indiatoday/images/story/202111/Central_Vista_1_1200x768.jpeg?E_LLGS03_f0tT81HhgLXasXVuIgRcn0.&amp;size=170:96\" width=\"170\"/>\n",
      "\n",
      "\n",
      "<p>The Supreme Court has pulled up the Centre for continuing with the Central\n",
      "Vista project despite a ban on construction in Delhi.</p>\n",
      "\n",
      "\n",
      " Ekta Kapoor confirms Karishma Tanna and Varun Bangera's weddingEkta Kapoor shared a video on social media to wish Karishma Tanna and Varun\n",
      "Bangera an awesome future together. The duo recently got enagaged.\n",
      "\n",
      "\n",
      "<img class=\"lazyloaded\" data-preview-url=\"\" height=\"96\" src=\"https://akm-img-a-in.tosshub.com/indiatoday/images/story/202111/karishma_tanna_varun_bangera_e_0.jpg?VS08LBvcgNnR_3GrGWV6zpoyg5FW05iz&amp;size=170:96\" width=\"170\"/>\n",
      "\n",
      "\n",
      "<p>Ekta Kapoor shared a video on social media to wish Karishma Tanna and Varun\n",
      "Bangera an awesome future together. The duo recently got enagaged.</p>\n",
      "\n",
      "\n",
      " Ranveer Singh shares what Kapil Dev’s mom always told him. 83 trailer updateThe trailer of Ranveer Singh’s 83 will drop on November 30. Directed by\n",
      "Kabir Khan, the film will release in theatres on December 24.\n",
      "\n",
      "\n",
      "<img class=\"lazyloaded\" data-preview-url=\"\" height=\"96\" src=\"https://akm-img-a-in.tosshub.com/indiatoday/images/story/202111/E2Ar-HfVEAEMTID_1200x768.jpeg?NKT_7i62OPqIcfw8KMWbH0dWZfnR5Wj3&amp;size=170:96\" width=\"170\"/>\n",
      "\n",
      "\n",
      "<p>The trailer of Ranveer Singh’s 83 will drop on November 30. Directed by\n",
      "Kabir Khan, the film will release in theatres on December 24.</p>\n",
      "\n",
      "\n",
      " South Africa returnee tests Covid positive in Thane; samples sent to check for OmicronSamples of a person who tested Covid positive after returning from South\n",
      "Africa will be sent for genome sequencing to check whether he is infected\n",
      "with the Omicron variant.\n",
      "\n",
      "\n",
      "<img class=\"lazyloaded\" data-preview-url=\"\" height=\"96\" src=\"https://akm-img-a-in.tosshub.com/indiatoday/images/story/202111/omi_1200x768.jpeg?cGMrZX7hmWLSDQwUH7XKDebca5BLnkRh&amp;size=170:96\" width=\"170\"/>\n",
      "\n",
      "\n",
      "<p>Samples of a person who tested Covid positive after returning from South\n",
      "Africa will be sent for genome sequencing to check whether he is infected\n",
      "with the Omicron variant.</p>\n",
      "\n",
      "\n",
      " Inclusiveness: A prerequisite for leadership | OPINIONUsually, people understand leadership as a position of power. But those\n",
      "leaders who were truly successful and loved by people lived in a position of\n",
      "continuous sacrifice because a leader means your life and activity are no\n",
      "longer about yourself.\n",
      "\n",
      "\n",
      "<img class=\"lazyloaded\" data-preview-url=\"\" height=\"96\" src=\"https://akm-img-a-in.tosshub.com/indiatoday/images/story/202111/SADHGURU.jpg?548Wk_ZjjPzEOIlsdyc3nhcRGXf7TBOs&amp;size=170:96\" width=\"170\"/>\n",
      "\n",
      "\n",
      "<p>Usually, people understand leadership as a position of power. But those\n",
      "leaders who were truly successful and loved by people lived in a position of\n",
      "continuous sacrifice because a leader means your life and activity are no\n",
      "longer about yourself.</p>\n",
      "\n",
      "\n",
      " Explained: Why Paytm shares fell sharply in early tradePaytm shares declined 4.6 per cent in early trade, but have made up some\n",
      "ground. Paytm shares traded 0.22 per cent lower at Rs 1,778 on the National\n",
      "Stock Exchange (NSE) at 10:40 am. It was down 0.23 per cent on the Bombay\n",
      "Stock Exchange (BSE).\n",
      "\n",
      "\n",
      "<img class=\"lazyloaded\" data-preview-url=\"\" height=\"96\" src=\"https://akm-img-a-in.tosshub.com/indiatoday/images/story/202111/Paytm-shares-fall_1200x768.png?OGpcdQyiD2Df3PagcRcL9pG3jO6jIuvv&amp;size=170:96\" width=\"170\"/>\n",
      "\n",
      "\n",
      "<p>Paytm shares declined 4.6 per cent in early trade, but have made up some\n",
      "ground. Paytm shares traded 0.22 per cent lower at Rs 1,778 on the National\n",
      "Stock Exchange (NSE) at 10:40 am. It was down 0.23 per cent on the Bombay\n",
      "Stock Exchange (BSE).</p>\n",
      "\n",
      "\n",
      " SS Rajamouli to Chiranjeevi, celebs pay last respects to SivasankarDance choreographer Sivasankar breathed his last at a private hospital in\n",
      "Hyderabad on November 28. SS Rajamouli, Chiranjeevi and several celebrities\n",
      "took to social media to pay last respects.\n",
      "\n",
      "\n",
      "<img class=\"lazyloaded\" data-preview-url=\"\" height=\"96\" src=\"https://akm-img-a-in.tosshub.com/indiatoday/images/story/202111/Sivasankar_dies_rajamouli_Chir_0.jpg?LyuWha.J64Ri5R.jHI29iPMshDLo0n7r&amp;size=170:96\" width=\"170\"/>\n",
      "\n",
      "\n",
      "<p>Dance choreographer Sivasankar breathed his last at a private hospital in\n",
      "Hyderabad on November 28. SS Rajamouli, Chiranjeevi and several celebrities\n",
      "took to social media to pay last respects.</p>\n",
      "\n",
      "\n"
     ]
    }
   ],
   "source": [
    "for i in rows1:\n",
    "    print(i.text)\n",
    "    print('\\n')\n",
    "    print(i.img)\n",
    "    print('\\n')\n",
    "    print(i.p)\n",
    "    print('\\n')"
   ]
  },
  {
   "cell_type": "code",
   "execution_count": 129,
   "metadata": {},
   "outputs": [],
   "source": [
    "data = requests.get('https://timesofindia.indiatimes.com/news')"
   ]
  },
  {
   "cell_type": "code",
   "execution_count": 136,
   "metadata": {},
   "outputs": [
    {
     "name": "stdout",
     "output_type": "stream",
     "text": [
      "success\n",
      "{'image': 'https://static.toiimg.com/photo/34824568.cms', 'summary': ''}\n",
      "{'image': 'https://static.toiimg.com/photo/34824568.cms', 'summary': 'The newly emerged variant of concern B.1.1.529 (Omicron) may not respond to monoclonal antibody therapy or cocktail treatment, experts fear. Based on preliminary analysis of Omicron infections in South Africa and elsewhere, experts suggest that it has six times higher potential to spread (R value) than the Delta variant that had triggered the second wave in India. It could also evade the immune system. It may also cause vaccine breakthrough infections.'}\n",
      "{'image': 'https://static.toiimg.com/photo/34824568.cms', 'summary': 'There is global recognition for the need to separate the crime of trafficking from consenting adult sex work. India must join this march for change'}\n",
      "{'image': 'https://static.toiimg.com/photo/34824568.cms', 'summary': ''}\n",
      "{'image': 'https://static.toiimg.com/photo/34824568.cms', 'summary': ''}\n",
      "{'image': 'https://static.toiimg.com/photo/34824568.cms', 'summary': 'From clinching deals on Kalashnikov assault rifles and very-short range air defence missile systems to a military logistics pact, upgraded combat exercises and joint projects, Russia is looking to challenge US as India’s pre-eminent strategic partner and defence supplier. Ahead of the Modi-Putin summit, coinciding with inaugural dialogue between their foreign and defence ministers, hectic negotiations are underway to put finishing touches on a wide-ranging strategic-defence agenda.'}\n",
      "{'image': 'https://static.toiimg.com/photo/34824568.cms', 'summary': 'Amid the ongoing border standoff with China, Indian Army’s restrictions on grazing in the traditional pasture land has left areas along the Line of Actual Control in eastern Ladakh vulnerable to ‘salami slicing’ by the People’s Liberation Army and affected livestock rearing, the sole livelihood of nomadic inhabitants, who act as the ‘eyes’ of the forces.'}\n",
      "{'image': 'https://static.toiimg.com/photo/34824568.cms', 'summary': 'In 1971 when Turtuk became part of India, families had to deal with the pain of separation. But now tech and tourism bring new hope'}\n",
      "{'image': 'https://static.toiimg.com/photo/34824568.cms', 'summary': ''}\n",
      "{'image': 'https://static.toiimg.com/photo/34824568.cms', 'summary': 'The Supreme Court on Monday expressed concerns over the deteriorating air quality of Delhi and questioned the local authorities regarding the steps that are being taken to control the situation.'}\n",
      "{'image': 'https://static.toiimg.com/photo/34824568.cms', 'summary': ''}\n",
      "{'image': 'https://static.toiimg.com/photo/34824568.cms', 'summary': \"Here's how Katrina Kaif and Vicky Kaushal are prepping for their December wedding\"}\n",
      "{'image': 'https://static.toiimg.com/photo/34824568.cms', 'summary': ''}\n",
      "{'image': 'https://static.toiimg.com/photo/34824568.cms', 'summary': 'Since the onset of the novel coronavirus, new variants and mutations have continued to emerge, with the Delta variant proving to be the most dangerous of all.'}\n",
      "{'image': 'https://static.toiimg.com/photo/34824568.cms', 'summary': 'Chief minister Basavaraj Bommai on Sunday said the state government has written to the Centre, urging it to immediately approve booster Covid-19 vaccine doses for healthcare workers in Karnataka.'}\n",
      "{'image': 'https://static.toiimg.com/photo/34824568.cms', 'summary': 'Sixty-two residents of an old age home in Bhiwandi, including 55 inmates, five staffers and two of their relatives, have tested positive for Covid-19, district health officials informed on Sunday. Another five inmates who are suspected to be infected have also been hospitalised. The area has been declared a containment zone. Importantly, 60 of the 62 infected were fully vaccinated, the health department said.'}\n",
      "{'image': 'https://static.toiimg.com/photo/34824568.cms', 'summary': 'Covishield and Covaxin jabs can prevent hospitalisation and death that may come with the new Botswana variant Omicron (B.1.1.529), the nCoV’s most mutated version as yet, virologists and infectious diseases experts have said.'}\n",
      "{'image': 'https://static.toiimg.com/photo/34824568.cms', 'summary': 'Use of condoms has remained a taboo subject in Gujarat, and India at large – as men have largely remained reluctant to use the over-the-counter contraceptive rendering it a topic of jokes and even an OTT film recently.'}\n",
      "{'image': 'https://static.toiimg.com/photo/34824568.cms', 'summary': 'In a first, a 19-year-old boy from Sikrai in Dausa has sought the help of the state child commission to stop his wedding which is scheduled for Monday.'}\n",
      "{'image': 'https://static.toiimg.com/photo/34824568.cms', 'summary': \"India on Monday reported 8,309 new Covid-19 cases and 236 deaths in the last 24 hours, the health ministry's release at 9:00 am stated. The death toll has climbed to 4,68,790. The country's total tally of cases now stands at 3,45,80,832.\"}\n"
     ]
    }
   ],
   "source": [
    "data = requests.get('https://timesofindia.indiatimes.com/news')\n",
    "if data.status_code == 200:\n",
    "    print('success')\n",
    "elif data.status_code == 404:\n",
    "    print('page not found')\n",
    "elif data.status_code == 500:\n",
    "   print('server error')\n",
    "soup = BeautifulSoup(data.text)\n",
    "\n",
    "rows3 = soup.find('div', {'class' : 'listing4'}).find('ul',{'class': 'cvs_wdt clearfix'}).findAll('li')\n",
    "# print(rows)\n",
    "newsdata = []\n",
    "for row in rows3:\n",
    "    if row.attrs.get('class') != 'prime':\n",
    "        detail={}\n",
    "        detail['heading']=row.find('span').text\n",
    "        detail['image']=row.find('img').attrs.get('src')\n",
    "        detail['summary']=row.find('span', {'class' : 'w_desc'}).text\n",
    "        newsdata.append(detail)\n",
    "        print(detail)\n",
    "    newsdata"
   ]
  },
  {
   "cell_type": "code",
   "execution_count": 131,
   "metadata": {},
   "outputs": [],
   "source": [
    "data = requests.get('https://zeenews.india.com/latest-news')\n",
    "if data.status_code == 200:\n",
    "    print('success')\n",
    "elif data.status_code == 404:\n",
    "    print('page not found')\n",
    "elif data.status_code == 500:\n",
    "    print('server error')\n",
    "\n",
    "soup = BeautifulSoup(data.text)"
   ]
  },
  {
   "cell_type": "code",
   "execution_count": 132,
   "metadata": {},
   "outputs": [
    {
     "data": {
      "text/plain": [
       "403"
      ]
     },
     "execution_count": 132,
     "metadata": {},
     "output_type": "execute_result"
    }
   ],
   "source": [
    "data.status_code"
   ]
  }
 ],
 "metadata": {
  "interpreter": {
   "hash": "5334c72a8ba9d1e109c86958d2c23a84ecbfd50c07315bc902cebb9991757b75"
  },
  "kernelspec": {
   "display_name": "Python 3.9.7 64-bit",
   "name": "python3"
  },
  "language_info": {
   "codemirror_mode": {
    "name": "ipython",
    "version": 3
   },
   "file_extension": ".py",
   "mimetype": "text/x-python",
   "name": "python",
   "nbconvert_exporter": "python",
   "pygments_lexer": "ipython3",
   "version": "3.9.7"
  },
  "orig_nbformat": 4
 },
 "nbformat": 4,
 "nbformat_minor": 2
}
