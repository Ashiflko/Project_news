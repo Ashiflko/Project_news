{
 "cells": [
  {
   "cell_type": "code",
   "execution_count": 1,
   "metadata": {},
   "outputs": [],
   "source": [
    "from bs4 import BeautifulSoup\n",
    "import requests"
   ]
  },
  {
   "cell_type": "code",
   "execution_count": 2,
   "metadata": {},
   "outputs": [],
   "source": [
    "data = requests.get('https://www.ndtv.com/top-stories')"
   ]
  },
  {
   "cell_type": "code",
   "execution_count": 3,
   "metadata": {},
   "outputs": [
    {
     "name": "stdout",
     "output_type": "stream",
     "text": [
      "success\n"
     ]
    }
   ],
   "source": [
    "if data.status_code == 200:\n",
    "    print('success')\n",
    "elif data.status_code == 404:\n",
    "    print('page not found')\n",
    "elif data.status_code == 500:\n",
    "    print('server error')"
   ]
  },
  {
   "cell_type": "code",
   "execution_count": 4,
   "metadata": {},
   "outputs": [],
   "source": [
    "soup = BeautifulSoup(data.text)"
   ]
  },
  {
   "cell_type": "code",
   "execution_count": 5,
   "metadata": {},
   "outputs": [
    {
     "name": "stdout",
     "output_type": "stream",
     "text": [
      "<h2 class=\"newsHdng\"><a href=\"https://www.ndtv.com/india-news/delhi-tells-supreme-court-ready-to-take-steps-like-complete-lockdown-to-fight-air-pollution-says-it-will-have-limited-impact-2611169\">Ready For Steps Like Full Lockdown: Delhi To Supreme Court On Pollution</a></h2>\n",
      "https://c.ndtvimg.com/2021-11/e9rdcuuc_delhi-air-pollution-afp_120x90_15_November_21.jpg\n",
      "<p class=\"newsCont\">The Delhi government has told the Supreme Court that it is ready to take steps like complete lockdown to fight air pollution, two days after the court asked for an emergency plan to tackle the capital city's alarming air quality crisis.</p>\n",
      "<h2 class=\"newsHdng\"><a href=\"https://www.ndtv.com/indians-abroad/plea-for-indian-origin-man-on-death-row-in-singapore-second-chance-2611162\">\"Second Chance\" Plea For Indian-Origin Man, On Death Row In Singapore</a></h2>\n",
      "https://c.ndtvimg.com/2021-11/qo5dcnc4_singapore-disabled-man-nagaenthran-k-dharmalingam_120x90_09_November_21.jpg\n",
      "<p class=\"newsCont\">The sister of a Malaysian man facing imminent execution despite concerns he is mentally disabled has pleaded with Singapore to give him a \"second chance\".</p>\n",
      "<h2 class=\"newsHdng\"><a href=\"https://www.ndtv.com/india-news/gujarat-anti-terrorist-squad-arrests-3-seizes-120-kgs-drugs-worth-crores-2611139\">Gujarat Anti-Terrorist Squad Arrests 3, Seizes 120 Kgs Drugs Worth Crores</a></h2>\n",
      "https://c.ndtvimg.com/2020-03/nenar76g_police-generic_120x90_07_March_20.jpg\n",
      "<p class=\"newsCont\">The Gujarat Anti-Terrorist Squad (ATS) has seized 120 kg of drugs from three persons in the state's Morbi district, officials said today.</p>\n",
      "<h2 class=\"newsHdng\"><a href=\"https://www.ndtv.com/world-news/lockdown-for-the-unvaccinated-austria-takes-drastic-covid-step-2611138\">Lockdown For The Unvaccinated - This Country Takes Drastic Covid Step</a></h2>\n",
      "https://c.ndtvimg.com/2021-11/proponbo_austria-coronavirus-bloomberg_120x90_15_November_21.jpg\n",
      "<p class=\"newsCont\">Austria is putting unvaccinated people under lockdown from Monday, the most drastic move by a Western European country to slow the latest wave of the coronavirus.</p>\n",
      "<h2 class=\"newsHdng\"><a href=\"https://www.ndtv.com/world-news/trump-organization-to-sell-his-washington-hotel-for-375-million-report-2611115\">Trump Organization To Sell His Washington Hotel For $375 Million: Report</a></h2>\n",
      "https://c.ndtvimg.com/2021-11/nmkpoaug_trump-international-hotel-washington_120x90_15_November_21.jpg\n",
      "<p class=\"newsCont\">The Trump Organization has reached a deal to sell its Washington hotel lease for $375 million to CGI Merchant Group, which plans to remove ex-president Donald Trump's name from the luxury property's facade, US media reported Sunday.</p>\n",
      "<h2 class=\"newsHdng\"><a href=\"https://www.ndtv.com/world-news/women-to-sue-qatar-over-invasive-airport-searches-2611111\">\"Guise Of Highly Modernised Airport\": Why Group Of Women Are Suing Qatar</a></h2>\n",
      "https://i.ndtvimg.com/i/2017-08/doha-airport-reuters_240x180_41502300203.jpg\n",
      "<p class=\"newsCont\">A group of women subjected to invasive gynaecological searches at Doha airport will sue Qatari authorities, seeking redress for an ordeal that sparked global condemnation, their lawyer told AFP Monday.</p>\n",
      "<h2 class=\"newsHdng\"><a href=\"https://www.ndtv.com/india-news/undermines-democracy-rashtriya-janata-dal-mp-manoj-jha-on-cbi-enforcement-directorate-chiefs-tenure-extensions-2611099\">\"Undermines Democracy\": Manoj Jha On CBI, Probe Agency Chiefs' Tenure Extensions</a></h2>\n",
      "https://c.ndtvimg.com/2020-11/4j6r734o_manoj-jha_120x90_15_November_20.jpg\n",
      "<p class=\"newsCont\">Rashtriya Janata Dal (RJD) MP Manoj Jha attacked the Centre's move to extend the tenure of Enforcement Directorate (ED) director and Central Bureau of Investigation (CBI) director to five years.</p>\n",
      "<h2 class=\"newsHdng\"><a href=\"https://www.ndtv.com/india-news/gadchiroli-encounter-will-soon-be-able-to-control-naxals-says-chhattisgarh-chief-minister-bhupesh-baghel-2611090\">Will Soon Be Able To Control Naxals: Bhupesh Baghel On Gadchiroli Encounter</a></h2>\n",
      "https://c.ndtvimg.com/2021-09/4rfvoof_bhupesh-baghel-twitter_120x90_26_September_21.jpg\n",
      "<p class=\"newsCont\">Chhattisgarh Chief Minister Bhupesh Baghel on Sunday said that the killing of 26 Naxals in the Gadchiroli encounter will affect the Naxal movement, adding this will help in controlling their movement.</p>\n",
      "<h2 class=\"newsHdng\"><a href=\"https://www.ndtv.com/india-news/birsa-munda-birth-anniversary-prime-minister-narendra-modi-pays-tribute-to-freedom-fighter-birsa-munda-2611083\">PM Modi Pays Tribute To Freedom Fighter Birsa Munda On Birth Anniversary</a></h2>\n",
      "https://i.ndtvimg.com/i/2017-11/birsa-munda-twitter_240x180_61510740645.jpg\n",
      "<p class=\"newsCont\">PM Modi paid tribute to freedom fighter Birsa Munda, who was born in the tribal belt of the undivided Bihar in 1875, and rallied tribals against the British colonial rule before dying in 1900 in Ranchi jail.</p>\n",
      "<h2 class=\"newsHdng\"><a href=\"https://www.ndtv.com/india-news/woman-found-hanging-in-train-coach-rape-suspected-gujarat-police-2610528\">Woman Found Hanging In Train Coach, Rape Suspected: Gujarat Police</a></h2>\n",
      "https://c.ndtvimg.com/d91r6fu8_gujarat-police_120x90_31_July_18.jpg\n",
      "<p class=\"newsCont\">Police in Vadodara on Sunday said they suspect that an 18-year-old woman, whose body was found hanging in a train coach at Valsad in Gujarat earlier this month, was gang-raped in Vadodara while she was on way back to her hostel from work.</p>\n",
      "<h2 class=\"newsHdng\"><a href=\"https://www.ndtv.com/india-news/border-security-force-seizes-8-packets-of-suspected-heroin-near-india-pakistan-border-in-punjab-2611080\">BSF Seizes 8 Packets Of Suspected Heroin Near India-Pak Border In Punjab</a></h2>\n",
      "https://c.ndtvimg.com/2021-08/61fbkvqk_-bsf-recruitment-2021_120x90_10_August_21.jpg\n",
      "<p class=\"newsCont\">The Border Security Force (BSF) has recovered eight packets of contraband suspected to be heroin near the India-Pakistan International Border (IB) track in the paddy field in the Ferozepur sector in Punjab, the Force said today.</p>\n",
      "<h2 class=\"newsHdng\"><a href=\"https://www.ndtv.com/india-news/rare-hallikar-breed-bull-becomes-main-attraction-at-krishi-mela-in-bengaluru-2610842\">At Bengaluru Krishi Mela, This Rare Breed Of Bull Is Main Attraction</a></h2>\n",
      "https://c.ndtvimg.com/2021-11/d5mclelk_bull-270_120x90_15_November_21.jpg\n",
      "<p class=\"newsCont\">A Hallikar breed bull named Krishna is one of the main attractions at the Krishi Mela 2021 in Bengaluru and its semen is in great demand.</p>\n",
      "<h2 class=\"newsHdng\"><a href=\"https://www.ndtv.com/india-news/congress-slams-government-over-extension-of-cbi-enforcement-directorate-directors-tenures-2610812\">Congress Slams Centre Over Extension Of CBI, Probe Agency Chiefs' Tenures</a></h2>\n",
      "https://c.ndtvimg.com/2021-08/dslgfsi_cbi-building-facebook_120x90_25_August_21.jpeg\n",
      "<p class=\"newsCont\">Congress attacked Centre over its move to issue ordinances by which the tenures of directors of the Central Bureau of Investigation and the Enforcement Directorate can now be up to a maximum of five years.</p>\n",
      "<h2 class=\"newsHdng\"><a href=\"https://www.ndtv.com/india-news/china-india-will-need-to-explain-un-climate-deal-move-uk-minister-alok-sharma-2611060\">\"India, China Have To Explain Themselves\": COP26 Coal Move Criticised</a></h2>\n",
      "https://c.ndtvimg.com/2021-11/dtqh3d6o_coal-reuters-240_120x90_15_November_21.jpg\n",
      "<p class=\"newsCont\">UN climate talks in Glasgow, Scotland, ended on Saturday with a deal that targeted fossil fuels for the first time.</p>\n",
      "<h2 class=\"newsHdng\"><a href=\"https://www.ndtv.com/india-news/gauravzone-nidhivan-raj-video-youtuber-gaurav-sharma-who-made-his-dog-fly-arrested-for-filming-sacred-up-site-2611057\">YouTuber, Who Made His Dog \"Fly\", Arrested For Filming Sacred UP Site</a></h2>\n",
      "https://c.ndtvimg.com/2021-11/kslssesc_gaurav-sharma-youtuber_120x90_15_November_21.jpg\n",
      "<p class=\"newsCont\">Police on Sunday arrested the admin of a YouTube channel for allegedly shooting a video inside \"Nidhivan Raj\" - an important religious site restricted for filming - UP's in Vrindavan during night a week ago, officials said.</p>\n"
     ]
    }
   ],
   "source": [
    "rows = soup.findAll('div', { 'class' : 'news_Itm' })\n",
    "for row in rows:\n",
    "    if 'adBg' not in row.attrs.get('class'):\n",
    "        #print(row)\n",
    "        print(row.find('h2',{'class':'newsHdng'}))\n",
    "        print(row.find('img').attrs.get('src'))\n",
    "        print(row.find('p',{'class':'newsCont'}))\n",
    "        \n",
    "        \n",
    "        \n",
    "    \n",
    "    "
   ]
  },
  {
   "cell_type": "code",
   "execution_count": 6,
   "metadata": {},
   "outputs": [],
   "source": [
    "url1 = \"https://www.indiatoday.in/top-stories\""
   ]
  },
  {
   "cell_type": "code",
   "execution_count": 7,
   "metadata": {},
   "outputs": [],
   "source": [
    "data1 = requests.get(url1)"
   ]
  },
  {
   "cell_type": "code",
   "execution_count": 8,
   "metadata": {},
   "outputs": [
    {
     "name": "stdout",
     "output_type": "stream",
     "text": [
      "success\n"
     ]
    }
   ],
   "source": [
    "if data1.status_code == 200:\n",
    "    print('success')\n",
    "elif data1.status_code == 404:\n",
    "    print('page not found')\n",
    "elif data1.status_code == 500:\n",
    "    print('server error')"
   ]
  },
  {
   "cell_type": "code",
   "execution_count": 9,
   "metadata": {},
   "outputs": [],
   "source": [
    "soup1 = BeautifulSoup(data1.text)"
   ]
  },
  {
   "cell_type": "code",
   "execution_count": 10,
   "metadata": {},
   "outputs": [],
   "source": [
    "rows1 = soup1.findAll('div', { 'class' : 'catagory-listing' })"
   ]
  },
  {
   "cell_type": "code",
   "execution_count": 11,
   "metadata": {},
   "outputs": [
    {
     "data": {
      "text/plain": [
       "12"
      ]
     },
     "execution_count": 11,
     "metadata": {},
     "output_type": "execute_result"
    }
   ],
   "source": [
    "len(rows1)"
   ]
  },
  {
   "cell_type": "code",
   "execution_count": 12,
   "metadata": {},
   "outputs": [
    {
     "name": "stdout",
     "output_type": "stream",
     "text": [
      "<title>Top Headlines: News Headlines, Top News, India, Sports, Business, Politics, Entertainment, Celebrities, Lifestyle, Exclusive stories</title>\n",
      "Top Headlines: News Headlines, Top News, India, Sports, Business, Politics, Entertainment, Celebrities, Lifestyle, Exclusive stories\n"
     ]
    }
   ],
   "source": [
    "print(soup1.title)\n",
    "print(soup1.title.string)"
   ]
  },
  {
   "cell_type": "code",
   "execution_count": 13,
   "metadata": {},
   "outputs": [
    {
     "name": "stdout",
     "output_type": "stream",
     "text": [
      "<a href=\"/cities/mumbai/story/man-released-from-jail-for-murder-strangles-another-woman-mumbai-1876779-2021-11-15\">Month after release from jail for murder, man strangles another woman in Mumbai</a>\n",
      "https://akm-img-a-in.tosshub.com/indiatoday/images/story/202111/suicide_11_1200x768_1200x768.jpeg?0KJM54JfbSB4V1.sRGORI0cikbmhCgl5&size=170:96\n",
      "<p>A 40-year-old man, who was just released from prison for a murder in 2016,\n",
      "killed another woman in Mumbai.</p>\n",
      "<a href=\"/movies/bollywood/story/will-salman-khan-s-chulbul-pandey-enter-rohit-shetty-s-cop-universe-director-answers-1876777-2021-11-15\">Will Salman Khan's Chulbul Pandey enter Rohit Shetty's cop universe?</a>\n",
      "https://akm-img-a-in.tosshub.com/indiatoday/images/story/202111/Salman_Khan_Rohit_Shetty_1200x768.jpeg?kUu6mVDki7e.IFRX3FOObDOEv8wzxH7z&size=170:96\n",
      "<p>Director Rohit Shetty revealed that Salman Khan's Chulbul Pandey might make\n",
      "an appearance in his film soon. He added that talks are on, but he hasn't\n",
      "started writing anything yet.</p>\n",
      "<a href=\"/television/reality-tv/story/bigg-boss-15-weekend-ka-vaar-written-update-salman-khan-dances-with-rani-mukerji-siddhant-chaturvedi-gets-teary-eyed-1876775-2021-11-15\">BB 15: Salman dances with Rani Mukerji, Siddhant Chaturvedi gets teary-eyed</a>\n",
      "https://akm-img-a-in.tosshub.com/indiatoday/images/story/202111/BeFunky-collage_29.jpg?4MUcvDTR4rjNyq_nuaiAHD0a35BdzKqz&size=170:96\n",
      "<p>In the latest Weekend Ka Vaar episode of Bigg Boss 15, Rani Mukerji danced\n",
      "with host Salman Khan to the song Teri Chunariya. Meanwhile, Siddant\n",
      "Chaturvedi got teary-eyed meeting Salman.</p>\n",
      "<a href=\"/sports/t20-world-cup-2021/story/t20-world-cup-final-australia-matthew-wade-marcus-stoinis-shoey-danniel-ricciardo-1876772-2021-11-15\">WATCH: Wade, Stoinis reproduce Ricciardo's 'shoey' after Australia's T20 World Cup win</a>\n",
      "https://akm-img-a-in.tosshub.com/indiatoday/images/story/202111/wade_stoinis_icc_1200x768.jpeg?1x6k3G6lDq5DE_.wYe3Rvpms1i92n_UQ&size=170:96\n",
      "<p>T20 World Cup: Matthew Wade and Marcus Stoinis could be seen doing the\n",
      "'shoey', a celebration that is synonymous with Australian Formula One driver\n",
      "Daniel Ricciardo, amid celebrations in the dressing room.</p>\n",
      "<a href=\"/cities/delhi/story/4-people-injured-in-cylinder-blast-in-delhi-nangloi-area-1876771-2021-11-15\">4 people injured in cylinder blast in Delhi's Nangloi area</a>\n",
      "https://akm-img-a-in.tosshub.com/indiatoday/images/story/202111/fire_bhopal_india_today_0_1200x768.png?KpPjTjNfGtjhnwQYALhLOslTSZkdK8v4&size=170:96\n",
      "<p>At least four people sustained burn injuries after a gas cylinder caught fire\n",
      "at their house in Delhi's Nangloi area on Monday morning.</p>\n",
      "<a href=\"/coronavirus-outbreak/story/india-covid-cases-deaths-vaccination-november-15-1876770-2021-11-15\">India records 10,229 new Covid-19 cases, 9.2% lower than yesterday</a>\n",
      "https://akm-img-a-in.tosshub.com/indiatoday/images/story/202111/covid_iamge.jpg?hWsrZCbtGsUSpbXhdAJvQ8aTBOR9c4Qu&size=170:96\n",
      "<p>Kerala is alone responsible for 57.17% of the new Covid-19 cases.</p>\n",
      "<a href=\"/trending-news/story/teen-accompanies-best-friend-with-cerebral-palsy-to-prom-old-video-goes-viral-1876768-2021-11-15\">Teen accompanies best friend with cerebral palsy to prom. Old video goes viral</a>\n",
      "https://akm-img-a-in.tosshub.com/indiatoday/images/story/202111/Untitled_design_-_2021-11-15T0.jpg?UPtPj4QoYAps6pbHp3cHe7jTfb_PcFXh&size=170:96\n",
      "<p>A heartwarming video that has surfaced on social media features a boy and\n",
      "his best friend with cerebral palsy dancing together at the prom. The video\n",
      "is from 2017 and it was shared on Twitter handle by the name of\n",
      "Buitengebieden recently.</p>\n",
      "<a href=\"/movies/regional-cinema/story/bigg-boss-tamil-season-5-highlights-mathumitha-evicted-1876767-2021-11-15\">Bigg Boss Tamil Season 5 Highlights: Mathumitha evicted</a>\n",
      "https://akm-img-a-in.tosshub.com/indiatoday/images/story/202111/Kamal_Haasan_Mathumith_evicted.jpg?flpFRlMacyptHhUM009eHGckontu_C.Z&size=170:96\n",
      "<p>On Sunday (November 14), Kamal Haasan announced that Mathumitha has been\n",
      "evicted. He then spoke to the contestants about Isaivani's captaincy.</p>\n",
      "<a href=\"/cities/bhopal/story/pm-modi-inaugurate-bhopal-rani-kamlapati-railway-station-today-1876766-2021-11-15\">PM Modi to inaugurate Bhopal’s revamped Rani Kamlapati railway station today</a>\n",
      "https://akm-img-a-in.tosshub.com/indiatoday/images/story/202111/PTI11_12_2021_000079B_1200x768.jpeg?Eyr1Lal0RQPtOlTlZWdiD1Sr1vILmEWr&size=170:96\n",
      "<p>Prime Minister Narendra Modi will inaugurate the “most modern” Habibganj\n",
      "railway station in Madhya Pradesh's Bhopal, which has been renamed after the\n",
      "Gond queen Rani Kamlapati.</p>\n",
      "<a href=\"/india/story/manipur-attack-ambush-soldiers-martyred-1876765-2021-11-15\">Manipur ambush | Rifleman Suman Swargiary's body reaches Guwahati</a>\n",
      "https://akm-img-a-in.tosshub.com/indiatoday/images/story/202111/Martyrs_1200x768.jpeg?SH3raHInefrS2tWIchhTIOmwb53mt7CN&size=170:96\n",
      "<p>Swargiary was among seven people, including the wife and 8-year-old son of\n",
      "the commanding officer of an Assam Rifles unit who were killed in an ambush\n",
      "in Manipur's Churachandpur district on Saturday.</p>\n",
      "<a href=\"/sports/cricket/story/t20-world-cup-australia-captain-aaron-finch-reaction-david-warner-1876764-2021-11-15\">T20 WC: Cannot believe people wrote off David Warner saying he was done, says Aaron Finch</a>\n",
      "https://akm-img-a-in.tosshub.com/indiatoday/images/story/202111/finch_australia_reuters_1200x768.png?6Kumpr99q2ON4WRflpQ8rxjAs.kL598G&size=170:96\n",
      "<p>T20 World Cup final: Australia captain Aaron Finch heaped praise on David\n",
      "Warner and Mitchell Marsh after lifting their maiden ICC T20 World Cup title\n",
      "in Dubai on Sunday.</p>\n",
      "<a href=\"/movies/celebrities/story/rajkummar-rao-and-patralekhaa-to-get-married-on-nov-15-wedding-invite-leaked-1876763-2021-11-15\">Rajkummar, Patralekhaa to get married on Nov 15, wedding card leaked</a>\n",
      "https://akm-img-a-in.tosshub.com/indiatoday/images/story/202111/BeFunky-collage_28.jpg?2yBrd3mRIWgNUerRSGQ5764dIbMTKM4e&size=170:96\n",
      "<p>Rajkummar Rao is all set to tie the knot with his girlfriend Patralekhaa in\n",
      "Chandigarh today, November 15. Ahead of that, a picture of their wedding card\n",
      "has surfaced online.</p>\n"
     ]
    }
   ],
   "source": [
    "for row in rows1:\n",
    "        print(row.find('a'))\n",
    "        print(row.find('img').attrs.get('src'))\n",
    "        print(row.find('p'))"
   ]
  },
  {
   "cell_type": "code",
   "execution_count": 14,
   "metadata": {},
   "outputs": [
    {
     "name": "stdout",
     "output_type": "stream",
     "text": [
      " Month after release from jail for murder, man strangles another woman in MumbaiA 40-year-old man, who was just released from prison for a murder in 2016,\n",
      "killed another woman in Mumbai.\n",
      "\n",
      "\n",
      "<img alt=\"\" data-preview-url=\"\" src=\"https://akm-img-a-in.tosshub.com/indiatoday/images/story/202111/suicide_11_1200x768_1200x768.jpeg?0KJM54JfbSB4V1.sRGORI0cikbmhCgl5&amp;size=170:96\" title=\"\"/>\n",
      "\n",
      "\n",
      "<p>A 40-year-old man, who was just released from prison for a murder in 2016,\n",
      "killed another woman in Mumbai.</p>\n",
      "\n",
      "\n",
      " Will Salman Khan's Chulbul Pandey enter Rohit Shetty's cop universe?Director Rohit Shetty revealed that Salman Khan's Chulbul Pandey might make\n",
      "an appearance in his film soon. He added that talks are on, but he hasn't\n",
      "started writing anything yet.\n",
      "\n",
      "\n",
      "<img alt=\"\" data-preview-url=\"\" src=\"https://akm-img-a-in.tosshub.com/indiatoday/images/story/202111/Salman_Khan_Rohit_Shetty_1200x768.jpeg?kUu6mVDki7e.IFRX3FOObDOEv8wzxH7z&amp;size=170:96\" title=\"\"/>\n",
      "\n",
      "\n",
      "<p>Director Rohit Shetty revealed that Salman Khan's Chulbul Pandey might make\n",
      "an appearance in his film soon. He added that talks are on, but he hasn't\n",
      "started writing anything yet.</p>\n",
      "\n",
      "\n",
      " BB 15: Salman dances with Rani Mukerji, Siddhant Chaturvedi gets teary-eyedIn the latest Weekend Ka Vaar episode of Bigg Boss 15, Rani Mukerji danced\n",
      "with host Salman Khan to the song Teri Chunariya. Meanwhile, Siddant\n",
      "Chaturvedi got teary-eyed meeting Salman.\n",
      "\n",
      "\n",
      "<img alt=\"\" data-preview-url=\"\" src=\"https://akm-img-a-in.tosshub.com/indiatoday/images/story/202111/BeFunky-collage_29.jpg?4MUcvDTR4rjNyq_nuaiAHD0a35BdzKqz&amp;size=170:96\" title=\"\"/>\n",
      "\n",
      "\n",
      "<p>In the latest Weekend Ka Vaar episode of Bigg Boss 15, Rani Mukerji danced\n",
      "with host Salman Khan to the song Teri Chunariya. Meanwhile, Siddant\n",
      "Chaturvedi got teary-eyed meeting Salman.</p>\n",
      "\n",
      "\n",
      " WATCH: Wade, Stoinis reproduce Ricciardo's 'shoey' after Australia's T20 World Cup winT20 World Cup: Matthew Wade and Marcus Stoinis could be seen doing the\n",
      "'shoey', a celebration that is synonymous with Australian Formula One driver\n",
      "Daniel Ricciardo, amid celebrations in the dressing room.\n",
      "\n",
      "\n",
      "<img class=\"lazyloaded\" data-preview-url=\"\" height=\"96\" src=\"https://akm-img-a-in.tosshub.com/indiatoday/images/story/202111/wade_stoinis_icc_1200x768.jpeg?1x6k3G6lDq5DE_.wYe3Rvpms1i92n_UQ&amp;size=170:96\" width=\"170\"/>\n",
      "\n",
      "\n",
      "<p>T20 World Cup: Matthew Wade and Marcus Stoinis could be seen doing the\n",
      "'shoey', a celebration that is synonymous with Australian Formula One driver\n",
      "Daniel Ricciardo, amid celebrations in the dressing room.</p>\n",
      "\n",
      "\n",
      " 4 people injured in cylinder blast in Delhi's Nangloi areaAt least four people sustained burn injuries after a gas cylinder caught fire\n",
      "at their house in Delhi's Nangloi area on Monday morning.\n",
      "\n",
      "\n",
      "<img class=\"lazyloaded\" data-preview-url=\"\" height=\"96\" src=\"https://akm-img-a-in.tosshub.com/indiatoday/images/story/202111/fire_bhopal_india_today_0_1200x768.png?KpPjTjNfGtjhnwQYALhLOslTSZkdK8v4&amp;size=170:96\" width=\"170\"/>\n",
      "\n",
      "\n",
      "<p>At least four people sustained burn injuries after a gas cylinder caught fire\n",
      "at their house in Delhi's Nangloi area on Monday morning.</p>\n",
      "\n",
      "\n",
      " India records 10,229 new Covid-19 cases, 9.2% lower than yesterdayKerala is alone responsible for 57.17% of the new Covid-19 cases.\n",
      "\n",
      "\n",
      "<img class=\"lazyloaded\" data-preview-url=\"\" height=\"96\" src=\"https://akm-img-a-in.tosshub.com/indiatoday/images/story/202111/covid_iamge.jpg?hWsrZCbtGsUSpbXhdAJvQ8aTBOR9c4Qu&amp;size=170:96\" width=\"170\"/>\n",
      "\n",
      "\n",
      "<p>Kerala is alone responsible for 57.17% of the new Covid-19 cases.</p>\n",
      "\n",
      "\n",
      " Teen accompanies best friend with cerebral palsy to prom. Old video goes viralA heartwarming video that has surfaced on social media features a boy and\n",
      "his best friend with cerebral palsy dancing together at the prom. The video\n",
      "is from 2017 and it was shared on Twitter handle by the name of\n",
      "Buitengebieden recently.\n",
      "\n",
      "\n",
      "<img class=\"lazyloaded\" data-preview-url=\"\" height=\"96\" src=\"https://akm-img-a-in.tosshub.com/indiatoday/images/story/202111/Untitled_design_-_2021-11-15T0.jpg?UPtPj4QoYAps6pbHp3cHe7jTfb_PcFXh&amp;size=170:96\" width=\"170\"/>\n",
      "\n",
      "\n",
      "<p>A heartwarming video that has surfaced on social media features a boy and\n",
      "his best friend with cerebral palsy dancing together at the prom. The video\n",
      "is from 2017 and it was shared on Twitter handle by the name of\n",
      "Buitengebieden recently.</p>\n",
      "\n",
      "\n",
      " Bigg Boss Tamil Season 5 Highlights: Mathumitha evictedOn Sunday (November 14), Kamal Haasan announced that Mathumitha has been\n",
      "evicted. He then spoke to the contestants about Isaivani's captaincy.\n",
      "\n",
      "\n",
      "<img class=\"lazyloaded\" data-preview-url=\"\" height=\"96\" src=\"https://akm-img-a-in.tosshub.com/indiatoday/images/story/202111/Kamal_Haasan_Mathumith_evicted.jpg?flpFRlMacyptHhUM009eHGckontu_C.Z&amp;size=170:96\" width=\"170\"/>\n",
      "\n",
      "\n",
      "<p>On Sunday (November 14), Kamal Haasan announced that Mathumitha has been\n",
      "evicted. He then spoke to the contestants about Isaivani's captaincy.</p>\n",
      "\n",
      "\n",
      " PM Modi to inaugurate Bhopal’s revamped Rani Kamlapati railway station todayPrime Minister Narendra Modi will inaugurate the “most modern” Habibganj\n",
      "railway station in Madhya Pradesh's Bhopal, which has been renamed after the\n",
      "Gond queen Rani Kamlapati.\n",
      "\n",
      "\n",
      "<img class=\"lazyloaded\" data-preview-url=\"\" height=\"96\" src=\"https://akm-img-a-in.tosshub.com/indiatoday/images/story/202111/PTI11_12_2021_000079B_1200x768.jpeg?Eyr1Lal0RQPtOlTlZWdiD1Sr1vILmEWr&amp;size=170:96\" width=\"170\"/>\n",
      "\n",
      "\n",
      "<p>Prime Minister Narendra Modi will inaugurate the “most modern” Habibganj\n",
      "railway station in Madhya Pradesh's Bhopal, which has been renamed after the\n",
      "Gond queen Rani Kamlapati.</p>\n",
      "\n",
      "\n",
      " Manipur ambush | Rifleman Suman Swargiary's body reaches GuwahatiSwargiary was among seven people, including the wife and 8-year-old son of\n",
      "the commanding officer of an Assam Rifles unit who were killed in an ambush\n",
      "in Manipur's Churachandpur district on Saturday.\n",
      "\n",
      "\n",
      "<img class=\"lazyloaded\" data-preview-url=\"\" height=\"96\" src=\"https://akm-img-a-in.tosshub.com/indiatoday/images/story/202111/Martyrs_1200x768.jpeg?SH3raHInefrS2tWIchhTIOmwb53mt7CN&amp;size=170:96\" width=\"170\"/>\n",
      "\n",
      "\n",
      "<p>Swargiary was among seven people, including the wife and 8-year-old son of\n",
      "the commanding officer of an Assam Rifles unit who were killed in an ambush\n",
      "in Manipur's Churachandpur district on Saturday.</p>\n",
      "\n",
      "\n",
      " T20 WC: Cannot believe people wrote off David Warner saying he was done, says Aaron FinchT20 World Cup final: Australia captain Aaron Finch heaped praise on David\n",
      "Warner and Mitchell Marsh after lifting their maiden ICC T20 World Cup title\n",
      "in Dubai on Sunday.\n",
      "\n",
      "\n",
      "<img class=\"lazyloaded\" data-preview-url=\"\" height=\"96\" src=\"https://akm-img-a-in.tosshub.com/indiatoday/images/story/202111/finch_australia_reuters_1200x768.png?6Kumpr99q2ON4WRflpQ8rxjAs.kL598G&amp;size=170:96\" width=\"170\"/>\n",
      "\n",
      "\n",
      "<p>T20 World Cup final: Australia captain Aaron Finch heaped praise on David\n",
      "Warner and Mitchell Marsh after lifting their maiden ICC T20 World Cup title\n",
      "in Dubai on Sunday.</p>\n",
      "\n",
      "\n",
      " Rajkummar, Patralekhaa to get married on Nov 15, wedding card leakedRajkummar Rao is all set to tie the knot with his girlfriend Patralekhaa in\n",
      "Chandigarh today, November 15. Ahead of that, a picture of their wedding card\n",
      "has surfaced online.\n",
      "\n",
      "\n",
      "<img class=\"lazyloaded\" data-preview-url=\"\" height=\"96\" src=\"https://akm-img-a-in.tosshub.com/indiatoday/images/story/202111/BeFunky-collage_28.jpg?2yBrd3mRIWgNUerRSGQ5764dIbMTKM4e&amp;size=170:96\" width=\"170\"/>\n",
      "\n",
      "\n",
      "<p>Rajkummar Rao is all set to tie the knot with his girlfriend Patralekhaa in\n",
      "Chandigarh today, November 15. Ahead of that, a picture of their wedding card\n",
      "has surfaced online.</p>\n",
      "\n",
      "\n"
     ]
    }
   ],
   "source": [
    "for i in rows1:\n",
    "    print(i.text)\n",
    "    print('\\n')\n",
    "    print(i.img)\n",
    "    print('\\n')\n",
    "    print(i.p)\n",
    "    print('\\n')"
   ]
  },
  {
   "cell_type": "code",
   "execution_count": 15,
   "metadata": {},
   "outputs": [],
   "source": [
    "data = requests.get('https://timesofindia.indiatimes.com/news')"
   ]
  },
  {
   "cell_type": "code",
   "execution_count": 30,
   "metadata": {},
   "outputs": [
    {
     "name": "stdout",
     "output_type": "stream",
     "text": [
      "success\n"
     ]
    },
    {
     "data": {
      "text/plain": [
       "[{'heading': 'Live: Stubble burning contributes only 10% of Delhi pollution, Centre tells SC',\n",
       "  'image': 'https://static.toiimg.com/photo/34824568.cms',\n",
       "  'summary': ''},\n",
       " {'heading': 'Sect 144 in parts of Maha over Tripura protest',\n",
       "  'image': 'https://static.toiimg.com/photo/34824568.cms',\n",
       "  'summary': 'The district administration on Sunday imposed sections 144 of the CrPC against the backdrop of the violence in some parts of the state on Saturday during the protest against violence in Tripura.'},\n",
       " {'heading': 'A Bihar village brought back its lost butterflies, sparrows',\n",
       "  'image': 'https://static.toiimg.com/photo/34824568.cms',\n",
       "  'summary': 'Farmers in Kedia village in Bihar made the choice to avoid chemical fertilisers and pesticides and bring back butterflies, birds and bees. Today, this fully organic village serves as a playbook for other villages and farmers looking to go organic'},\n",
       " {'heading': 'Steady fall in Covid-19 cases halted in post-Diwali week',\n",
       "  'image': 'https://static.toiimg.com/photo/34824568.cms',\n",
       "  'summary': 'While cases in Kerala and Tamil Nadu continued to drop, a number of states and Union territories registered small increases in numbers. Among these, the rise was significant in Jammu & Kashmir, which recorded a 34% spike in cases with the weekly count rising to 1,104 from 827 in the previous seven days.'},\n",
       " {'heading': \"Live: 'Over 20.20cr unutilized Covid-19 vax doses still available'\",\n",
       "  'image': 'https://static.toiimg.com/photo/34824568.cms',\n",
       "  'summary': ''},\n",
       " {'heading': 'Maoists shoot 4 of a family, hang their bodies in Gaya',\n",
       "  'image': 'https://static.toiimg.com/photo/34824568.cms',\n",
       "  'summary': 'The incident came to light on Sunday. Locals said the Maoists raided the house of Saryu Singh Bhokta around 7pm on Saturday. They shot his two sons — Satyendra Singh & Mahendra Singh — and their wives Manorama Devi and Sunita Devi, calling them police informers.'},\n",
       " {'heading': 'Australia are the new T20 world champions',\n",
       "  'image': 'https://static.toiimg.com/photo/34824568.cms',\n",
       "  'summary': 'Australia’s top order was so clinical with the bat, so vicious on anything slightly awry from the New Zealand bowlers, so ruthless in a chase of 173, that it feels almost strange to introduce them as the new T20 World Cup champions. Dropped by the IPL team he was captain of, ridiculed for the team management’s persistence in him, Warner stood tall when it mattered most and repaid the faith.'},\n",
       " {'heading': 'How UP became the expressway capital of India',\n",
       "  'image': 'https://static.toiimg.com/photo/34824568.cms',\n",
       "  'summary': ''},\n",
       " {'heading': '9 tips to boost your phone’s gaming performance',\n",
       "  'image': 'https://static.toiimg.com/photo/34824568.cms',\n",
       "  'summary': ''},\n",
       " {'heading': 'Writing Warner off was like poking a bear: Finch',\n",
       "  'image': 'https://static.toiimg.com/photo/34824568.cms',\n",
       "  'summary': 'Victorious Australia captain Aaron Finch says writing David Warner off at the start of the tournament was like \"poking the bear\" as the opener emerged \\'Player of the tournament\\' with big knocks in semi-final and final.'},\n",
       " {'heading': 'Details about Google Photos’ most important feature',\n",
       "  'image': 'https://static.toiimg.com/photo/34824568.cms',\n",
       "  'summary': ''},\n",
       " {'heading': 'High josh as 1st batch of girls takes NDA written test',\n",
       "  'image': 'https://static.toiimg.com/photo/34824568.cms',\n",
       "  'summary': 'Less than two months after Supreme Court opened the elite National Defence Academy to girls, the first batch of female candidates appeared for the written part of the entrance exam, conducted by UPSC, on Sunday.'},\n",
       " {'heading': \"This is the most 'popular' game in the world\",\n",
       "  'image': 'https://static.toiimg.com/photo/34824568.cms',\n",
       "  'summary': ''},\n",
       " {'heading': 'Drugs, alcohol caused one suicide every hour in 2020',\n",
       "  'image': 'https://static.toiimg.com/photo/34824568.cms',\n",
       "  'summary': ' Deaths by suicide attributed to drug abuse and alcohol addiction continue to increase with 2020 seeing over 9,000 such cases at the rate of at least one every hour. Just two states, Maharashtra and Karnataka, account for more than 43% of cases.'},\n",
       " {'heading': 'No power in Bengaluru from Monday to Wednesday',\n",
       "  'image': 'https://static.toiimg.com/photo/34824568.cms',\n",
       "  'summary': ' Power supply will be hit between 10am and 5pm from Monday to Wednesday in several areas of the city due to Bescom and KPTCL’s cable-conversion work.'},\n",
       " {'heading': 'Gond queen Rani Kamlapati: Things you must know',\n",
       "  'image': 'https://static.toiimg.com/photo/34824568.cms',\n",
       "  'summary': 'Rani Kamlapati, after whom Habibganj station near Bhopal has been renamed, was Gond queen. Kamlapati was daughter of Raja Kirpal Singh Sarautia of the princely state of Salkanpur, Sehore. She is known for her intelligence and courage. Rani Kamlapati was an expert horse rider, wrestler and an archer.'},\n",
       " {'heading': \"'US yet to decide on potential waiver of sanctions against India for S-400 purchase'\",\n",
       "  'image': 'https://static.toiimg.com/photo/34824568.cms',\n",
       "  'summary': \"The United States has not made a determination on a potential waiver of sanctions against India for its purchase of the S-400 missile defence system from Russia, a state department spokesperson said, noting that the Countering America's Adversaries Through Sanctions Act (CAATSA) does not have a blanket or country-specific waiver provision.\"},\n",
       " {'heading': 'Meeting Gandhis? Amarinder Singh says no',\n",
       "  'image': 'https://static.toiimg.com/photo/34824568.cms',\n",
       "  'summary': 'Former chief minister of Punjab Capt Amarinder Singh has dismissed the claims made by one of the cabinet ministers that he would return to the Congress and would soon be meeting the party chief Sonia Gandhi and Rahul Gandhi.'},\n",
       " {'heading': 'CBI, ED chiefs can now be in office for up to 5 yrs',\n",
       "  'image': 'https://static.toiimg.com/photo/34824568.cms',\n",
       "  'summary': 'The twin ordinances amend the Central Vigilance Commission Act and the Delhi Special Police Establishment Act, which govern the ED and the CBI, respectively. They pave the way for extension of the terms of the chiefs beyond the mandatory two years by another possible three years, through three extensions of a year each.'},\n",
       " {'heading': 'India gets initial deliveries of Russian S-400 systems',\n",
       "  'image': 'https://static.toiimg.com/photo/34824568.cms',\n",
       "  'summary': 'The S-400 system can detect, track and destroy incoming strategic bombers, jets, spy planes, ballistic missiles and drones at a range of 380-km. The first squadron will be \"suitably deployed in the western sector\" to tackle aerial threats from both Pakistan and China before they can enter Indian airspace, top sources said on Sunday.'}]"
      ]
     },
     "execution_count": 30,
     "metadata": {},
     "output_type": "execute_result"
    }
   ],
   "source": [
    "data = requests.get('https://timesofindia.indiatimes.com/news')\n",
    "if data.status_code == 200:\n",
    "    print('success')\n",
    "elif data.status_code == 404:\n",
    "    print('page not found')\n",
    "elif data.status_code == 500:\n",
    "    print('server error')\n",
    "\n",
    "soup = BeautifulSoup(data.text)\n",
    "\n",
    "rows = soup.find('div', {'class' : 'listing4'}).find('ul',{'class': 'cvs_wdt clearfix'}).findAll('li')\n",
    "# print(rows)\n",
    "newsdata = []\n",
    "for row in rows:\n",
    "    if row.attrs.get('class') != 'prime':\n",
    "        detail={}\n",
    "        detail['heading']=row.find('span').text\n",
    "        detail['image']=row.find('img').attrs.get('src')\n",
    "        detail['summary']=row.find('span', {'class' : 'w_desc'}).text\n",
    "        newsdata.append(detail)\n",
    "        # print(detail)\n",
    "\n",
    "newsdata"
   ]
  },
  {
   "cell_type": "code",
   "execution_count": 17,
   "metadata": {},
   "outputs": [],
   "source": [
    "url='https://www.codewithharry.com'"
   ]
  },
  {
   "cell_type": "code",
   "execution_count": 18,
   "metadata": {},
   "outputs": [],
   "source": [
    "# get Url\n",
    "r=requests.get(url)\n"
   ]
  },
  {
   "cell_type": "code",
   "execution_count": 31,
   "metadata": {},
   "outputs": [],
   "source": [
    "# Html Content\n",
    "Htmlcontent=r.content\n",
    "#print(Htmlcontent)"
   ]
  },
  {
   "cell_type": "code",
   "execution_count": 32,
   "metadata": {},
   "outputs": [],
   "source": [
    "# Create a Soup// Parse the Html\n",
    "soup=BeautifulSoup(Htmlcontent,'html.parser')\n",
    "#print(soup)"
   ]
  },
  {
   "cell_type": "code",
   "execution_count": 33,
   "metadata": {},
   "outputs": [],
   "source": [
    "#print(soup.prettify)"
   ]
  },
  {
   "cell_type": "code",
   "execution_count": 34,
   "metadata": {},
   "outputs": [],
   "source": [
    "data = requests.get('https://www.indiatvnews.com')"
   ]
  },
  {
   "cell_type": "code",
   "execution_count": 36,
   "metadata": {},
   "outputs": [
    {
     "name": "stdout",
     "output_type": "stream",
     "text": [
      "success\n"
     ]
    }
   ],
   "source": [
    "data = requests.get('https://www.indiatvnews.com')\n",
    "if data.status_code == 200:\n",
    "    print('success')\n",
    "elif data.status_code == 404:\n",
    "    print('page not found')\n",
    "elif data.status_code == 500:\n",
    "    print('server error')"
   ]
  },
  {
   "cell_type": "code",
   "execution_count": 38,
   "metadata": {},
   "outputs": [
    {
     "name": "stdout",
     "output_type": "stream",
     "text": [
      "[<div class=\"text_box\">\n",
      "<a class=\"cat_Name\" href=\"https://www.indiatvnews.com/india\" target=\"_blank\" title=\"India\">India</a>\n",
      "<h2 class=\"title\"><a href=\"https://www.indiatvnews.com/news/india/why-information-technology-act-needs-to-be-changed-aaj-ki-baat-rajat-sharma-latest-news-updates-facebook-twitter-instagram-whatsapp-social-media-744766\" target=\"_blank\" title=\"OPINION | Why IT Act needs to be changed?\">OPINION | Why IT Act needs to be changed?  <span class=\"v_icon st_icon\"><i aria-hidden=\"true\" class=\"icon-video-camera\"></i></span></a></h2>\n",
      "<p class=\"dis\">The Centre is seriously thinking of bringing stringent provisions in Information Technology Act against those who indulge in such nefarious activities.</p>\n",
      "</div>, <div class=\"text_box\">\n",
      "<a class=\"cat_Name\" href=\"https://www.indiatvnews.com/entertainment\" target=\"_blank\" title=\"Entertainment\">Entertainment</a>\n",
      "<h2 class=\"title\"><a href=\"https://www.indiatvnews.com/entertainment/celebrities/rajkummar-rao-patralekhaa-first-wedding-pictures-out-couple-look-like-dream-latest-celeb-news-745210\" target=\"_blank\" title=\"Rajkummar Rao ties the knot with Patralekhaa; see dreamy wedding pictures\">Rajkummar Rao ties the knot with Patralekhaa; see dreamy wedding pictures </a></h2>\n",
      "<p class=\"dis\">Bollywood actor Rajkummar Rao tied the knot with his longtime girlfriend Patralekhaa on Monday (November 15). After dating for more than a decade now, the couple exchanged vows in New...</p>\n",
      "</div>, <div class=\"text_box\">\n",
      "<a class=\"cat_Name\" href=\"https://www.indiatvnews.com/sports\" target=\"_blank\" title=\"Sports\">Sports</a>\n",
      "<h2 class=\"title\"><a href=\"https://www.indiatvnews.com/sports/cricket/ind-vs-nz-t20i-series-india-vs-new-zealand-head-to-head-t20i-stats-recent-form-match-schedule-fixtures-sqauds-all-you-need-to-know-745193\" target=\"_blank\" title=\"IND vs NZ T20I series: Head to Head, T20I stats, recent form \">IND vs NZ T20I series: Head to Head, T20I stats, recent form  </a></h2>\n",
      "<p class=\"dis\">The T20I series between India and New Zealand will begin from November 17 in Jaipur.</p>\n",
      "</div>, <div class=\"text_box\">\n",
      "<a class=\"cat_Name\" href=\"https://www.indiatvnews.com/entertainment\" target=\"_blank\" title=\"Entertainment\">Entertainment</a>\n",
      "<h2 class=\"title\"><a href=\"https://www.indiatvnews.com/entertainment/celebrities/rajinikanth-praises-annaatthe-director-siva-says-he-delivered-a-hit-as-promised-745239\" target=\"_blank\" title=\"Rajinikanth praises 'Annaatthe' director Siva, says he delivered a hit as promised\">Rajinikanth praises 'Annaatthe' director Siva, says he delivered a hit as promised </a></h2>\n",
      "<p class=\"dis\">Stating that he was mighty impressed with Siva's earlier film 'Viswasam', which released on the same day that his 'Petta' released, Rajinikanth says he expressed a desire to meet and...</p>\n",
      "</div>, <div class=\"text_box\">\n",
      "<a class=\"cat_Name\" href=\"https://www.indiatvnews.com/sports\" target=\"_blank\" title=\"Sports\">Sports</a>\n",
      "<h2 class=\"title\"><a href=\"https://www.indiatvnews.com/sports/cricket/dravid-is-creating-a-team-culture-where-players-thrive-says-rahul-745214\" target=\"_blank\" title=\" Dravid is creating a team culture where players thrive, says Rahul\"> Dravid is creating a team culture where players thrive, says Rahul </a></h2>\n",
      "<p class=\"dis\">The T20 home series against New Zealand marks the start of a new era for Indian cricket after the disappointment of a pre-mature exit from the T20 World Cup.</p>\n",
      "</div>, <div class=\"text_box\">\n",
      "<a class=\"cat_Name\" href=\"https://www.indiatvnews.com/entertainment\" target=\"_blank\" title=\"Entertainment\">Entertainment</a>\n",
      "<h2 class=\"title\"><a href=\"https://www.indiatvnews.com/entertainment/celebrities/kavita-kaushik-takes-dig-at-kangana-ranaut-padma-shri-honour-why-priyanka-chopra-didnt-get-latest-news-745190\" target=\"_blank\" title=\"Kavita Kaushik takes a dig at Kangana Ranaut's Padma Shri honour: Why didn’t Priyanka Chopra get it?\">Kavita Kaushik takes a dig at Kangana Ranaut's Padma Shri honour: Why didn’t Priyanka Chopra get it? </a></h2>\n",
      "<p class=\"dis\">On November 11, Kangana Ranaut had said that India attained freedom in 2014 when the Narendra Modi-led government came to power and described the country's Independence in 1947 as \"bheekh\"...</p>\n",
      "</div>, <div class=\"text_box\">\n",
      "<a class=\"cat_Name\" href=\"https://www.indiatvnews.com/sports\" target=\"_blank\" title=\"Sports\">Sports</a>\n",
      "<h2 class=\"title\"><a href=\"https://www.indiatvnews.com/sports/cricket/rahane-grinds-it-out-in-mumbai-before-india-new-zealand-series-745211\" target=\"_blank\" title=\"Rahane grinds it out in Mumbai before India-New Zealand series \">Rahane grinds it out in Mumbai before India-New Zealand series  </a></h2>\n",
      "<p class=\"dis\">By batting at the nets in short spans, against a variety of bowlers, and by doing everything else that is in his control, the seasoned Rahane is bracing up for the upcoming Test series...</p>\n",
      "</div>, <div class=\"text_box\">\n",
      "<a class=\"cat_Name\" href=\"https://www.indiatvnews.com/entertainment\" target=\"_blank\" title=\"Entertainment\">Entertainment</a>\n",
      "<h2 class=\"title\"><a href=\"https://www.indiatvnews.com/entertainment/celebrities/antim-salman-khan-shares-bts-video-of-aayush-sharma-as-rahuliya-says-his-transformation-shocked-him-745170\" target=\"_blank\" title=\"Antim: Salman Khan shares BTS video of Aayush Sharma, says his transformation shocked him\">Antim: Salman Khan shares BTS video of Aayush Sharma, says his transformation shocked him </a></h2>\n",
      "<p class=\"dis\">Surprising not just the audience and critics but also the entire cast and crew of 'Antim: The Final Truth', Aayush Sharma has emerged as the personification of dedication and perseverance...</p>\n",
      "</div>, <div class=\"text_box\">\n",
      "<a class=\"cat_Name\" href=\"https://www.indiatvnews.com/sports\" target=\"_blank\" title=\"Sports\">Sports</a>\n",
      "<h2 class=\"title\"><a href=\"https://www.indiatvnews.com/sports/cricket/icc-must-ensure-there-is-level-playing-field-for-both-teams-says-gavaskar-745205\" target=\"_blank\" title=\"ICC must ensure level-playing field for both teams, says Gavaskar\">ICC must ensure level-playing field for both teams, says Gavaskar </a></h2>\n",
      "<p class=\"dis\">In the T20 showpiece that concluded in the UAE on Sunday with Australia's triumph over New Zealand in the title clash, teams batting second have won almost all their matches, including the...</p>\n",
      "</div>, <div class=\"text_box\">\n",
      "<a class=\"cat_Name\" href=\"https://www.indiatvnews.com/entertainment\" target=\"_blank\" title=\"Entertainment\">Entertainment</a>\n",
      "<h2 class=\"title\"><a href=\"https://www.indiatvnews.com/entertainment/tv/bigg-boss-15-fans-bash-shamita-shetty-for-her-insensitive-remarks-post-raqesh-bapat-s-exit-745163\" target=\"_blank\" title=\"Bigg Boss 15: Fans bash Shamita Shetty for her 'insensitive remarks' post Raqesh Bapat's exit\">Bigg Boss 15: Fans bash Shamita Shetty for her 'insensitive remarks' post Raqesh Bapat's exit </a></h2>\n",
      "<p class=\"dis\">Bigg Boss 15: The last Weekend Ka Vaar episode was a bummer for not just fans but also contestant Shamita Shetty. The reason behind the same was the host Salman Khan's announcement about...</p>\n",
      "</div>, <div class=\"text_box\">\n",
      "<a class=\"cat_Name\" href=\"https://www.indiatvnews.com/sports\" target=\"_blank\" title=\"Sports\">Sports</a>\n",
      "<h2 class=\"title\"><a href=\"https://www.indiatvnews.com/sports/cricket/ind-vs-nz-early-dew-likely-to-minimise-toss-advantage-in-first-t20i-in-jaipur-745192\" target=\"_blank\" title=\"IND vs NZ: Early dew likely to minimise toss advantage in first T20I in Jaipur\">IND vs NZ: Early dew likely to minimise toss advantage in first T20I in Jaipur </a></h2>\n",
      "<p class=\"dis\">Officials and ground staff at the Rajasthan Cricket Association said that in the last two days, the dew has been setting around 7 PM.</p>\n",
      "</div>, <div class=\"text_box\">\n",
      "<a class=\"cat_Name\" href=\"https://www.indiatvnews.com/lifestyle\" target=\"_blank\" title=\"Lifestyle\">Lifestyle</a>\n",
      "<h2 class=\"title\"><a href=\"https://www.indiatvnews.com/lifestyle/astrology-lunar-eclipse-2021-date-time-where-to-watch-the-longest-partial-chandra-grahan-in-580-years-745141\" target=\"_blank\" title=\"Lunar Eclipse 2021: Date, time, where to watch the longest partial Chandra Grahan in 580 years\">Lunar Eclipse 2021: Date, time, where to watch the longest partial Chandra Grahan in 580 years </a></h2>\n",
      "<p class=\"dis\">The last lunar eclipse was on May 26 this year. The chandra grahan on November 19 is the longest partial lunar eclipse in 580 years. The next lunar eclipse will be on May 16, 2022, but it...</p>\n",
      "</div>, <div class=\"text_box\">\n",
      "<a class=\"cat_Name\" href=\"https://www.indiatvnews.com/entertainment/celebrities\" target=\"_blank\" title=\"Celebrities\">Celebrities</a>\n",
      "<h3 class=\"title\"><a href=\"https://www.indiatvnews.com/entertainment/celebrities/rajkummar-rao-wife-patralekhaa-wedding-dupatta-special-message-for-groom-745227\" target=\"_blank\" title=\"Rajkummar Rao's wife Patralekhaa's wedding dupatta had THIS special message for groom\">Rajkummar Rao's wife Patralekhaa's wedding dupatta had THIS special message for groom </a>\n",
      "</h3>\n",
      "</div>, <div class=\"text_box\">\n",
      "<a class=\"cat_Name\" href=\"https://www.indiatvnews.com/entertainment/celebrities\" target=\"_blank\" title=\"Celebrities\">Celebrities</a>\n",
      "<h3 class=\"title\"><a href=\"https://www.indiatvnews.com/entertainment/celebrities/rajkummar-rao-patralekhaa-married-priyanka-chopra-kiara-advani-sonam-kapoor-bollywood-celebs-shower-love-745215\" target=\"_blank\" title=\"Rajkummar Rao-Patralekhaa wedding: Priyanka Chopra, Kiara Advani, Sonam Kapoor &amp; others shower love \">Rajkummar Rao-Patralekhaa wedding: Priyanka Chopra, Kiara Advani, Sonam Kapoor &amp; others shower love  </a>\n",
      "</h3>\n",
      "</div>, <div class=\"text_box\">\n",
      "<h3 class=\"title\"><a href=\"https://www.indiatvnews.com/lifestyle/astrology-lunar-eclipse-2021-date-time-where-to-watch-the-longest-partial-chandra-grahan-in-580-years-745141\" target=\"_blank\" title=\"Lunar Eclipse 2021: Date, time, where to watch the longest partial Chandra Grahan in 580 years\">Lunar Eclipse 2021: Date, time, where to watch the longest partial Chandra Grahan in 580 years </a>\n",
      "</h3>\n",
      "</div>, <div class=\"text_box\">\n",
      "<a class=\"cat_Name\" href=\"https://www.indiatvnews.com/entertainment/celebrities\" target=\"_blank\" title=\"Celebrities\">Celebrities</a>\n",
      "<h3 class=\"title\"><a href=\"https://www.indiatvnews.com/entertainment/celebrities/rajkummar-rao-fiance-patralekhaa-wedding-card-leaked-ahead-of-wedding-latest-celeb-news-745120\" target=\"_blank\" title=\"Rajkummar Rao, fiancé Patralekhaa's wedding card gets leaked ahead of wedding\">Rajkummar Rao, fiancé Patralekhaa's wedding card gets leaked ahead of wedding </a>\n",
      "</h3>\n",
      "</div>, <div class=\"text_box\">\n",
      "<a class=\"cat_Name\" href=\"https://www.indiatvnews.com/entertainment/tv\" target=\"_blank\" title=\"TV\">TV</a>\n",
      "<h3 class=\"title\"><a href=\"https://www.indiatvnews.com/entertainment/tv/kundali-bhagya-preeta-shraddha-arya-pre-wedding-function-watch-viral-video-latest-tv-news-745073\" target=\"_blank\" title=\"Kundali Bhagya's Preeta aka Shraddha Arya is all smiles at her pre-wedding function; watch video\">Kundali Bhagya's Preeta aka Shraddha Arya is all smiles at her pre-wedding function; watch video </a>\n",
      "</h3>\n",
      "</div>, <div class=\"text_box\"><p class=\"title\"><a href=\"https://www.indiatvnews.com/video/sports/t20-world-cup-dhamaka-eng-vs-sa-south-africa-out-of-world-cup-despite-its-win-743924\" target=\"_blank\" title=\"T20 World Cup Dhamaka | Eng vs SA: South Africa out of World Cup despite its win \n",
      "\">T20 World Cup Dhamaka | Eng vs SA: South Africa out of World Cup despite its win \n",
      "</a></p></div>, <div class=\"text_box\"><p class=\"title\"><a href=\"https://www.indiatvnews.com/video/sports/t20-world-cup-dhamaka-how-far-is-team-india-from-the-semifinals-743905\" target=\"_blank\" title=\"T20 World Cup Dhamaka: How far is Team India from the semifinals? \n",
      "\">T20 World Cup Dhamaka: How far is Team India from the semifinals? \n",
      "</a></p></div>]\n"
     ]
    }
   ],
   "source": [
    "rows =soup.findAll('div', { 'class' : 'text_box' }) \n",
    "print(rows)"
   ]
  },
  {
   "cell_type": "code",
   "execution_count": 54,
   "metadata": {},
   "outputs": [
    {
     "name": "stdout",
     "output_type": "stream",
     "text": [
      "{'heading': <h2 class=\"title\"><a href=\"https://www.indiatvnews.com/news/india/why-information-technology-act-needs-to-be-changed-aaj-ki-baat-rajat-sharma-latest-news-updates-facebook-twitter-instagram-whatsapp-social-media-744766\" target=\"_blank\" title=\"OPINION | Why IT Act needs to be changed?\">OPINION | Why IT Act needs to be changed?  <span class=\"v_icon st_icon\"><i aria-hidden=\"true\" class=\"icon-video-camera\"></i></span></a></h2>, 'discription': <p class=\"dis\">The Centre is seriously thinking of bringing stringent provisions in Information Technology Act against those who indulge in such nefarious activities.</p>}\n",
      "{'heading': <h2 class=\"title\"><a href=\"https://www.indiatvnews.com/entertainment/celebrities/rajkummar-rao-patralekhaa-first-wedding-pictures-out-couple-look-like-dream-latest-celeb-news-745210\" target=\"_blank\" title=\"Rajkummar Rao ties the knot with Patralekhaa; see dreamy wedding pictures\">Rajkummar Rao ties the knot with Patralekhaa; see dreamy wedding pictures </a></h2>, 'discription': <p class=\"dis\">Bollywood actor Rajkummar Rao tied the knot with his longtime girlfriend Patralekhaa on Monday (November 15). After dating for more than a decade now, the couple exchanged vows in New...</p>}\n",
      "{'heading': <h2 class=\"title\"><a href=\"https://www.indiatvnews.com/sports/cricket/ind-vs-nz-t20i-series-india-vs-new-zealand-head-to-head-t20i-stats-recent-form-match-schedule-fixtures-sqauds-all-you-need-to-know-745193\" target=\"_blank\" title=\"IND vs NZ T20I series: Head to Head, T20I stats, recent form \">IND vs NZ T20I series: Head to Head, T20I stats, recent form  </a></h2>, 'discription': <p class=\"dis\">The T20I series between India and New Zealand will begin from November 17 in Jaipur.</p>}\n",
      "{'heading': <h2 class=\"title\"><a href=\"https://www.indiatvnews.com/entertainment/celebrities/rajinikanth-praises-annaatthe-director-siva-says-he-delivered-a-hit-as-promised-745239\" target=\"_blank\" title=\"Rajinikanth praises 'Annaatthe' director Siva, says he delivered a hit as promised\">Rajinikanth praises 'Annaatthe' director Siva, says he delivered a hit as promised </a></h2>, 'discription': <p class=\"dis\">Stating that he was mighty impressed with Siva's earlier film 'Viswasam', which released on the same day that his 'Petta' released, Rajinikanth says he expressed a desire to meet and...</p>}\n",
      "{'heading': <h2 class=\"title\"><a href=\"https://www.indiatvnews.com/sports/cricket/dravid-is-creating-a-team-culture-where-players-thrive-says-rahul-745214\" target=\"_blank\" title=\" Dravid is creating a team culture where players thrive, says Rahul\"> Dravid is creating a team culture where players thrive, says Rahul </a></h2>, 'discription': <p class=\"dis\">The T20 home series against New Zealand marks the start of a new era for Indian cricket after the disappointment of a pre-mature exit from the T20 World Cup.</p>}\n",
      "{'heading': <h2 class=\"title\"><a href=\"https://www.indiatvnews.com/entertainment/celebrities/kavita-kaushik-takes-dig-at-kangana-ranaut-padma-shri-honour-why-priyanka-chopra-didnt-get-latest-news-745190\" target=\"_blank\" title=\"Kavita Kaushik takes a dig at Kangana Ranaut's Padma Shri honour: Why didn’t Priyanka Chopra get it?\">Kavita Kaushik takes a dig at Kangana Ranaut's Padma Shri honour: Why didn’t Priyanka Chopra get it? </a></h2>, 'discription': <p class=\"dis\">On November 11, Kangana Ranaut had said that India attained freedom in 2014 when the Narendra Modi-led government came to power and described the country's Independence in 1947 as \"bheekh\"...</p>}\n",
      "{'heading': <h2 class=\"title\"><a href=\"https://www.indiatvnews.com/sports/cricket/rahane-grinds-it-out-in-mumbai-before-india-new-zealand-series-745211\" target=\"_blank\" title=\"Rahane grinds it out in Mumbai before India-New Zealand series \">Rahane grinds it out in Mumbai before India-New Zealand series  </a></h2>, 'discription': <p class=\"dis\">By batting at the nets in short spans, against a variety of bowlers, and by doing everything else that is in his control, the seasoned Rahane is bracing up for the upcoming Test series...</p>}\n",
      "{'heading': <h2 class=\"title\"><a href=\"https://www.indiatvnews.com/entertainment/celebrities/antim-salman-khan-shares-bts-video-of-aayush-sharma-as-rahuliya-says-his-transformation-shocked-him-745170\" target=\"_blank\" title=\"Antim: Salman Khan shares BTS video of Aayush Sharma, says his transformation shocked him\">Antim: Salman Khan shares BTS video of Aayush Sharma, says his transformation shocked him </a></h2>, 'discription': <p class=\"dis\">Surprising not just the audience and critics but also the entire cast and crew of 'Antim: The Final Truth', Aayush Sharma has emerged as the personification of dedication and perseverance...</p>}\n",
      "{'heading': <h2 class=\"title\"><a href=\"https://www.indiatvnews.com/sports/cricket/icc-must-ensure-there-is-level-playing-field-for-both-teams-says-gavaskar-745205\" target=\"_blank\" title=\"ICC must ensure level-playing field for both teams, says Gavaskar\">ICC must ensure level-playing field for both teams, says Gavaskar </a></h2>, 'discription': <p class=\"dis\">In the T20 showpiece that concluded in the UAE on Sunday with Australia's triumph over New Zealand in the title clash, teams batting second have won almost all their matches, including the...</p>}\n",
      "{'heading': <h2 class=\"title\"><a href=\"https://www.indiatvnews.com/entertainment/tv/bigg-boss-15-fans-bash-shamita-shetty-for-her-insensitive-remarks-post-raqesh-bapat-s-exit-745163\" target=\"_blank\" title=\"Bigg Boss 15: Fans bash Shamita Shetty for her 'insensitive remarks' post Raqesh Bapat's exit\">Bigg Boss 15: Fans bash Shamita Shetty for her 'insensitive remarks' post Raqesh Bapat's exit </a></h2>, 'discription': <p class=\"dis\">Bigg Boss 15: The last Weekend Ka Vaar episode was a bummer for not just fans but also contestant Shamita Shetty. The reason behind the same was the host Salman Khan's announcement about...</p>}\n",
      "{'heading': <h2 class=\"title\"><a href=\"https://www.indiatvnews.com/sports/cricket/ind-vs-nz-early-dew-likely-to-minimise-toss-advantage-in-first-t20i-in-jaipur-745192\" target=\"_blank\" title=\"IND vs NZ: Early dew likely to minimise toss advantage in first T20I in Jaipur\">IND vs NZ: Early dew likely to minimise toss advantage in first T20I in Jaipur </a></h2>, 'discription': <p class=\"dis\">Officials and ground staff at the Rajasthan Cricket Association said that in the last two days, the dew has been setting around 7 PM.</p>}\n",
      "{'heading': <h2 class=\"title\"><a href=\"https://www.indiatvnews.com/lifestyle/astrology-lunar-eclipse-2021-date-time-where-to-watch-the-longest-partial-chandra-grahan-in-580-years-745141\" target=\"_blank\" title=\"Lunar Eclipse 2021: Date, time, where to watch the longest partial Chandra Grahan in 580 years\">Lunar Eclipse 2021: Date, time, where to watch the longest partial Chandra Grahan in 580 years </a></h2>, 'discription': <p class=\"dis\">The last lunar eclipse was on May 26 this year. The chandra grahan on November 19 is the longest partial lunar eclipse in 580 years. The next lunar eclipse will be on May 16, 2022, but it...</p>}\n",
      "{'heading': None, 'discription': None}\n",
      "{'heading': None, 'discription': None}\n",
      "{'heading': None, 'discription': None}\n",
      "{'heading': None, 'discription': None}\n",
      "{'heading': None, 'discription': None}\n",
      "{'heading': None, 'discription': None}\n",
      "{'heading': None, 'discription': None}\n"
     ]
    },
    {
     "data": {
      "text/plain": [
       "[{'heading': <h2 class=\"title\"><a href=\"https://www.indiatvnews.com/news/india/why-information-technology-act-needs-to-be-changed-aaj-ki-baat-rajat-sharma-latest-news-updates-facebook-twitter-instagram-whatsapp-social-media-744766\" target=\"_blank\" title=\"OPINION | Why IT Act needs to be changed?\">OPINION | Why IT Act needs to be changed?  <span class=\"v_icon st_icon\"><i aria-hidden=\"true\" class=\"icon-video-camera\"></i></span></a></h2>,\n",
       "  'discription': <p class=\"dis\">The Centre is seriously thinking of bringing stringent provisions in Information Technology Act against those who indulge in such nefarious activities.</p>},\n",
       " {'heading': <h2 class=\"title\"><a href=\"https://www.indiatvnews.com/entertainment/celebrities/rajkummar-rao-patralekhaa-first-wedding-pictures-out-couple-look-like-dream-latest-celeb-news-745210\" target=\"_blank\" title=\"Rajkummar Rao ties the knot with Patralekhaa; see dreamy wedding pictures\">Rajkummar Rao ties the knot with Patralekhaa; see dreamy wedding pictures </a></h2>,\n",
       "  'discription': <p class=\"dis\">Bollywood actor Rajkummar Rao tied the knot with his longtime girlfriend Patralekhaa on Monday (November 15). After dating for more than a decade now, the couple exchanged vows in New...</p>},\n",
       " {'heading': <h2 class=\"title\"><a href=\"https://www.indiatvnews.com/sports/cricket/ind-vs-nz-t20i-series-india-vs-new-zealand-head-to-head-t20i-stats-recent-form-match-schedule-fixtures-sqauds-all-you-need-to-know-745193\" target=\"_blank\" title=\"IND vs NZ T20I series: Head to Head, T20I stats, recent form \">IND vs NZ T20I series: Head to Head, T20I stats, recent form  </a></h2>,\n",
       "  'discription': <p class=\"dis\">The T20I series between India and New Zealand will begin from November 17 in Jaipur.</p>},\n",
       " {'heading': <h2 class=\"title\"><a href=\"https://www.indiatvnews.com/entertainment/celebrities/rajinikanth-praises-annaatthe-director-siva-says-he-delivered-a-hit-as-promised-745239\" target=\"_blank\" title=\"Rajinikanth praises 'Annaatthe' director Siva, says he delivered a hit as promised\">Rajinikanth praises 'Annaatthe' director Siva, says he delivered a hit as promised </a></h2>,\n",
       "  'discription': <p class=\"dis\">Stating that he was mighty impressed with Siva's earlier film 'Viswasam', which released on the same day that his 'Petta' released, Rajinikanth says he expressed a desire to meet and...</p>},\n",
       " {'heading': <h2 class=\"title\"><a href=\"https://www.indiatvnews.com/sports/cricket/dravid-is-creating-a-team-culture-where-players-thrive-says-rahul-745214\" target=\"_blank\" title=\" Dravid is creating a team culture where players thrive, says Rahul\"> Dravid is creating a team culture where players thrive, says Rahul </a></h2>,\n",
       "  'discription': <p class=\"dis\">The T20 home series against New Zealand marks the start of a new era for Indian cricket after the disappointment of a pre-mature exit from the T20 World Cup.</p>},\n",
       " {'heading': <h2 class=\"title\"><a href=\"https://www.indiatvnews.com/entertainment/celebrities/kavita-kaushik-takes-dig-at-kangana-ranaut-padma-shri-honour-why-priyanka-chopra-didnt-get-latest-news-745190\" target=\"_blank\" title=\"Kavita Kaushik takes a dig at Kangana Ranaut's Padma Shri honour: Why didn’t Priyanka Chopra get it?\">Kavita Kaushik takes a dig at Kangana Ranaut's Padma Shri honour: Why didn’t Priyanka Chopra get it? </a></h2>,\n",
       "  'discription': <p class=\"dis\">On November 11, Kangana Ranaut had said that India attained freedom in 2014 when the Narendra Modi-led government came to power and described the country's Independence in 1947 as \"bheekh\"...</p>},\n",
       " {'heading': <h2 class=\"title\"><a href=\"https://www.indiatvnews.com/sports/cricket/rahane-grinds-it-out-in-mumbai-before-india-new-zealand-series-745211\" target=\"_blank\" title=\"Rahane grinds it out in Mumbai before India-New Zealand series \">Rahane grinds it out in Mumbai before India-New Zealand series  </a></h2>,\n",
       "  'discription': <p class=\"dis\">By batting at the nets in short spans, against a variety of bowlers, and by doing everything else that is in his control, the seasoned Rahane is bracing up for the upcoming Test series...</p>},\n",
       " {'heading': <h2 class=\"title\"><a href=\"https://www.indiatvnews.com/entertainment/celebrities/antim-salman-khan-shares-bts-video-of-aayush-sharma-as-rahuliya-says-his-transformation-shocked-him-745170\" target=\"_blank\" title=\"Antim: Salman Khan shares BTS video of Aayush Sharma, says his transformation shocked him\">Antim: Salman Khan shares BTS video of Aayush Sharma, says his transformation shocked him </a></h2>,\n",
       "  'discription': <p class=\"dis\">Surprising not just the audience and critics but also the entire cast and crew of 'Antim: The Final Truth', Aayush Sharma has emerged as the personification of dedication and perseverance...</p>},\n",
       " {'heading': <h2 class=\"title\"><a href=\"https://www.indiatvnews.com/sports/cricket/icc-must-ensure-there-is-level-playing-field-for-both-teams-says-gavaskar-745205\" target=\"_blank\" title=\"ICC must ensure level-playing field for both teams, says Gavaskar\">ICC must ensure level-playing field for both teams, says Gavaskar </a></h2>,\n",
       "  'discription': <p class=\"dis\">In the T20 showpiece that concluded in the UAE on Sunday with Australia's triumph over New Zealand in the title clash, teams batting second have won almost all their matches, including the...</p>},\n",
       " {'heading': <h2 class=\"title\"><a href=\"https://www.indiatvnews.com/entertainment/tv/bigg-boss-15-fans-bash-shamita-shetty-for-her-insensitive-remarks-post-raqesh-bapat-s-exit-745163\" target=\"_blank\" title=\"Bigg Boss 15: Fans bash Shamita Shetty for her 'insensitive remarks' post Raqesh Bapat's exit\">Bigg Boss 15: Fans bash Shamita Shetty for her 'insensitive remarks' post Raqesh Bapat's exit </a></h2>,\n",
       "  'discription': <p class=\"dis\">Bigg Boss 15: The last Weekend Ka Vaar episode was a bummer for not just fans but also contestant Shamita Shetty. The reason behind the same was the host Salman Khan's announcement about...</p>},\n",
       " {'heading': <h2 class=\"title\"><a href=\"https://www.indiatvnews.com/sports/cricket/ind-vs-nz-early-dew-likely-to-minimise-toss-advantage-in-first-t20i-in-jaipur-745192\" target=\"_blank\" title=\"IND vs NZ: Early dew likely to minimise toss advantage in first T20I in Jaipur\">IND vs NZ: Early dew likely to minimise toss advantage in first T20I in Jaipur </a></h2>,\n",
       "  'discription': <p class=\"dis\">Officials and ground staff at the Rajasthan Cricket Association said that in the last two days, the dew has been setting around 7 PM.</p>},\n",
       " {'heading': <h2 class=\"title\"><a href=\"https://www.indiatvnews.com/lifestyle/astrology-lunar-eclipse-2021-date-time-where-to-watch-the-longest-partial-chandra-grahan-in-580-years-745141\" target=\"_blank\" title=\"Lunar Eclipse 2021: Date, time, where to watch the longest partial Chandra Grahan in 580 years\">Lunar Eclipse 2021: Date, time, where to watch the longest partial Chandra Grahan in 580 years </a></h2>,\n",
       "  'discription': <p class=\"dis\">The last lunar eclipse was on May 26 this year. The chandra grahan on November 19 is the longest partial lunar eclipse in 580 years. The next lunar eclipse will be on May 16, 2022, but it...</p>},\n",
       " {'heading': None, 'discription': None},\n",
       " {'heading': None, 'discription': None},\n",
       " {'heading': None, 'discription': None},\n",
       " {'heading': None, 'discription': None},\n",
       " {'heading': None, 'discription': None},\n",
       " {'heading': None, 'discription': None},\n",
       " {'heading': None, 'discription': None}]"
      ]
     },
     "execution_count": 54,
     "metadata": {},
     "output_type": "execute_result"
    }
   ],
   "source": [
    "newsdata = []\n",
    "for row in rows:\n",
    "        detail={}\n",
    "        detail['heading']=row.find('h2',{'class':'title'})\n",
    "        #print(detail)\n",
    "        #detail['image']=row.find('img').attrs.get('src')\n",
    "        \n",
    "        detail['discription']=row.find('p', {'class' : 'dis'})\n",
    "        print(detail)\n",
    "        newsdata.append(detail)\n",
    "       \n",
    "\n",
    "newsdata"
   ]
  }
 ],
 "metadata": {
  "interpreter": {
   "hash": "5334c72a8ba9d1e109c86958d2c23a84ecbfd50c07315bc902cebb9991757b75"
  },
  "kernelspec": {
   "display_name": "Python 3.9.7 64-bit",
   "name": "python3"
  },
  "language_info": {
   "codemirror_mode": {
    "name": "ipython",
    "version": 3
   },
   "file_extension": ".py",
   "mimetype": "text/x-python",
   "name": "python",
   "nbconvert_exporter": "python",
   "pygments_lexer": "ipython3",
   "version": "3.9.7"
  },
  "orig_nbformat": 4
 },
 "nbformat": 4,
 "nbformat_minor": 2
}
