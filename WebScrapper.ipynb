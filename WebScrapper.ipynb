{
 "cells": [
  {
   "cell_type": "code",
   "execution_count": 1,
   "metadata": {},
   "outputs": [],
   "source": [
    "from bs4 import BeautifulSoup\n",
    "import requests"
   ]
  },
  {
   "cell_type": "code",
   "execution_count": 2,
   "metadata": {},
   "outputs": [],
   "source": [
    "data = requests.get('https://www.ndtv.com/top-stories')"
   ]
  },
  {
   "cell_type": "code",
   "execution_count": 3,
   "metadata": {},
   "outputs": [
    {
     "name": "stdout",
     "output_type": "stream",
     "text": [
      "success\n"
     ]
    }
   ],
   "source": [
    "if data.status_code == 200:\n",
    "    print('success')\n",
    "elif data.status_code == 404:\n",
    "    print('page not found')\n",
    "elif data.status_code == 500:\n",
    "    print('server error')"
   ]
  },
  {
   "cell_type": "code",
   "execution_count": 4,
   "metadata": {},
   "outputs": [],
   "source": [
    "soup = BeautifulSoup(data.text)"
   ]
  },
  {
   "cell_type": "code",
   "execution_count": 5,
   "metadata": {},
   "outputs": [
    {
     "name": "stdout",
     "output_type": "stream",
     "text": [
      "<h2 class=\"newsHdng\"><a href=\"https://www.ndtv.com/delhi-news/smog-tightens-grip-on-delhi-neighbouring-cities-air-quality-severe-2607926\">Smog Tightens Grip On Delhi, Neighbouring Cities; Air Quality Severe</a></h2>\n",
      "https://c.ndtvimg.com/2021-11/enof5gg_delhi-smog-twitter-ani-240_120x90_12_November_21.jpg\n",
      "<p class=\"newsCont\">The layer of eye-stinging smog lingering over Delhi-NCR thickened on Friday, giving an orange tint to the sun and lowering visibility to 200 metres at several places in the region reeling under hazardous pollution levels since early November.</p>\n",
      "<h2 class=\"newsHdng\"><a href=\"https://www.ndtv.com/india-news/lakhimpur-kheri-farmers-killing-live-updates-supreme-court-hears-lakhimpur-violence-case-2607903\">Lakhimpur Violence Hearing Live Updates: Supreme Court Hearing Begins</a></h2>\n",
      "https://c.ndtvimg.com/2021-10/a38m6qlo_farmers-protest-lakhimpur-kheri-_120x90_04_October_21.jpg\n",
      "<p class=\"newsCont\">Supreme Court begins hearing of Lakhimpur Kheri farmers' killing case today.</p>\n",
      "<h2 class=\"newsHdng\"><a href=\"https://www.ndtv.com/india-news/covid-vaccines-for-children-health-minister-mansukh-mandaviya-says-dont-want-to-rush-2607900\">\"Don't Want To Rush\": Health Minister On Vaccinating Children</a></h2>\n",
      "https://c.ndtvimg.com/2021-06/d7slhhq8_vaccine-generic-240_120x90_25_June_21.jpeg\n",
      "<p class=\"newsCont\">Union Health Minister Mansukh Mandaviya on Thursday said the government does not want to make haste about administering COVID-19 vaccine to children and any decision in this regard will be taken based on expert opinion.</p>\n",
      "<h2 class=\"newsHdng\"><a href=\"https://www.ndtv.com/india-news/gautam-adanis-70-billion-pledge-now-includes-greenest-data-centers-2607896\">Gautam Adani's $70 Billion Pledge Now Includes Greenest Data Centers</a></h2>\n",
      "https://c.ndtvimg.com/2021-07/mf2ntreg_gautam-adani-new_120x90_21_July_21.jpg\n",
      "<p class=\"newsCont\">Billionaire Gautam Adani wants his conglomerate to be a world leader in green data storage, with data centers run entirely on clean power playing a key part in his ambition to recast an empire built largely on coal mining and trading into a renewable</p>\n",
      "<h2 class=\"newsHdng\"><a href=\"https://www.ndtv.com/world-news/australian-pm-scott-morrison-doesnt-believes-he-lied-while-in-public-office-2607867\">Australian PM Doesn't Believes He Lied While In Public Office</a></h2>\n",
      "https://c.ndtvimg.com/2021-11/2qmdr3q8_scott-morrison-reuters_120x90_12_November_21.jpg\n",
      "<p class=\"newsCont\">Australia's Prime Minister Scott Morrison said on Friday he doesn't believe he has lied since he was elected to parliament in 2007, rejecting allegations from French President Emmanuel Macron and others.</p>\n",
      "<h2 class=\"newsHdng\"><a href=\"https://www.ndtv.com/india-news/kannur-yeshwantpur-express-train-derails-in-tamil-nadus-dharmapuri-after-rockslide-2607844\">Kannur-Yeshwantpur Express Derails In Tamil Nadu After Rockslide</a></h2>\n",
      "https://c.ndtvimg.com/2021-11/rdk0hl58_train-derailment-tn-240_120x90_12_November_21.jpg\n",
      "<p class=\"newsCont\">Seven coaches of Kannur-Yeshwantpur Express on Friday derailed between Toppuru-Sivadi ghat section in Dharmapuri district of Tamil Nadu, informed South Western Railway (SWR). The incident took place at around 3:50 am on Friday.</p>\n",
      "<h2 class=\"newsHdng\"><a href=\"https://www.ndtv.com/india-news/covaxin-efficacy-77-8-in-lancet-study-65-2-against-delta-in-early-data-2607840\">Covaxin Efficacy 77.8% In Lancet Study; 65.2% Against Delta In Early Data</a></h2>\n",
      "https://c.ndtvimg.com/2021-11/aiul1908_covid-vaccine-india-generic-reuters_120x90_12_November_21.jpg\n",
      "<p class=\"newsCont\">Covaxin, the coronavirus vaccine developed by the government's medical research agency and Bharat Biotech, was found to have a 77.8 per cent efficacy rate against symptomatic COVID-19 in a long-awaited analysis published in The Lancet.</p>\n",
      "<h2 class=\"newsHdng\"><a href=\"https://www.ndtv.com/noida-news/40-penalised-for-drinking-in-public-at-greater-noida-police-2607830\">40 Penalised For Drinking In Public At Greater Noida: Police</a></h2>\n",
      "https://c.ndtvimg.com/2020-07/9k3e22n_noida-police-generic-_120x90_23_July_20.jpg\n",
      "<p class=\"newsCont\">Action was taken against 40 people in Greater Noida for consuming liquor at public places in violation of the law, according to police.</p>\n",
      "<h2 class=\"newsHdng\"><a href=\"https://www.ndtv.com/tamil-nadu-news/light-to-moderate-rainfall-very-likely-over-tamil-nadu-puducherry-imd-2607819\">Moderate Rainfall Very Likely Over Tamil Nadu, Puducherry: Weather Office</a></h2>\n",
      "https://c.ndtvimg.com/2021-11/h4r6jcf_chennai-rain-tamil-nadu-rain-240_120x90_09_November_21.jpg\n",
      "<p class=\"newsCont\">Light to moderate rainfall in most places with heavy rainfall at isolated places is very likely over Tamil Nadu, Puducherry, coastal Andhra Pradesh, Rayalaseema south interior Karnataka and Kerala during the next 24 hours, said India Meteorological D</p>\n",
      "<h2 class=\"newsHdng\"><a href=\"https://www.ndtv.com/india-news/coronavirus-12-516-fresh-covid-19-cases-in-india-4-3-lower-than-yesterday-2607813\">12,516 Fresh Covid Cases In India, 4.3% Lower Than Yesterday</a></h2>\n",
      "https://c.ndtvimg.com/2021-04/7qgqc91g_india-coronavirusafp-_240x180_18_April_21.jpg\n",
      "<p class=\"newsCont\">India witnessed a slight improvement in its daily Covid graph as the country recorded 12,516 new infections today, which is 4.3 per cent lower than yesterday's 13,091 cases. The country also reported 501 virus-related fatalities during the period.</p>\n",
      "<h2 class=\"newsHdng\"><a href=\"https://www.ndtv.com/world-news/indian-origin-man-nagaenthran-k-dharmalingam-on-death-row-couldnt-prove-disability-singapore-envoy-2607805\">Indian-Origin Man On Death Row Couldn't Prove Disability: Singapore Envoy</a></h2>\n",
      "https://c.ndtvimg.com/2021-11/sr5okib8_singapore-death-row-afp-240_120x90_09_November_21.jpg\n",
      "<p class=\"newsCont\">Singapore's envoy to the UN has said that the High Court had found that Nagaenthran K Dharmalingam had borderline intellectual functioning but did not suffer from mild intellectual disability, according to a news report.</p>\n",
      "<h2 class=\"newsHdng\"><a href=\"https://www.ndtv.com/india-news/smriti-iranis-ghar-par-ladka-hai-dig-at-priyanka-gandhi-vadra-brother-rahul-gandhi-2607633\">Smriti Irani's <i>\"Ghar Par Ladka Hai\"</i> Dig At Priyanka Gandhi, Brother Rahul</a></h2>\n",
      "https://c.ndtvimg.com/2021-03/ssjptn88_smriti-irani-at-un-meet-on-status-of-womenmarch-20_120x90_20_March_21.jpg\n",
      "<p class=\"newsCont\">\"Ghar par ladka hai par lad nahin sakta (There is a boy at home who can't fight)\", Union Minister Smriti Irani said, countering Congress' Priyanka Gandhi's slogan \"Ladki hoon, lad sakti hoon (I'm a girl and can fight)\" for her party.</p>\n",
      "<h2 class=\"newsHdng\"><a href=\"https://www.ndtv.com/world-news/over-84-million-displaced-due-to-violence-climate-change-un-agency-data-2607778\">Over 84 Million Displaced Due To Violence, Climate Change: UN Agency Data</a></h2>\n",
      "https://c.ndtvimg.com/2021-06/a2r5pmg8_syrian-refugees-240_120x90_18_June_21.jpeg\n",
      "<p class=\"newsCont\">As more people flee violence, insecurity and the effects of climate change, the number forcibly displaced now exceeds 84 million globally, according to new data released on Thursday by the United Nations' refugee agency, UNHCR.</p>\n",
      "<h2 class=\"newsHdng\"><a href=\"https://www.ndtv.com/world-news/us-agrees-to-automatic-job-authorisation-for-spouses-of-h-1b-visa-holders-2607769\">A US Move To End Work Gaps For Spouses Of H-1B Visa Holders</a></h2>\n",
      "https://c.ndtvimg.com/2021-11/df0ogbc_us-generic_120x90_12_November_21.jpg\n",
      "<p class=\"newsCont\">In yet another immigration-friendly move, the Biden administration has agreed to provide automatic work authorisation permits to spouses of H-1B visas holders, a step that would benefit thousands of Indian-American women.</p>\n",
      "<h2 class=\"newsHdng\"><a href=\"https://www.ndtv.com/world-news/judge-expected-to-formalize-end-of-britney-spears-guardianship-2607764\">Judge Expected To Formalize End Of Britney Spears Guardianship</a></h2>\n",
      "https://c.ndtvimg.com/2021-07/fkbv4fh8_britney-spears_120x90_19_July_21.jpg\n",
      "<p class=\"newsCont\">A Los Angeles judge is expected on Friday to formally approve the process of ending a controversial guardianship that has controlled pop star Britney Spears' life for the past 13 years.</p>\n"
     ]
    }
   ],
   "source": [
    "rows = soup.findAll('div', { 'class' : 'news_Itm' })\n",
    "for row in rows:\n",
    "    if 'adBg' not in row.attrs.get('class'):\n",
    "        #print(row)\n",
    "        print(row.find('h2',{'class':'newsHdng'}))\n",
    "        print(row.find('img').attrs.get('src'))\n",
    "        print(row.find('p',{'class':'newsCont'}))\n",
    "        \n",
    "        \n",
    "        \n",
    "    \n",
    "    "
   ]
  },
  {
   "cell_type": "code",
   "execution_count": 6,
   "metadata": {},
   "outputs": [],
   "source": [
    "url1 = \"https://www.indiatoday.in/top-stories\""
   ]
  },
  {
   "cell_type": "code",
   "execution_count": 7,
   "metadata": {},
   "outputs": [],
   "source": [
    "data1 = requests.get(url1)"
   ]
  },
  {
   "cell_type": "code",
   "execution_count": 8,
   "metadata": {},
   "outputs": [
    {
     "name": "stdout",
     "output_type": "stream",
     "text": [
      "success\n"
     ]
    }
   ],
   "source": [
    "if data1.status_code == 200:\n",
    "    print('success')\n",
    "elif data1.status_code == 404:\n",
    "    print('page not found')\n",
    "elif data1.status_code == 500:\n",
    "    print('server error')"
   ]
  },
  {
   "cell_type": "code",
   "execution_count": 9,
   "metadata": {},
   "outputs": [],
   "source": [
    "soup1 = BeautifulSoup(data1.text)"
   ]
  },
  {
   "cell_type": "code",
   "execution_count": 11,
   "metadata": {},
   "outputs": [],
   "source": [
    "rows1 = soup1.findAll('div', { 'class' : 'catagory-listing' })"
   ]
  },
  {
   "cell_type": "code",
   "execution_count": 12,
   "metadata": {},
   "outputs": [
    {
     "data": {
      "text/plain": [
       "12"
      ]
     },
     "execution_count": 12,
     "metadata": {},
     "output_type": "execute_result"
    }
   ],
   "source": [
    "len(rows1)"
   ]
  },
  {
   "cell_type": "code",
   "execution_count": 13,
   "metadata": {},
   "outputs": [
    {
     "name": "stdout",
     "output_type": "stream",
     "text": [
      "<title>Top Headlines: News Headlines, Top News, India, Sports, Business, Politics, Entertainment, Celebrities, Lifestyle, Exclusive stories</title>\n",
      "Top Headlines: News Headlines, Top News, India, Sports, Business, Politics, Entertainment, Celebrities, Lifestyle, Exclusive stories\n"
     ]
    }
   ],
   "source": [
    "print(soup1.title)\n",
    "print(soup1.title.string)"
   ]
  },
  {
   "cell_type": "code",
   "execution_count": 14,
   "metadata": {},
   "outputs": [
    {
     "name": "stdout",
     "output_type": "stream",
     "text": [
      "<a href=\"/movies/bollywood/story/vicky-kaushal-bhumi-pednekar-kiara-advani-s-govinda-naam-mera-first-looks-out-film-to-release-in-june-2022-1875880-2021-11-12\">Vicky Kaushal, Bhumi Pednekar, Kiara Advani's Govinda Naam Mera first looks out. Film to release in June 2022</a>\n",
      "https://akm-img-a-in.tosshub.com/indiatoday/images/story/202111/vicky_(1).png?7WTYZiynCnAac1LSQJOjgvqYDaD8ath1&size=170:96\n",
      "<p>Fans are in for a treat as Vicky Kaushal, Bhumi Pednekar and Kiara Advani\n",
      "join hands for their next film, Govinda Naam Mera. The film will release in\n",
      "June 2022.</p>\n",
      "<a href=\"/india/story/suspended-kafeel-khan-dismissed-brd-hospital-infant-death-case-1875895-2021-11-12\">4 years, 2 suspensions &amp; 2 jail terms later, Dr Kafeel Khan 'dismissed' from service</a>\n",
      "https://akm-img-a-in.tosshub.com/indiatoday/images/story/202111/Kafeel_Khan_1200x768.jpeg?qvoCFKr4_fazki19XhJS9fBgKD0zH4lX&size=170:96\n",
      "<p>In a video posted online, Kafeel Khan could be heard saying that he will move\n",
      "the high court or the Supreme Court as soon as he gets his official\n",
      "termination letter.</p>\n",
      "<a href=\"/india/story/bangladeshis-killed-cattle-smuggling-bid-international-border-bsf-1875889-2021-11-12\">2 Bangladeshis killed during cattle smuggling bid along International Border: BSF</a>\n",
      "https://akm-img-a-in.tosshub.com/indiatoday/images/story/202111/bangla.jpg?mKGbAFArSToDidI8ZP0S7EmMIv9YRCaC&size=170:96\n",
      "<p>Two Bangladeshis were killed during cattle smuggling bid along the\n",
      "International Border in West Bengal's Coochbehar district, a BSF spokesperson\n",
      "said.</p>\n",
      "<a href=\"/sports/cricket/story/matthew-hayden-on-virat-kohli-and-babar-azam-they-are-opposites-the-way-i-look-at-it-1875872-2021-11-12\">Hayden on Kohli and Babar: They are opposites the way I look at it</a>\n",
      "https://akm-img-a-in.tosshub.com/indiatoday/images/story/202111/kohli_babar_reuters_1200x768.png?gaf3Qmaj7BQ_GoJjRlbpo71JsJ1bdsAx&size=170:96\n",
      "<p>Matthew Hayden said that while Babar Azam is \"very stable\" and \"not overly\n",
      "flamboyant\", Virat Kohli is \"very passionate, and very boisterous on the\n",
      "field\". He also said that Babar is still young as a captain but is a quick\n",
      "learner.</p>\n",
      "<a href=\"/trending-news/story/nora-fatehi-shares-viral-video-of-3-girls-dancing-to-her-satyameva-jayate-2-song-kusu-kusu-1875878-2021-11-12\">Nora Fatehi shares viral video of 3 girls dancing to her song Kusu Kusu</a>\n",
      "https://akm-img-a-in.tosshub.com/indiatoday/images/story/202111/no.jpg?os9kLHW3zIZUKMisZZ1g6cXeRylKrLjD&size=170:96\n",
      "<p>The dance clip, originally shared by Uday Singh, a participant of Dance\n",
      "Deewane season 3 was reposted by Nora Fatehi on Instagram.</p>\n",
      "<a href=\"/india/story/karnataka-bitcoin-scam-accused-hacked-jan-dhan-accounts-kumaraswamy-1875877-2021-11-12\">Bitcoin scam accused hacked Jan Dhan accounts, transferred Rs 6,000 crore: Kumaraswamy</a>\n",
      "https://akm-img-a-in.tosshub.com/indiatoday/images/story/202111/HD_Kumaraswamy.jpeg?CKb1If_UIp7tJ82FDvB6K3tPdZXx5ZhT&size=170:96\n",
      "<p>Former Karnataka Chief Minister HD Kumaraswamy alleged that the accused in\n",
      "the Bitcoin scam hacked into Jan Dhan accounts. The scam has jostled the\n",
      "Karnataka government.</p>\n",
      "<a href=\"/movies/celebrities/story/aryan-khan-will-have-a-quiet-birthday-with-his-family-in-mannat-1875875-2021-11-12\">Aryan Khan will have a quiet birthday with his family in Mannat</a>\n",
      "https://akm-img-a-in.tosshub.com/indiatoday/images/story/202111/ezgif-3-6966aeab4dd6_1200x768.jpeg?tkbYotQIVUthtzL3uLptTwzW1NtibemO&size=170:96\n",
      "<p>Aryan Khan is celebrating his 24th birthday today, November 12. He will have\n",
      "a quiet birthday celebration with his family at his home, Mannat.</p>\n",
      "<a href=\"/india/story/sachin-pilot-meet-sonia-gandhi-discuss-rajasthan-cabinet-reshuffle-up-polls-1875873-2021-11-12\">Sachin Pilot to meet Sonia Gandhi today, likely to discuss Rajasthan cabinet reshuffle</a>\n",
      "https://akm-img-a-in.tosshub.com/indiatoday/images/story/202111/Sachin_Pilot_PTI_1200x768.jpeg?Fu7S1ty8jDkzVzDNedxSsY63lxlkaDKQ&size=170:96\n",
      "<p>Congress leader Sachin Pilot will meet party president Sonia Gandhi today in\n",
      "Delhi and is likely to discuss the impending cabinet reshuffle in Rajasthan.</p>\n",
      "<a href=\"/binge-watch/story/into-the-wild-with-bear-grylls-and-vicky-kaushal-uri-star-dives-in-with-high-josh-1875869-2021-11-12\">Into The Wild With Bear Grylls and Vicky Kaushal: Uri star dives in with high Josh</a>\n",
      "https://akm-img-a-in.tosshub.com/indiatoday/images/story/202111/pjimage_20.jpg?8Ei59KmQkqxsv.3yNHc4_NMPY4Maeu79&size=170:96\n",
      "<p>In the latest episode of Into The Wild's, Vicky Kaushal joined Bear Grylls\n",
      "for an adventure in the Indian Ocean. The thrill-filled episode premieres\n",
      "today, November 12 on discovery+.</p>\n",
      "<a href=\"/movies/celebrities/story/janhvi-khushi-kapoor-take-over-dubai-in-bikinis-see-pics-1875867-2021-11-12\">Janhvi, Khushi Kapoor take over Dubai in bikinis. See pics</a>\n",
      "https://akm-img-a-in.tosshub.com/indiatoday/images/story/202111/janhvi_(19).png?BUVR0VdYU2bJd3VJ6VPxCl8VfHgbPPOp&size=170:96\n",
      "<p>Janhvi and Khushi Kapoor are currently taking a vacation in Dubai. The\n",
      "sisters shared gorgeous pictures in bikinis from their vacation on social\n",
      "media.</p>\n",
      "<a href=\"/lifestyle/celebrity/story/uk-court-will-take-time-to-consider-meghan-markle-s-privacy-case-1875865-2021-11-12\">UK court will take time to consider Meghan Markle's privacy case</a>\n",
      "https://akm-img-a-in.tosshub.com/indiatoday/images/story/202111/WPBMLA3AV5P73KPIFZVGQFSQUY_1200x768.jpeg?AhHhqPDl8A0qqKumTVdfjeD4Xt9f0QYj&size=170:96\n",
      "<p>The Mail on Sunday newspaper is seeking to overturn a ruling that it breached\n",
      "Meghan Markle's privacy and copyright by publishing parts of a handwritten\n",
      "letter she wrote to her father Thomas Markle in August 2018, three months\n",
      "after her wedding to Prince Harry, Queen Elizabeth's grandson.</p>\n",
      "<a href=\"/movies/celebrities/story/on-aryan-khan-s-birthday-suhana-khan-shares-adorable-childhood-photo-with-cousins-1875864-2021-11-12\">On Aryan Khan's birthday, Suhana Khan shares adorable childhood photo with cousins</a>\n",
      "https://akm-img-a-in.tosshub.com/indiatoday/images/story/202111/BeFunky-collage_25.jpg?DdjVsGV00fWCkw9dwTlZMFZFtSTWYZjn&size=170:96\n",
      "<p>On Aryan Khan's birthday today, November 12, his sister Suhana Khan shared an\n",
      "adorable childhood photo with him. The picture was initially posted by their\n",
      "cousin Alia Chhiba.</p>\n"
     ]
    }
   ],
   "source": [
    "for row in rows1:\n",
    "        print(row.find('a'))\n",
    "        print(row.find('img').attrs.get('src'))\n",
    "        print(row.find('p'))"
   ]
  },
  {
   "cell_type": "code",
   "execution_count": 15,
   "metadata": {},
   "outputs": [
    {
     "name": "stdout",
     "output_type": "stream",
     "text": [
      " Vicky Kaushal, Bhumi Pednekar, Kiara Advani's Govinda Naam Mera first looks out. Film to release in June 2022Fans are in for a treat as Vicky Kaushal, Bhumi Pednekar and Kiara Advani\n",
      "join hands for their next film, Govinda Naam Mera. The film will release in\n",
      "June 2022.\n",
      "\n",
      "\n",
      "<img alt=\"\" data-preview-url=\"\" src=\"https://akm-img-a-in.tosshub.com/indiatoday/images/story/202111/vicky_(1).png?7WTYZiynCnAac1LSQJOjgvqYDaD8ath1&amp;size=170:96\" title=\"\"/>\n",
      "\n",
      "\n",
      "<p>Fans are in for a treat as Vicky Kaushal, Bhumi Pednekar and Kiara Advani\n",
      "join hands for their next film, Govinda Naam Mera. The film will release in\n",
      "June 2022.</p>\n",
      "\n",
      "\n",
      " 4 years, 2 suspensions & 2 jail terms later, Dr Kafeel Khan 'dismissed' from serviceIn a video posted online, Kafeel Khan could be heard saying that he will move\n",
      "the high court or the Supreme Court as soon as he gets his official\n",
      "termination letter.\n",
      "\n",
      "\n",
      "<img alt=\"\" data-preview-url=\"\" src=\"https://akm-img-a-in.tosshub.com/indiatoday/images/story/202111/Kafeel_Khan_1200x768.jpeg?qvoCFKr4_fazki19XhJS9fBgKD0zH4lX&amp;size=170:96\" title=\"\"/>\n",
      "\n",
      "\n",
      "<p>In a video posted online, Kafeel Khan could be heard saying that he will move\n",
      "the high court or the Supreme Court as soon as he gets his official\n",
      "termination letter.</p>\n",
      "\n",
      "\n",
      " 2 Bangladeshis killed during cattle smuggling bid along International Border: BSFTwo Bangladeshis were killed during cattle smuggling bid along the\n",
      "International Border in West Bengal's Coochbehar district, a BSF spokesperson\n",
      "said.\n",
      "\n",
      "\n",
      "<img alt=\"\" data-preview-url=\"\" src=\"https://akm-img-a-in.tosshub.com/indiatoday/images/story/202111/bangla.jpg?mKGbAFArSToDidI8ZP0S7EmMIv9YRCaC&amp;size=170:96\" title=\"\"/>\n",
      "\n",
      "\n",
      "<p>Two Bangladeshis were killed during cattle smuggling bid along the\n",
      "International Border in West Bengal's Coochbehar district, a BSF spokesperson\n",
      "said.</p>\n",
      "\n",
      "\n",
      " Hayden on Kohli and Babar: They are opposites the way I look at itMatthew Hayden said that while Babar Azam is \"very stable\" and \"not overly\n",
      "flamboyant\", Virat Kohli is \"very passionate, and very boisterous on the\n",
      "field\". He also said that Babar is still young as a captain but is a quick\n",
      "learner.\n",
      "\n",
      "\n",
      "<img class=\"lazyloaded\" data-preview-url=\"\" height=\"96\" src=\"https://akm-img-a-in.tosshub.com/indiatoday/images/story/202111/kohli_babar_reuters_1200x768.png?gaf3Qmaj7BQ_GoJjRlbpo71JsJ1bdsAx&amp;size=170:96\" width=\"170\"/>\n",
      "\n",
      "\n",
      "<p>Matthew Hayden said that while Babar Azam is \"very stable\" and \"not overly\n",
      "flamboyant\", Virat Kohli is \"very passionate, and very boisterous on the\n",
      "field\". He also said that Babar is still young as a captain but is a quick\n",
      "learner.</p>\n",
      "\n",
      "\n",
      " Nora Fatehi shares viral video of 3 girls dancing to her song Kusu KusuThe dance clip, originally shared by Uday Singh, a participant of Dance\n",
      "Deewane season 3 was reposted by Nora Fatehi on Instagram.\n",
      "\n",
      "\n",
      "<img class=\"lazyloaded\" data-preview-url=\"\" height=\"96\" src=\"https://akm-img-a-in.tosshub.com/indiatoday/images/story/202111/no.jpg?os9kLHW3zIZUKMisZZ1g6cXeRylKrLjD&amp;size=170:96\" width=\"170\"/>\n",
      "\n",
      "\n",
      "<p>The dance clip, originally shared by Uday Singh, a participant of Dance\n",
      "Deewane season 3 was reposted by Nora Fatehi on Instagram.</p>\n",
      "\n",
      "\n",
      " Bitcoin scam accused hacked Jan Dhan accounts, transferred Rs 6,000 crore: KumaraswamyFormer Karnataka Chief Minister HD Kumaraswamy alleged that the accused in\n",
      "the Bitcoin scam hacked into Jan Dhan accounts. The scam has jostled the\n",
      "Karnataka government.\n",
      "\n",
      "\n",
      "<img class=\"lazyloaded\" data-preview-url=\"\" height=\"96\" src=\"https://akm-img-a-in.tosshub.com/indiatoday/images/story/202111/HD_Kumaraswamy.jpeg?CKb1If_UIp7tJ82FDvB6K3tPdZXx5ZhT&amp;size=170:96\" width=\"170\"/>\n",
      "\n",
      "\n",
      "<p>Former Karnataka Chief Minister HD Kumaraswamy alleged that the accused in\n",
      "the Bitcoin scam hacked into Jan Dhan accounts. The scam has jostled the\n",
      "Karnataka government.</p>\n",
      "\n",
      "\n",
      " Aryan Khan will have a quiet birthday with his family in MannatAryan Khan is celebrating his 24th birthday today, November 12. He will have\n",
      "a quiet birthday celebration with his family at his home, Mannat.\n",
      "\n",
      "\n",
      "<img class=\"lazyloaded\" data-preview-url=\"\" height=\"96\" src=\"https://akm-img-a-in.tosshub.com/indiatoday/images/story/202111/ezgif-3-6966aeab4dd6_1200x768.jpeg?tkbYotQIVUthtzL3uLptTwzW1NtibemO&amp;size=170:96\" width=\"170\"/>\n",
      "\n",
      "\n",
      "<p>Aryan Khan is celebrating his 24th birthday today, November 12. He will have\n",
      "a quiet birthday celebration with his family at his home, Mannat.</p>\n",
      "\n",
      "\n",
      " Sachin Pilot to meet Sonia Gandhi today, likely to discuss Rajasthan cabinet reshuffleCongress leader Sachin Pilot will meet party president Sonia Gandhi today in\n",
      "Delhi and is likely to discuss the impending cabinet reshuffle in Rajasthan.\n",
      "\n",
      "\n",
      "<img class=\"lazyloaded\" data-preview-url=\"\" height=\"96\" src=\"https://akm-img-a-in.tosshub.com/indiatoday/images/story/202111/Sachin_Pilot_PTI_1200x768.jpeg?Fu7S1ty8jDkzVzDNedxSsY63lxlkaDKQ&amp;size=170:96\" width=\"170\"/>\n",
      "\n",
      "\n",
      "<p>Congress leader Sachin Pilot will meet party president Sonia Gandhi today in\n",
      "Delhi and is likely to discuss the impending cabinet reshuffle in Rajasthan.</p>\n",
      "\n",
      "\n",
      " Into The Wild With Bear Grylls and Vicky Kaushal: Uri star dives in with high JoshIn the latest episode of Into The Wild's, Vicky Kaushal joined Bear Grylls\n",
      "for an adventure in the Indian Ocean. The thrill-filled episode premieres\n",
      "today, November 12 on discovery+.\n",
      "\n",
      "\n",
      "<img class=\"lazyloaded\" data-preview-url=\"\" height=\"96\" src=\"https://akm-img-a-in.tosshub.com/indiatoday/images/story/202111/pjimage_20.jpg?8Ei59KmQkqxsv.3yNHc4_NMPY4Maeu79&amp;size=170:96\" width=\"170\"/>\n",
      "\n",
      "\n",
      "<p>In the latest episode of Into The Wild's, Vicky Kaushal joined Bear Grylls\n",
      "for an adventure in the Indian Ocean. The thrill-filled episode premieres\n",
      "today, November 12 on discovery+.</p>\n",
      "\n",
      "\n",
      " Janhvi, Khushi Kapoor take over Dubai in bikinis. See picsJanhvi and Khushi Kapoor are currently taking a vacation in Dubai. The\n",
      "sisters shared gorgeous pictures in bikinis from their vacation on social\n",
      "media.\n",
      "\n",
      "\n",
      "<img class=\"lazyloaded\" data-preview-url=\"\" height=\"96\" src=\"https://akm-img-a-in.tosshub.com/indiatoday/images/story/202111/janhvi_(19).png?BUVR0VdYU2bJd3VJ6VPxCl8VfHgbPPOp&amp;size=170:96\" width=\"170\"/>\n",
      "\n",
      "\n",
      "<p>Janhvi and Khushi Kapoor are currently taking a vacation in Dubai. The\n",
      "sisters shared gorgeous pictures in bikinis from their vacation on social\n",
      "media.</p>\n",
      "\n",
      "\n",
      " UK court will take time to consider Meghan Markle's privacy caseThe Mail on Sunday newspaper is seeking to overturn a ruling that it breached\n",
      "Meghan Markle's privacy and copyright by publishing parts of a handwritten\n",
      "letter she wrote to her father Thomas Markle in August 2018, three months\n",
      "after her wedding to Prince Harry, Queen Elizabeth's grandson.\n",
      "\n",
      "\n",
      "<img class=\"lazyloaded\" data-preview-url=\"\" height=\"96\" src=\"https://akm-img-a-in.tosshub.com/indiatoday/images/story/202111/WPBMLA3AV5P73KPIFZVGQFSQUY_1200x768.jpeg?AhHhqPDl8A0qqKumTVdfjeD4Xt9f0QYj&amp;size=170:96\" width=\"170\"/>\n",
      "\n",
      "\n",
      "<p>The Mail on Sunday newspaper is seeking to overturn a ruling that it breached\n",
      "Meghan Markle's privacy and copyright by publishing parts of a handwritten\n",
      "letter she wrote to her father Thomas Markle in August 2018, three months\n",
      "after her wedding to Prince Harry, Queen Elizabeth's grandson.</p>\n",
      "\n",
      "\n",
      " On Aryan Khan's birthday, Suhana Khan shares adorable childhood photo with cousinsOn Aryan Khan's birthday today, November 12, his sister Suhana Khan shared an\n",
      "adorable childhood photo with him. The picture was initially posted by their\n",
      "cousin Alia Chhiba.\n",
      "\n",
      "\n",
      "<img class=\"lazyloaded\" data-preview-url=\"\" height=\"96\" src=\"https://akm-img-a-in.tosshub.com/indiatoday/images/story/202111/BeFunky-collage_25.jpg?DdjVsGV00fWCkw9dwTlZMFZFtSTWYZjn&amp;size=170:96\" width=\"170\"/>\n",
      "\n",
      "\n",
      "<p>On Aryan Khan's birthday today, November 12, his sister Suhana Khan shared an\n",
      "adorable childhood photo with him. The picture was initially posted by their\n",
      "cousin Alia Chhiba.</p>\n",
      "\n",
      "\n"
     ]
    }
   ],
   "source": [
    "for i in rows1:\n",
    "    print(i.text)\n",
    "    print('\\n')\n",
    "    print(i.img)\n",
    "    print('\\n')\n",
    "    print(i.p)\n",
    "    print('\\n')"
   ]
  },
  {
   "cell_type": "code",
   "execution_count": 16,
   "metadata": {},
   "outputs": [],
   "source": [
    "data = requests.get('https://timesofindia.indiatimes.com/news')"
   ]
  },
  {
   "cell_type": "code",
   "execution_count": 21,
   "metadata": {},
   "outputs": [
    {
     "name": "stdout",
     "output_type": "stream",
     "text": [
      "success\n"
     ]
    },
    {
     "data": {
      "text/plain": [
       "[{'heading': <a class=\"w_img\" href=\"/entertainment/hindi/bollywood/news/aryan-khan-to-have-a-quiet-birthday-celebration-with-family-at-mannat-this-year/articleshow/87661612.cms\" pg=\"-entertainment/hindi/bollywood/news#Story_View-1-geturl\" title=\"Aryan to have a ‘quiet’ b'day with family\"><img alt=\"Aryan to have a ‘quiet’ b'day with family\" data-src=\"https://static.toiimg.com/thumb/imgsize-27506,msid-87661568,width-150,resizemode-4/87661568.jpg\" pg=\"-entertainment/hindi/bollywood/news#Story_View-1-geturl\" src=\"https://static.toiimg.com/photo/34824568.cms\"/></a>,\n",
       "  'image': 'https://static.toiimg.com/photo/34824568.cms',\n",
       "  'summary': None},\n",
       " {'heading': <a class=\"w_img\" href=\"/entertainment/hindi/bollywood/news/ahead-of-his-wedding-with-katrina-kaif-vicky-kaushal-talks-about-the-qualities-he-wants-in-his-future-wife/articleshow/87658164.cms\" pg=\"-entertainment/hindi/bollywood/news#Story_View-2-geturl\" title=\"Vicky on the qualities he wants in a wife\"><img alt=\"Vicky on the qualities he wants in a wife\" data-src=\"https://static.toiimg.com/photo/87658164.cms\" pg=\"-entertainment/hindi/bollywood/news#Story_View-2-geturl\" src=\"https://static.toiimg.com/photo/34824568.cms\"/></a>,\n",
       "  'image': 'https://static.toiimg.com/photo/34824568.cms',\n",
       "  'summary': None},\n",
       " {'heading': <a class=\"w_img\" href=\"/entertainment/hindi/bollywood/news/mallika-sherawat-recalls-her-fight-with-murder-co-star-emraan-hashmi-calls-it-childish/articleshow/87661813.cms\" pg=\"-entertainment/hindi/bollywood/news#Story_View-3-geturl\" title=\"Mallika recalls her fight with Emraan\"><img alt=\"Mallika recalls her fight with Emraan\" data-src=\"https://static.toiimg.com/photo/87661813.cms\" pg=\"-entertainment/hindi/bollywood/news#Story_View-3-geturl\" src=\"https://static.toiimg.com/photo/34824568.cms\"/></a>,\n",
       "  'image': 'https://static.toiimg.com/photo/34824568.cms',\n",
       "  'summary': None},\n",
       " {'heading': <a class=\"w_img\" href=\"/entertainment/hindi/bollywood/news/arjun-kapoor-i-want-to-be-a-part-of-the-industry-for-another-90-years-this-is-just-the-starting-point/articleshow/87659309.cms\" pg=\"-entertainment/hindi/bollywood/news#Story_View-4-geturl\" title=\"Arjun Kapoor on his future in the industry\"><img alt=\"Arjun Kapoor on his future in the industry\" data-src=\"https://static.toiimg.com/thumb/imgsize-52268,msid-87659316,width-150,resizemode-4/87659316.jpg\" pg=\"-entertainment/hindi/bollywood/news#Story_View-4-geturl\" src=\"https://static.toiimg.com/photo/34824568.cms\"/></a>,\n",
       "  'image': 'https://static.toiimg.com/photo/34824568.cms',\n",
       "  'summary': None},\n",
       " {'heading': <a class=\"w_img\" href=\"/web-series/reviews/hindi/special-ops-1-5/season-1/articleshow/87281389.cms\" pg=\"-web-series/reviews/hindi/special-ops-1-5#Story_View-5-geturl\" title=\"Review: Special Ops 1.5 Season 1- 3.0/5\"><img alt=\"Review: Special Ops 1.5 Season 1- 3.0/5\" data-src=\"https://static.toiimg.com/thumb/imgsize-59043,msid-87281150,width-150,resizemode-4/87281150.jpg\" pg=\"-web-series/reviews/hindi/special-ops-1-5#Story_View-5-geturl\" src=\"https://static.toiimg.com/photo/34824568.cms\"/><i class=\"iconvideo\"></i></a>,\n",
       "  'image': 'https://static.toiimg.com/photo/34824568.cms',\n",
       "  'summary': None}]"
      ]
     },
     "execution_count": 21,
     "metadata": {},
     "output_type": "execute_result"
    }
   ],
   "source": [
    "data = requests.get('https://timesofindia.indiatimes.com/news')\n",
    "if data.status_code == 200:\n",
    "    print('success')\n",
    "elif data.status_code == 404:\n",
    "    print('page not found')\n",
    "elif data.status_code == 500:\n",
    "    print('server error')\n",
    "\n",
    "soup = BeautifulSoup(data.text)\n",
    "\n",
    "rows = soup.find('ul',{'class': 'cvs_wdt'}).findAll('li')\n",
    "newsdata = []\n",
    "for row in rows:\n",
    "    detail={}\n",
    "    detail['heading']=row.find('a').text\n",
    "    detail['image']=row.find('img').attrs.get('src')\n",
    "    detail['summary']=row.find('span', { 'class' : 'w_desc' })\n",
    "    newsdata.append(detail)\n",
    "\n",
    "newsdata"
   ]
  },
  {
   "cell_type": "code",
   "execution_count": null,
   "metadata": {},
   "outputs": [],
   "source": []
  }
 ],
 "metadata": {
  "interpreter": {
   "hash": "5334c72a8ba9d1e109c86958d2c23a84ecbfd50c07315bc902cebb9991757b75"
  },
  "kernelspec": {
   "display_name": "Python 3.9.7 64-bit",
   "name": "python3"
  },
  "language_info": {
   "codemirror_mode": {
    "name": "ipython",
    "version": 3
   },
   "file_extension": ".py",
   "mimetype": "text/x-python",
   "name": "python",
   "nbconvert_exporter": "python",
   "pygments_lexer": "ipython3",
   "version": "3.9.7"
  },
  "orig_nbformat": 4
 },
 "nbformat": 4,
 "nbformat_minor": 2
}
